{
 "cells": [
  {
   "cell_type": "markdown",
   "metadata": {},
   "source": [
    "# Analysis of Bank Customer Churn"
   ]
  },
  {
   "cell_type": "markdown",
   "metadata": {},
   "source": [
    "Recently, the bank has experienced an increase in customer churn. Previously, churn analysis was conducted, dashboards were created, and segments were identified, but the customer base has since changed, rendering current solutions ineffective. The client for this analysis is the bank's marketing department, which needs to identify customer segments with the highest churn rates. The marketing department plans to send out targeted communications to customers in these identified segments. Since the mailing process is not automated and is done manually, the identified segments should ensure a highly targeted approach and not be too large."
   ]
  },
  {
   "cell_type": "markdown",
   "metadata": {},
   "source": [
    "**Research Objective:** Identify the reasons for customer churn in the bank and formulate recommendations for the marketing department to retain these customers."
   ]
  },
  {
   "cell_type": "markdown",
   "metadata": {},
   "source": [
    "**Research Tasks:**\n",
    "\n",
    "- Assess the suitability of the initial data for further analysis and conduct data preprocessing.\n",
    "- Analyze the presence of value/characteristic intervals that distinguish churned clients.\n",
    "- Perform a correlation analysis of the data.\n",
    "- Create profiles of customers who are likely and unlikely to leave the bank.\n",
    "- Formulate and test hypotheses about statistically significant differences between the characteristics of churned and retained customers.\n",
    "- Identify customer segments with churn rates higher than the bank's average based on the exploratory data analysis.\n",
    "- Formulate recommendations for the marketing department to retain customers from the identified segments."
   ]
  },
  {
   "cell_type": "markdown",
   "metadata": {},
   "source": [
    "## Summary of the Analysis Results"
   ]
  },
  {
   "cell_type": "markdown",
   "metadata": {},
   "source": [
    "Based on the analysis of the distribution of continuous and categorical features, the following churn intervals and criteria were identified (ranked in order of significance according to the `phik` correlation analysis method):\n",
    "\n",
    "- Number of properties owned: 3 or more\n",
    "- Customer activity: active during the evaluated time period\n",
    "- Number of bank products used by the customer: 3 or more\n",
    "- Credit score points: from 820 to 920 (peaking around 850-900 points)\n",
    "- Gender: male\n",
    "- Bank credit card: absent\n",
    "- Age: from 25 to 35 years, from 50 to 60 years\n",
    "- Estimated salary: from 85 to 230 thousand\n",
    "- City of residence: Yaroslavl\n",
    "- Account balance: over 750 thousand\n",
    "\n",
    "The hypothesis testing showed that even relatively small differences, such as 1.5 years in age or about 7000 in salary, are statistically significant and can be considered when segmenting customers.\n",
    "\n",
    "Three user groups were identified based on the segmentation results, and it is proposed that the marketing department should work with these groups to reduce the customer churn rate:\n",
    "\n",
    "Segment 1 – Balance over 750k, no credit card, active – Recommendation: Offer a specialized travel credit card.\n",
    "\n",
    "Segment 2 – Male clients, aged 50-60 years, using more than one bank product – Recommendation: Offer special conditions (cashback, discounts) on construction and gardening materials/tools and leisure products.\n",
    "\n",
    "Segment 3 – Credit score of 850-900 points, residing in Yaroslavl, owning more than 3 properties – Recommendation: Offer a discount on insurance products when insuring more than one property object."
   ]
  },
  {
   "cell_type": "markdown",
   "metadata": {},
   "source": [
    "## Data Overview"
   ]
  },
  {
   "cell_type": "markdown",
   "metadata": {},
   "source": [
    "Installing the `phik` library."
   ]
  },
  {
   "cell_type": "code",
   "execution_count": null,
   "metadata": {},
   "outputs": [],
   "source": [
    "!pip install phik "
   ]
  },
  {
   "cell_type": "markdown",
   "metadata": {},
   "source": [
    "Importing the necessary libraries for data analysis:"
   ]
  },
  {
   "cell_type": "code",
   "execution_count": null,
   "metadata": {},
   "outputs": [],
   "source": [
    "import pandas as pd\n",
    "import seaborn as sns\n",
    "import matplotlib.pyplot as plt\n",
    "import phik\n",
    "import numpy as np\n",
    "from phik import resources, report\n",
    "from phik.report import plot_correlation_matrix\n",
    "from scipy import stats as st\n",
    "import json\n",
    "from IPython.display import display, HTML"
   ]
  },
  {
   "cell_type": "markdown",
   "metadata": {},
   "source": [
    "Reading the file `bank_scrooge.csv` with the data (the path to the data is stored in a JSON file) and saving it in the variable `data`:"
   ]
  },
  {
   "cell_type": "code",
   "execution_count": null,
   "metadata": {},
   "outputs": [],
   "source": [
    "# Чтение JSON файла\n",
    "with open('config.json', 'r', encoding='utf-8') as f:\n",
    "    config = json.load(f)\n",
    " \n",
    "# Чтение CSV файла с использованием пути из JSON\n",
    "dataset_path_bank_analysis = config['dataset_path_bank_analysis']\n",
    "data = pd.read_csv(dataset_path_bank_analysis)"
   ]
  },
  {
   "cell_type": "markdown",
   "metadata": {},
   "source": [
    "Removing the restrictions on displaying the number of columns, rows, and column width."
   ]
  },
  {
   "cell_type": "code",
   "execution_count": null,
   "metadata": {},
   "outputs": [],
   "source": [
    "pd.set_option('display.max_rows', None)\n",
    "pd.set_option('display.max_columns', None)\n",
    "pd.set_option('display.max_colwidth', None)"
   ]
  },
  {
   "cell_type": "markdown",
   "metadata": {},
   "source": [
    "Displaying the first 5 rows and the main information about the dataframe `data` on the screen."
   ]
  },
  {
   "cell_type": "code",
   "execution_count": null,
   "metadata": {},
   "outputs": [],
   "source": [
    "data.head()"
   ]
  },
  {
   "cell_type": "code",
   "execution_count": null,
   "metadata": {},
   "outputs": [],
   "source": [
    "data.info()"
   ]
  },
  {
   "cell_type": "markdown",
   "metadata": {},
   "source": [
    "The original dataframe contains 10,000 rows with information about bank customers. However, data on age (`age`) and account balance (`balance`) is missing for some customers."
   ]
  },
  {
   "cell_type": "markdown",
   "metadata": {},
   "source": [
    "## Data Processing"
   ]
  },
  {
   "cell_type": "markdown",
   "metadata": {},
   "source": [
    "Since the dataframe is planned to be used for in-depth data analysis, we will perform data preprocessing."
   ]
  },
  {
   "cell_type": "markdown",
   "metadata": {},
   "source": [
    "### Column name validation"
   ]
  },
  {
   "cell_type": "markdown",
   "metadata": {},
   "source": [
    "To proceed, we'll convert the column names in the dataframe to lowercase and add underscores between words in the column names:"
   ]
  },
  {
   "cell_type": "code",
   "execution_count": null,
   "metadata": {},
   "outputs": [],
   "source": [
    "data.columns = ['user_id', \n",
    "                'score', \n",
    "                'city', \n",
    "                'gender', \n",
    "                'age', \n",
    "                'equity', \n",
    "                'balance', \n",
    "                'products', \n",
    "                'credit_card', \n",
    "                'last_activity', \n",
    "                'est_salary', \n",
    "                'churn']"
   ]
  },
  {
   "cell_type": "code",
   "execution_count": null,
   "metadata": {
    "scrolled": true
   },
   "outputs": [],
   "source": [
    "data.head()"
   ]
  },
  {
   "cell_type": "markdown",
   "metadata": {},
   "source": [
    "### Checking for Duplicates and Handling Them"
   ]
  },
  {
   "cell_type": "markdown",
   "metadata": {},
   "source": [
    "Let's check for explicit duplicates:"
   ]
  },
  {
   "cell_type": "code",
   "execution_count": null,
   "metadata": {},
   "outputs": [],
   "source": [
    "data.duplicated().sum()"
   ]
  },
  {
   "cell_type": "markdown",
   "metadata": {},
   "source": [
    "Explicit duplicates are absent in the dataframe. To check for implicit duplicates, let's first write a function that outputs unique values for the columns passed to it. We will pass columns where values represent categories and may contain typos:"
   ]
  },
  {
   "cell_type": "code",
   "execution_count": null,
   "metadata": {},
   "outputs": [],
   "source": [
    "def print_unique_values(df, columns):\n",
    "    for column in columns:\n",
    "        if column in df.columns:\n",
    "            unique_values = df[column].unique()\n",
    "            print(f\"Unique values for column '{column}':\")\n",
    "            print(unique_values)\n",
    "            print()\n",
    "        else:\n",
    "            print(f\"Column '{column}' not found in DataFrame.\\n\")\n",
    "\n",
    "columns = ['city', 'gender', 'equity', 'products', 'credit_card', 'last_activity', 'churn']\n",
    "print_unique_values(data, columns)"
   ]
  },
  {
   "cell_type": "markdown",
   "metadata": {},
   "source": [
    "Typos in the data for the columns listed above are absent; however, it is worth noting that some clients have 0 listed for the number of banking products they use. Let's display these clients:"
   ]
  },
  {
   "cell_type": "code",
   "execution_count": null,
   "metadata": {},
   "outputs": [],
   "source": [
    "data.loc[data['products'] == 0]"
   ]
  },
  {
   "cell_type": "markdown",
   "metadata": {},
   "source": [
    "There is information about only one client in the dataframe who does not use any banking products. Since this client also does not have a credit card, has no recent activity, and is marked as churned, we can consider this row as an outlier and remove it from the dataframe."
   ]
  },
  {
   "cell_type": "code",
   "execution_count": null,
   "metadata": {},
   "outputs": [],
   "source": [
    "data = data.loc[data['products'] != 0]"
   ]
  },
  {
   "cell_type": "markdown",
   "metadata": {},
   "source": [
    "Translating the data in `city' and 'gender' columns into English:"
   ]
  },
  {
   "cell_type": "code",
   "execution_count": null,
   "metadata": {},
   "outputs": [],
   "source": [
    "translations = {\n",
    "    'Рыбинск': 'Rybinsk',\n",
    "    'Ярославль': 'Yaroslavl',\n",
    "    'Ростов': 'Rostov'\n",
    "}\n",
    "\n",
    "data['city'] = data['city'].map(translations)"
   ]
  },
  {
   "cell_type": "code",
   "execution_count": null,
   "metadata": {},
   "outputs": [],
   "source": [
    "translations1 = {\n",
    "    'М': 'M',\n",
    "    'Ж': 'F'\n",
    "}\n",
    "\n",
    "data['gender'] = data['gender'].map(translations1)"
   ]
  },
  {
   "cell_type": "markdown",
   "metadata": {},
   "source": [
    "Let's now check for duplicates among the user identification numbers."
   ]
  },
  {
   "cell_type": "code",
   "execution_count": null,
   "metadata": {},
   "outputs": [],
   "source": [
    "data.duplicated(subset = ['user_id']).sum()"
   ]
  },
  {
   "cell_type": "markdown",
   "metadata": {},
   "source": [
    "73 duplicates were found in the `user_id` column. Let's display them to identify any patterns:"
   ]
  },
  {
   "cell_type": "code",
   "execution_count": null,
   "metadata": {},
   "outputs": [],
   "source": [
    "# Assigning duplicates in the 'user_id' column to a variable\n",
    "duplicates_mask = data.duplicated(subset=['user_id'], keep=False)\n",
    "\n",
    "# Filtering duplicates and displaying them as a dataframe\n",
    "duplicates_df = data[duplicates_mask]\n",
    "duplicates_df = duplicates_df.sort_values(by=['user_id', 'city'])\n",
    "duplicates_df.head(10)"
   ]
  },
  {
   "cell_type": "markdown",
   "metadata": {},
   "source": [
    "Based on the analysis of the data above, it can be concluded that clients with identical `user_id` values are different individuals, as their credit scores, gender, age, and other metrics vary. The duplication of data in the `user_id` column occurs in two of the bank's branches – in the cities of Yaroslavl and Rybinsk. This information should be communicated to the client to prevent data duplication and related issues for the bank's operators/clients in the future."
   ]
  },
  {
   "cell_type": "markdown",
   "metadata": {},
   "source": [
    "### Data Coding"
   ]
  },
  {
   "cell_type": "markdown",
   "metadata": {},
   "source": [
    "To analyze later the correlation between numerical and categorical unordered features, we will use `pandas.get_dummies()`:"
   ]
  },
  {
   "cell_type": "code",
   "execution_count": null,
   "metadata": {},
   "outputs": [],
   "source": [
    "# Creating copies of the original columns\n",
    "data['gender_code'] = data['gender']\n",
    "data['city_code'] = data['city']\n",
    "\n",
    "# Performing encoding on the selected columns\n",
    "data = pd.get_dummies(data, columns=['gender_code', 'city_code'])\n",
    "\n",
    "# Renaming the new columns\n",
    "data.rename(columns={'gender_code_F': 'gender_F', \n",
    "                     'gender_code_M': 'gender_M', \n",
    "                     'city_code_Rostov': 'Rostov',\n",
    "                     'city_code_Rybinsk': 'Rybinsk',\n",
    "                     'city_code_Yaroslavl': 'Yaroslavl'}, inplace=True)\n",
    "\n",
    "# Displaying the first five rows of the dataframe for verification\n",
    "data.head()"
   ]
  },
  {
   "cell_type": "markdown",
   "metadata": {},
   "source": [
    "### Analysis of Missing Values, Handling Missing Data"
   ]
  },
  {
   "cell_type": "markdown",
   "metadata": {},
   "source": [
    "Upon reviewing the general information about the DataFrame, it was found that there are missing values in the columns `age` and `balance`. The number of missing values in the age column is less than 1% (26 out of 9999 records). We will display these missing values in a table:"
   ]
  },
  {
   "cell_type": "code",
   "execution_count": null,
   "metadata": {
    "scrolled": true
   },
   "outputs": [],
   "source": [
    "age_missed = data.loc[data['age'].isna()]\n",
    "\n",
    "age_missed_st = f'''\n",
    "<div style=\"max-height:200px; overflow:auto;\">\n",
    "    {age_missed.to_html(index=False)}\n",
    "</div>\n",
    "'''\n",
    "\n",
    "display(HTML(age_missed_st))"
   ]
  },
  {
   "cell_type": "markdown",
   "metadata": {},
   "source": [
    "In the displayed rows, no obvious pattern was found between the missing values in the `age` column and other data in the DataFrame. We will use the `corr()` method to check if there is any correlation between the missing values in the `age` column and other client characteristics:"
   ]
  },
  {
   "cell_type": "code",
   "execution_count": null,
   "metadata": {
    "scrolled": true
   },
   "outputs": [],
   "source": [
    "# Creating a column with boolean values indicating the presence or absence of missing values in the 'age' column\n",
    "data['age_missing'] = data['age'].isnull().astype(int)\n",
    "\n",
    "# Dropping the 'user_id' column as it does not provide useful information for correlation, \n",
    "# and also dropping the 'age' column\n",
    "data_for_corr_a = data.drop(columns=['user_id', 'age'])\n",
    "\n",
    "# Selecting only numerical columns\n",
    "data_for_corr_a_numeric = data_for_corr_a.select_dtypes(include=[float, int])\n",
    "\n",
    "# Computing the correlation matrix\n",
    "correlation_matrix = data_for_corr_a_numeric.corr()\n",
    "\n",
    "# Extracting the 'age_missing' row, sorting by correlation values, and transposing the table for easier viewing\n",
    "age_missing_row = correlation_matrix.loc['age_missing'].sort_values(ascending=True).to_frame().T\n",
    "\n",
    "# Rounding the values to two decimal places\n",
    "age_missing_row = age_missing_row.round(2)\n",
    "\n",
    "# Creating a heatmap\n",
    "plt.figure(figsize=(15, 15))\n",
    "sns.heatmap(age_missing_row, \n",
    "            square=True, \n",
    "            annot=True, \n",
    "            cmap='coolwarm', \n",
    "            cbar_kws={'orientation': 'horizontal'}, \n",
    "            center=0)\n",
    "\n",
    "# Customizing the plot\n",
    "plt.title('Correlation of Missing Age Data with Other Features')\n",
    "plt.xlabel('Features')\n",
    "plt.ylabel('Missing Age Data')\n",
    "plt.xticks(rotation=90, ha='right')\n",
    "plt.show()"
   ]
  },
  {
   "cell_type": "markdown",
   "metadata": {},
   "source": [
    "According to the Chedoke scale, there is no even weak correlation between missing age data and other client characteristics. Thus, the correlation analysis did not reveal any dependence of client age on their other characteristics."
   ]
  },
  {
   "cell_type": "markdown",
   "metadata": {},
   "source": [
    "Let's display a histogram of the age distribution of clients:"
   ]
  },
  {
   "cell_type": "code",
   "execution_count": null,
   "metadata": {},
   "outputs": [],
   "source": [
    "data['age'].hist(bins=25)\n",
    "plt.title('Distribution of Clients by Age')\n",
    "plt.xlabel('Age')\n",
    "plt.ylabel('Frequency'); "
   ]
  },
  {
   "cell_type": "markdown",
   "metadata": {},
   "source": [
    "It can be concluded that these missing values fall into the `MCAR (Missing Completely at Random)` category. Since other data in the rows are present, to preserve them in the DataFrame, we will fill in the missing values with median values (to minimize the impact of outliers, as, for example, there are very few clients older than 75 years, whose data could significantly affect the average age)."
   ]
  },
  {
   "cell_type": "code",
   "execution_count": null,
   "metadata": {},
   "outputs": [],
   "source": [
    "data['age'] = data['age'].fillna(data['age'].median())"
   ]
  },
  {
   "cell_type": "markdown",
   "metadata": {},
   "source": [
    "Now let's look at the missing values in the `balance` column. There are significantly more of them—about 23% (2249/9999)."
   ]
  },
  {
   "cell_type": "code",
   "execution_count": null,
   "metadata": {},
   "outputs": [],
   "source": [
    "balance_missed = data.loc[data['balance'].isna()]\n",
    "\n",
    "balance_missed_st = f'''\n",
    "<div style=\"max-height:200px; overflow:auto;\">\n",
    "    {balance_missed.to_html(index=False)}\n",
    "</div>\n",
    "'''\n",
    "\n",
    "display(HTML(balance_missed_st))"
   ]
  },
  {
   "cell_type": "markdown",
   "metadata": {},
   "source": [
    "We will also check if there are clients with a zero balance in the main DataFrame:"
   ]
  },
  {
   "cell_type": "code",
   "execution_count": null,
   "metadata": {
    "scrolled": true
   },
   "outputs": [],
   "source": [
    "data.loc[data['balance'] == 0]"
   ]
  },
  {
   "cell_type": "markdown",
   "metadata": {},
   "source": [
    "For the `balance` parameter, we will also display the correlation matrix of missing values with other client characteristics to identify any relationships:"
   ]
  },
  {
   "cell_type": "code",
   "execution_count": null,
   "metadata": {},
   "outputs": [],
   "source": [
    "# Creating a column with boolean values indicating the presence or absence of missing values in the 'balance' column\n",
    "data['balance_missing'] = data['balance'].isnull().astype(int)\n",
    "\n",
    "# Dropping the 'user_id' column as it does not provide useful information for correlation, \n",
    "# and also dropping the 'balance' column\n",
    "data_for_corr_b = data.drop(columns=['user_id', 'balance'])\n",
    "\n",
    "# Selecting only numeric columns\n",
    "data_for_corr_b_numeric = data_for_corr_b.select_dtypes(include=[float, int])\n",
    "\n",
    "# Computing the correlation matrix\n",
    "correlation_matrix_b = data_for_corr_b_numeric.corr()\n",
    "\n",
    "# Extracting the 'balance_missing' row, sorting by correlation values, and transposing the table for better display\n",
    "balance_missing_row = correlation_matrix_b.loc['balance_missing'].sort_values(ascending=True).to_frame().T\n",
    "\n",
    "# Rounding values to two decimal places\n",
    "balance_missing_row = balance_missing_row.round(2)\n",
    "\n",
    "# Creating a heatmap\n",
    "plt.figure(figsize=(15, 15))\n",
    "sns.heatmap(balance_missing_row, \n",
    "            square=True, \n",
    "            annot=True, \n",
    "            cmap='coolwarm', \n",
    "            cbar_kws={'orientation': 'horizontal'}, \n",
    "            center=0)\n",
    "\n",
    "# Customizing the plot\n",
    "plt.title('Correlation of Missing Balance Data with Other Features')\n",
    "plt.xlabel('Features')\n",
    "plt.ylabel('Presence of Balance \\n Missing Data')\n",
    "plt.xticks(rotation=90, ha='right')\n",
    "plt.show()"
   ]
  },
  {
   "cell_type": "markdown",
   "metadata": {},
   "source": [
    "Among the clients for whom the balance data is missing, there are clients of all categories: both men and women, clients with high and low ratings, clients of various ages, from all three cities, using different numbers of products, both active and inactive, and both churned and non-churned. The only common factor is that none of them own more than one property, and most have zero property listed. However, most clients without balance data remain bank customers."
   ]
  },
  {
   "cell_type": "markdown",
   "metadata": {},
   "source": [
    "According to the results of the correlation analysis, the strongest (and negative) correlation for the balance feature is with the `equity` feature, with a correlation coefficient of -0.71. According to the Chedok scale, such a relationship is considered strong (ranging from 0.7 to 0.9)."
   ]
  },
  {
   "cell_type": "markdown",
   "metadata": {},
   "source": [
    "Overall, the missing values in the balance column can be characterized as `MNAR (Missing Not at Random)` — the missingness depends on the data. However, without additional justification, it is not possible to impute these missing values based on the current data in the DataFrame. Additionally, we cannot assume that all clients without a specified balance have a zero balance (a zero balance is explicitly stated in the DataFrame). Since the volume of data with missing balance values is significant (23%), we will retain these missing values in the DataFrame."
   ]
  },
  {
   "cell_type": "markdown",
   "metadata": {},
   "source": [
    "### Data Type Consistency Check"
   ]
  },
  {
   "cell_type": "markdown",
   "metadata": {},
   "source": [
    "Values in the columns `score` and `age` are integers but are currently of type `float`. We will convert the data types in these columns to match their content."
   ]
  },
  {
   "cell_type": "code",
   "execution_count": null,
   "metadata": {},
   "outputs": [],
   "source": [
    "data['score'] = data['score'].astype(int)\n",
    "data['age'] = data['age'].astype(int)"
   ]
  },
  {
   "cell_type": "markdown",
   "metadata": {},
   "source": [
    "Based on the data preprocessing results, it can be concluded that the provided dataframe exhibits relative data completeness, with no explicit duplicates. It is worth noting that two of the bank's branches (Yaroslavl and Rybinsk) have duplicate customer identification numbers, which may complicate operators' work and lead to errors. As part of the data preprocessing, column names were standardized to lowercase and uniform formatting, and the data type was changed to `int` for columns containing integer values. Missing values in the `age` column (less than 1% of the data) were replaced with the median value, while missing values in the `balance` column (23%) were left unchanged, though a boolean column was added to indicate the presence or absence of balance data for clients. Additionally, categorical unordered data columns were encoded with boolean values for further use in correlation analysis."
   ]
  },
  {
   "cell_type": "markdown",
   "metadata": {},
   "source": [
    "## Data Analysis"
   ]
  },
  {
   "cell_type": "markdown",
   "metadata": {},
   "source": [
    "First, let's reflect on the number of clients who have churned and those who have remained, both in percentage and absolute terms:"
   ]
  },
  {
   "cell_type": "code",
   "execution_count": null,
   "metadata": {},
   "outputs": [],
   "source": [
    "# Counting the number of each category in the 'churn' column\n",
    "churn_counts = data['churn'].value_counts()\n",
    "\n",
    "# Defining labels and values\n",
    "labels = churn_counts.index\n",
    "sizes = churn_counts.values\n",
    "\n",
    "# Defining percentage values for labels\n",
    "percentages = [f'{label} - {size}' for label, size in zip(labels, sizes)]\n",
    "\n",
    "# Creating a figure for the bar chart\n",
    "plt.figure(figsize=(10, 6))\n",
    "\n",
    "# Creating the bar chart\n",
    "bars = plt.bar(labels, sizes, color=['steelblue', 'darkorange'])\n",
    "\n",
    "# Adding labels inside the bars\n",
    "for bar, label in zip(bars, ['Stayed', 'Churned']):\n",
    "    yval = bar.get_height()\n",
    "    plt.text(bar.get_x() + bar.get_width()/2, yval/2, f'{label}\\n{yval} ({yval / sum(sizes) * 100:.1f}%)', \n",
    "             ha='center', va='center', color='white', weight='bold')\n",
    "\n",
    "# Adding title and axis labels\n",
    "plt.title('Distribution of Clients by Churn Status')\n",
    "plt.xlabel('Churn Status')\n",
    "plt.ylabel('Number of Clients')\n",
    "\n",
    "# Showing the plot\n",
    "plt.show()"
   ]
  },
  {
   "cell_type": "markdown",
   "metadata": {},
   "source": [
    "### Analysis of Distribution for Continuous Features"
   ]
  },
  {
   "cell_type": "markdown",
   "metadata": {},
   "source": [
    "First, we will create histograms for the columns with continuous data — `score`, `age`, `balance`, and `est_salary`. The histograms will reflect the data by churn status (churned/stayed). Since the number of retained clients is more than four times greater than the number of churned clients, we will adjust for this difference in size in the histograms."
   ]
  },
  {
   "cell_type": "markdown",
   "metadata": {},
   "source": [
    "**Score**"
   ]
  },
  {
   "cell_type": "code",
   "execution_count": null,
   "metadata": {},
   "outputs": [],
   "source": [
    "# Setting the size of the histogram\n",
    "plt.figure(figsize=(10, 6))\n",
    "\n",
    "# Creating a histogram with normalized densities for each group\n",
    "sns.histplot(data=data, x='score', hue='churn', kde=True, \n",
    "             stat=\"density\", common_norm=False, \n",
    "             palette={0: 'blue', 1: 'red'}, \n",
    "             alpha=0.5,\n",
    "             bins=35)\n",
    "\n",
    "# Adding title and axis labels\n",
    "plt.title('Distribution of Credit Scores for Churned and Retained Clients')\n",
    "plt.xlabel('Credit Score')\n",
    "plt.ylabel('Density')\n",
    "plt.legend(title='Status', labels=['Churned', 'Retained'])\n",
    "\n",
    "# Show the plot\n",
    "plt.show()"
   ]
  },
  {
   "cell_type": "markdown",
   "metadata": {},
   "source": [
    "According to the histogram, clients with credit scores below 820 are more likely to stay with the bank. **Clients with credit scores ranging from 820 to 920 are the most likely to churn**. It can be hypothesized that clients with relatively low scores may not feel financially secure enough to switch banks, while clients with scores above 920 have been with the bank for a long time and are satisfied with the terms. Clients with average scores, on the other hand, are somewhat confident in their financial situation and might seek better conditions at other banks, but they are not as loyal to the current bank because they receive fewer benefits compared to those with the highest scores."
   ]
  },
  {
   "cell_type": "markdown",
   "metadata": {},
   "source": [
    "**Age**"
   ]
  },
  {
   "cell_type": "code",
   "execution_count": null,
   "metadata": {},
   "outputs": [],
   "source": [
    "# Setting the size of the histogram\n",
    "plt.figure(figsize=(10, 6))\n",
    "\n",
    "# Plotting the histogram with normalized densities for each group\n",
    "sns.histplot(data=data, x='age', hue='churn', kde=True, \n",
    "             stat=\"density\", common_norm=False, \n",
    "             palette={0: 'blue', 1: 'red'}, \n",
    "             alpha=0.5, \n",
    "             bins=35)\n",
    "\n",
    "# Adding title and axis labels\n",
    "plt.title('Age Distribution of Churned and Retained Clients')\n",
    "plt.xlabel('Client Age')\n",
    "plt.ylabel('Density')\n",
    "plt.legend(title='Status', labels=['Churned', 'Retained'])\n",
    "\n",
    "# Show the plot\n",
    "plt.show()"
   ]
  },
  {
   "cell_type": "markdown",
   "metadata": {},
   "source": [
    "In this histogram, it should be noted that **clients aged 50 to 60 years are the most prone to churn**. Additionally, younger clients in the age range of 25 to 35 years (the largest group) are also more likely to churn. On the other hand, the proportion of churned clients decreases in the age ranges of 35 to 50 years and above 60 years. It can be inferred that the bank likely offers attractive options for retirees but may have fewer appealing offers for clients with significant accumulated capital, who are often in the 50-60 age range."
   ]
  },
  {
   "cell_type": "markdown",
   "metadata": {},
   "source": [
    "**Balance**"
   ]
  },
  {
   "cell_type": "code",
   "execution_count": null,
   "metadata": {},
   "outputs": [],
   "source": [
    "# Setting the size of the histogram\n",
    "plt.figure(figsize=(10, 6))\n",
    "\n",
    "# Creating a histogram with normalized densities for each group\n",
    "sns.histplot(data=data, x='balance', hue='churn', kde=True, \n",
    "             stat=\"density\", common_norm=False, \n",
    "             palette={0: 'blue', 1: 'red'}, \n",
    "             alpha=0.5)\n",
    "\n",
    "# Adding title and axis labels\n",
    "plt.title('Distribution of Balance for Churned and Retained Clients')\n",
    "plt.xlabel('Balance')\n",
    "plt.ylabel('Frequency of Values')\n",
    "plt.legend(title='Status', labels=['Churned', 'Retained'])\n",
    "\n",
    "# Showing the plot\n",
    "plt.show()"
   ]
  },
  {
   "cell_type": "code",
   "execution_count": null,
   "metadata": {},
   "outputs": [],
   "source": [
    "# Calculating the percentage of data loss for clients with a given account balance\n",
    "percentage = (data.loc[data['balance'] > 4000000]['balance'].count() / data['balance'].count()) * 100\n",
    "percentage_rounded = round(percentage, 2)\n",
    "print(f'Percentage of data loss: {percentage_rounded} %')\n",
    "\n",
    "# Calculating the share of these data from the total account balance\n",
    "balance_share = (data.loc[data['balance'] > 4000000]['balance'].sum() / data['balance'].sum()) * 100\n",
    "balance_rounded = round(balance_share, 2)\n",
    "print(f'Share of the total balance: {balance_rounded} %')"
   ]
  },
  {
   "cell_type": "markdown",
   "metadata": {},
   "source": [
    "When constructing the histogram, significant outliers were detected. The balance of 1.5% of clients with amounts exceeding 4 million represents almost 17% of the total balance, which could lead to significant influence from outliers in further analysis. Therefore, it was decided to discard the data for clients with balances over 4 million and rebuild the histogram."
   ]
  },
  {
   "cell_type": "code",
   "execution_count": null,
   "metadata": {},
   "outputs": [],
   "source": [
    "data_filtered = data.loc[data['balance'] <= 4000000]"
   ]
  },
  {
   "cell_type": "code",
   "execution_count": null,
   "metadata": {},
   "outputs": [],
   "source": [
    "# Setting the size of the histogram\n",
    "plt.figure(figsize=(10, 6))\n",
    "\n",
    "# Plotting histogram with normalized densities for each group\n",
    "sns.histplot(data=data_filtered, x='balance', hue='churn', kde=True, \n",
    "             stat=\"density\", common_norm=False, \n",
    "             palette={0: 'blue', 1: 'red'}, \n",
    "             alpha=0.5, \n",
    "             bins=35)\n",
    "\n",
    "# Adding title and axis labels\n",
    "plt.title('Distribution of Balance for Churned and Retained Clients')\n",
    "plt.xlabel('Balance')\n",
    "plt.ylabel('Density')\n",
    "plt.legend(title='Status', labels=['Churned', 'Retained'])\n",
    "\n",
    "# Displaying the plot\n",
    "plt.show()"
   ]
  },
  {
   "cell_type": "markdown",
   "metadata": {},
   "source": [
    "**Clients with a balance exceeding 750,000 have a higher tendency to churn** compared to other clients. Clients whose balance does not exceed the aforementioned amount are consistently more likely to show loyalty to their chosen bank."
   ]
  },
  {
   "cell_type": "markdown",
   "metadata": {},
   "source": [
    "**Est_salary (estimated salary)**"
   ]
  },
  {
   "cell_type": "code",
   "execution_count": null,
   "metadata": {},
   "outputs": [],
   "source": [
    "# Setting the size of the histogram\n",
    "plt.figure(figsize=(10, 6))\n",
    "\n",
    "# Plotting histogram with normalized densities for each group\n",
    "sns.histplot(data=data, x='est_salary', hue='churn', kde=True, \n",
    "             stat=\"density\", common_norm=False, \n",
    "             palette={0: 'blue', 1: 'red'}, \n",
    "             alpha=0.5)\n",
    "\n",
    "# Adding title and axis labels\n",
    "plt.title('Distribution of Estimated Salary for Churned and Retained Clients')\n",
    "plt.xlabel('Client Salary')\n",
    "plt.ylabel('Density')\n",
    "plt.legend(title='Status', labels=['Churned', 'Retained'])\n",
    "\n",
    "# Show the plot\n",
    "plt.show()"
   ]
  },
  {
   "cell_type": "code",
   "execution_count": null,
   "metadata": {},
   "outputs": [],
   "source": [
    "# Calculating the percentage of data loss for a given salary value\n",
    "percentage_salary = (data.loc[data['est_salary'] > 400000]['est_salary'].count() / data['est_salary'].count()) * 100\n",
    "percentage_salary_rounded = round(percentage_salary, 2)\n",
    "print(f'Data loss percentage: {percentage_salary_rounded} %')\n",
    "\n",
    "# Calculating the share of these data from the total salary amount\n",
    "salary_share = (data.loc[data['est_salary'] > 400000]['est_salary'].sum() / data['est_salary'].sum()) * 100\n",
    "salary_share_rounded = round(salary_share, 2)\n",
    "print(f'Share of total data: {salary_share_rounded} %')"
   ]
  },
  {
   "cell_type": "markdown",
   "metadata": {},
   "source": [
    "In the salary distribution data, outliers are also observed. In the original dataset, just over 3% of clients earn more than 17% of the total salary amount. We will remove data for these clients by adding filtering conditions to the dataframe and then rebuild the histogram."
   ]
  },
  {
   "cell_type": "code",
   "execution_count": null,
   "metadata": {},
   "outputs": [],
   "source": [
    "data_filtered = data.loc[data['est_salary'] <= 400000]"
   ]
  },
  {
   "cell_type": "code",
   "execution_count": null,
   "metadata": {},
   "outputs": [],
   "source": [
    "# Setting the size of the histogram\n",
    "plt.figure(figsize=(10, 6))\n",
    "\n",
    "# Plotting the histogram with normalized densities for each group\n",
    "sns.histplot(data=data_filtered, x='est_salary', hue='churn', kde=True, \n",
    "             stat=\"density\", common_norm=False, \n",
    "             palette={0: 'blue', 1: 'red'}, \n",
    "             alpha=0.5, \n",
    "             bins=35)\n",
    "\n",
    "# Adding title and axis labels\n",
    "plt.title('Distribution of Estimated Salary for Churned and Retained Clients')\n",
    "plt.xlabel('Client Salary')\n",
    "plt.ylabel('Density')\n",
    "\n",
    "# Showing the plot\n",
    "plt.show()"
   ]
  },
  {
   "cell_type": "markdown",
   "metadata": {},
   "source": [
    "**Clients with a salary approximately between 85,000 and 230,000 are more likely to churn**. Clients who presumably earn less than this amount each month are generally more likely to remain loyal to their chosen bank, although it is worth noting that the difference in this indicator is not very significant."
   ]
  },
  {
   "cell_type": "markdown",
   "metadata": {},
   "source": [
    "### Analysis of Distribution for Categorical Features"
   ]
  },
  {
   "cell_type": "markdown",
   "metadata": {},
   "source": [
    "Now, let's analyze the distribution for categorical features, which are represented in the columns `city`, `gender`, `equity`, `products`, `credit_card`, `last_activity`, and `balance_stated`."
   ]
  },
  {
   "cell_type": "markdown",
   "metadata": {},
   "source": [
    "**City (the branch location of the bank to which the client belongs)**"
   ]
  },
  {
   "cell_type": "code",
   "execution_count": null,
   "metadata": {},
   "outputs": [],
   "source": [
    "# Calculating the overall churn rate for the bank\n",
    "overall_churn_rate = data_filtered['churn'].mean()\n",
    "\n",
    "# Function to create a churn level bar chart\n",
    "def plot_churn_by_feature(data, feature, overall_churn_rate):\n",
    "    plt.figure(figsize=(10, 6))\n",
    "    sns.barplot(x=feature, y='churn', data=data, color='#4f81bd', errorbar=None)\n",
    "    plt.axhline(overall_churn_rate, color='red', linestyle='--')\n",
    "    plt.title(f'Customer Churn Rate by {feature} Value')\n",
    "    plt.xlabel(f'{feature} Distribution')\n",
    "    plt.ylabel('Churn Rate')\n",
    "    plt.show()\n",
    "\n",
    "# Example function call for a specific column\n",
    "plot_churn_by_feature(data_filtered, 'city', overall_churn_rate)"
   ]
  },
  {
   "cell_type": "markdown",
   "metadata": {},
   "source": [
    "The customer churn rate in Yaroslavl is higher than the bank's average, in Rostov it is approximately equal to the average value, while in Rybinsk it is lower than the bank's average and the other two branches."
   ]
  },
  {
   "cell_type": "markdown",
   "metadata": {},
   "source": [
    "**Gender**"
   ]
  },
  {
   "cell_type": "code",
   "execution_count": null,
   "metadata": {},
   "outputs": [],
   "source": [
    "plot_churn_by_feature(data_filtered, 'gender', overall_churn_rate)"
   ]
  },
  {
   "cell_type": "markdown",
   "metadata": {},
   "source": [
    "Male customers are significantly more prone to churn compared to female customers. The churn rate for men also significantly exceeds the bank's average rate."
   ]
  },
  {
   "cell_type": "markdown",
   "metadata": {},
   "source": [
    "**Equity**"
   ]
  },
  {
   "cell_type": "code",
   "execution_count": null,
   "metadata": {},
   "outputs": [],
   "source": [
    "plot_churn_by_feature(data_filtered, 'equity', overall_churn_rate)"
   ]
  },
  {
   "cell_type": "markdown",
   "metadata": {},
   "source": [
    "Customers who own three or more assets are more prone to churn compared to the bank's average. With the exception of one case, generally, the more assets a customer owns, the lower their loyalty to the bank."
   ]
  },
  {
   "cell_type": "markdown",
   "metadata": {},
   "source": [
    "**Products (the number of bank products used by the customer)**"
   ]
  },
  {
   "cell_type": "code",
   "execution_count": null,
   "metadata": {},
   "outputs": [],
   "source": [
    "plot_churn_by_feature(data_filtered, 'products', overall_churn_rate)"
   ]
  },
  {
   "cell_type": "markdown",
   "metadata": {},
   "source": [
    "The highest churn rate is observed among customers using 4 bank products. Additionally, the churn rate is above the bank's average for customers with 3 and 5 products, while customers with 2 products have a churn rate close to the average. It can be inferred that among customers with just one product, there is a significant proportion of salary account holders."
   ]
  },
  {
   "cell_type": "markdown",
   "metadata": {},
   "source": [
    "**Credit_card (whether the customer has a credit card: 1 - yes, 0 - no)**"
   ]
  },
  {
   "cell_type": "code",
   "execution_count": null,
   "metadata": {},
   "outputs": [],
   "source": [
    "plot_churn_by_feature(data_filtered, 'credit_card', overall_churn_rate)"
   ]
  },
  {
   "cell_type": "markdown",
   "metadata": {},
   "source": [
    "Customers without credit cards are more likely to churn compared to those who have them."
   ]
  },
  {
   "cell_type": "markdown",
   "metadata": {},
   "source": [
    "**Last_activity (customer activity over a fixed period: 1 - active, 0 - inactive)**"
   ]
  },
  {
   "cell_type": "code",
   "execution_count": null,
   "metadata": {},
   "outputs": [],
   "source": [
    "plot_churn_by_feature(data_filtered, 'last_activity', overall_churn_rate)"
   ]
  },
  {
   "cell_type": "markdown",
   "metadata": {},
   "source": [
    "The churn rate among active customers is higher than the average, while it is lower among inactive customers. It can be assumed that among the inactive customers there are both those who have opened a banking product but do not use it and those who use long-term products, such as long-term deposits."
   ]
  },
  {
   "cell_type": "markdown",
   "metadata": {},
   "source": [
    "**Balance_missing (missing balance information for the client: 1 - balance data is missing, 0 - balance data is provided)**"
   ]
  },
  {
   "cell_type": "code",
   "execution_count": null,
   "metadata": {},
   "outputs": [],
   "source": [
    "plot_churn_by_feature(data_filtered, 'balance_missing', overall_churn_rate)"
   ]
  },
  {
   "cell_type": "markdown",
   "metadata": {},
   "source": [
    "Clients for whom balance data is missing are almost not prone to churn; the overwhelming majority of churned clients have their balance explicitly indicated in the dataframe."
   ]
  },
  {
   "cell_type": "markdown",
   "metadata": {},
   "source": [
    "### Correlation Analysis"
   ]
  },
  {
   "cell_type": "markdown",
   "metadata": {},
   "source": [
    "Let's construct the correlation matrix of the other features with the churn feature using the `corr()` method."
   ]
  },
  {
   "cell_type": "code",
   "execution_count": null,
   "metadata": {},
   "outputs": [],
   "source": [
    "# Filtering only numerical columns, removing the 'user_id' column\n",
    "numeric_data = data_filtered.drop(columns=['user_id']).select_dtypes(include=[float, int])\n",
    "\n",
    "# Computing the correlation matrix\n",
    "corr_m = numeric_data.corr()\n",
    "\n",
    "# Extracting correlation of the 'churn' column with other columns\n",
    "corr_churn = corr_m['churn']\n",
    "\n",
    "# Sorting the correlation values in descending order\n",
    "corr_churn = corr_churn.sort_values()\n",
    "\n",
    "# Transposing the table for better display\n",
    "corr_churn = corr_churn.to_frame().T\n",
    "\n",
    "# Rounding the values to two decimal places\n",
    "corr_churn = corr_churn.round(2)\n",
    "\n",
    "# Creating a figure for the heatmap\n",
    "plt.figure(figsize=(15, 6))\n",
    "\n",
    "# Drawing the heatmap with a horizontal color bar\n",
    "sns.heatmap(corr_churn, square=True, annot=True, cmap='coolwarm', cbar_kws={'orientation': 'horizontal'}, center=0)\n",
    "\n",
    "# Setting up the plot\n",
    "plt.title('Correlation of Churn with Other Features (corr() method)')\n",
    "plt.xlabel('Features')\n",
    "plt.ylabel('Churn')\n",
    "\n",
    "# Showing the plot\n",
    "plt.show()"
   ]
  },
  {
   "cell_type": "markdown",
   "metadata": {},
   "source": [
    "Let's construct the correlation matrix of the other features with the churn feature using the `phik()` method."
   ]
  },
  {
   "cell_type": "code",
   "execution_count": null,
   "metadata": {},
   "outputs": [],
   "source": [
    "# Calculating the 'phik' matrix\n",
    "phik_overview = data_filtered.drop(columns=['user_id']).phik_matrix(interval_cols=['age', \n",
    "                                                                                   'score', \n",
    "                                                                                   'balance', \n",
    "                                                                                   'est_salary'])"
   ]
  },
  {
   "cell_type": "code",
   "execution_count": null,
   "metadata": {},
   "outputs": [],
   "source": [
    "# Extracting the 'churn' row and sort by correlation values, transposing the table for better display\n",
    "churn_row = phik_overview.loc['churn'].sort_values(ascending=True).to_frame().T\n",
    "\n",
    "# Rounding the values to two decimal places\n",
    "churn_row = churn_row.round(2)\n",
    "\n",
    "# Creating a figure for the heatmap\n",
    "plt.figure(figsize=(15, 15))\n",
    "sns.heatmap(churn_row, square=True, annot=True, cmap='coolwarm', cbar_kws={'orientation': 'horizontal'}, center=0)\n",
    "\n",
    "# Setting up the plot\n",
    "plt.title('Correlation of Churn with Other Features (phik() method)')\n",
    "plt.xlabel('Features')\n",
    "plt.ylabel('Churn')\n",
    "plt.xticks(rotation=90, ha='right')\n",
    "plt.show()"
   ]
  },
  {
   "cell_type": "markdown",
   "metadata": {},
   "source": [
    "The order of correlation between features differs between the two matrices, but common trends can be observed. The top four features influencing customer churn in both matrices are the presence of balance information (`balance_missing`, negative correlation), number of equity units (`equity`), customer activity (`last_activity`), and number of bank products used by the customer (`products`).\n",
    "\n",
    "If we rely on the correlation matrix built using the `phik()` method, the quality of the correlation between individual parameters and customer churn can be characterized on the Cheddock scale as follows:\n",
    "\n",
    "- No very high, high, or significant correlations are observed;\n",
    "- Moderate correlation (0.3-0.5) with churn is found for `balance_missing` and `equity`;\n",
    "- Weak correlation (0.1-0.3) with churn is found for `last_activity`, `products`, `score`, `gender`, `credit_card`, and `age`."
   ]
  },
  {
   "cell_type": "markdown",
   "metadata": {},
   "source": [
    "### Creating a Customer Profile in Terms of Churn"
   ]
  },
  {
   "cell_type": "markdown",
   "metadata": {},
   "source": [
    "Let's create a customer profile in terms of churn and also calculate the relative difference between churned and non-churned customers."
   ]
  },
  {
   "cell_type": "code",
   "execution_count": null,
   "metadata": {},
   "outputs": [],
   "source": [
    "# Segments for 'Churned Customers' and 'Non-Churned Customers'\n",
    "churn_segment = data_filtered[data_filtered['churn'] == 1]\n",
    "non_churn_segment = data_filtered[data_filtered['churn'] == 0]\n",
    "\n",
    "# Function to calculate relative difference\n",
    "def calculate_relative_difference(value_churn, value_non_churn):\n",
    "    relative_difference = ((value_churn - value_non_churn) / value_non_churn * 100).round(2)\n",
    "    return f'{relative_difference} %'\n",
    "\n",
    "# Creating a DataFrame to collect results\n",
    "results = pd.DataFrame(columns=['Churned Customers', 'Non-Churned Customers', 'Relative Difference'])\n",
    "\n",
    "# Average credit score\n",
    "mean_score_churn = (churn_segment['score'].mean()).round(2)\n",
    "mean_score_non_churn = (non_churn_segment['score'].mean()).round(2)\n",
    "relative_difference_score = calculate_relative_difference(mean_score_churn, mean_score_non_churn)\n",
    "results.loc['Average Credit Score'] = [mean_score_churn, \n",
    "                                       mean_score_non_churn, \n",
    "                                       relative_difference_score]\n",
    "\n",
    "# Average age\n",
    "mean_age_churn = (churn_segment['age'].mean()).round(2)\n",
    "mean_age_non_churn = (non_churn_segment['age'].mean()).round(2)\n",
    "relative_difference_age = calculate_relative_difference(mean_age_churn, mean_age_non_churn)\n",
    "results.loc['Average Age'] = [mean_age_churn, \n",
    "                              mean_age_non_churn, \n",
    "                              relative_difference_age]\n",
    "\n",
    "# Average balance\n",
    "mean_balance_churn = (churn_segment['balance'].mean()).round(2)\n",
    "mean_balance_non_churn = (non_churn_segment['balance'].mean()).round(2)\n",
    "relative_difference_balance_mean = calculate_relative_difference(mean_balance_churn, mean_balance_non_churn)\n",
    "results.loc['Average Balance'] = [mean_balance_churn, \n",
    "                                   mean_balance_non_churn, \n",
    "                                   relative_difference_balance_mean]\n",
    "\n",
    "# Median balance\n",
    "median_balance_churn = (churn_segment['balance'].median()).round(2)\n",
    "median_balance_non_churn = (non_churn_segment['balance'].median()).round(2)\n",
    "relative_difference_balance_median = calculate_relative_difference(median_balance_churn, median_balance_non_churn)\n",
    "results.loc['Median Balance'] = [median_balance_churn, \n",
    "                                  median_balance_non_churn, \n",
    "                                  relative_difference_balance_median]\n",
    "\n",
    "# Average salary\n",
    "mean_salary_churn = (churn_segment['est_salary'].mean()).round(2)\n",
    "mean_salary_non_churn = (non_churn_segment['est_salary'].mean()).round(2)\n",
    "relative_difference_salary_mean = calculate_relative_difference(mean_salary_churn, mean_salary_non_churn)\n",
    "results.loc['Average Salary'] = [mean_salary_churn, \n",
    "                                  mean_salary_non_churn, \n",
    "                                  relative_difference_salary_mean]\n",
    "\n",
    "# Median salary\n",
    "median_salary_churn = (churn_segment['est_salary'].median()).round(2)\n",
    "median_salary_non_churn = (non_churn_segment['est_salary'].median()).round(2)\n",
    "relative_difference_salary_median = calculate_relative_difference(median_salary_churn, median_salary_non_churn)\n",
    "results.loc['Median Salary'] = [median_salary_churn, \n",
    "                                  median_salary_non_churn, \n",
    "                                  relative_difference_salary_median]\n",
    "\n",
    "# Median number of products\n",
    "median_products_churn = churn_segment['products'].median()\n",
    "median_products_non_churn = non_churn_segment['products'].median()\n",
    "relative_difference_products = calculate_relative_difference(median_products_churn, median_products_non_churn)\n",
    "results.loc['Median Number of Products'] = [median_products_churn, \n",
    "                                            median_products_non_churn, \n",
    "                                            relative_difference_products]\n",
    "\n",
    "# Median number of equity\n",
    "median_equity_churn = churn_segment['equity'].median()\n",
    "median_equity_non_churn = non_churn_segment['equity'].median()\n",
    "relative_difference_equity = calculate_relative_difference(median_equity_churn, median_equity_non_churn)\n",
    "results.loc['Median Number of Equity'] = [median_equity_churn, \n",
    "                                          median_equity_non_churn, \n",
    "                                          relative_difference_equity]\n",
    "\n",
    "# Mode of city\n",
    "mode_city_churn = churn_segment['city'].mode()[0]\n",
    "mode_city_non_churn = non_churn_segment['city'].mode()[0]\n",
    "results.loc['Mode of City'] = [mode_city_churn, mode_city_non_churn, '']\n",
    "\n",
    "# Mode of gender\n",
    "mode_gender_churn = churn_segment['gender'].mode()[0]\n",
    "mode_gender_non_churn = non_churn_segment['gender'].mode()[0]\n",
    "results.loc['Mode of Gender'] = [mode_gender_churn, mode_gender_non_churn, '']\n",
    "\n",
    "results"
   ]
  },
  {
   "cell_type": "markdown",
   "metadata": {},
   "source": [
    "Based on the resulting customer profile, it is evident that the largest gap between churned and non-churned customers is observed in parameters such as balance and amount of assets. It is also worth noting that men are more likely to leave the bank, while women are more likely to fall into the category of non-churned customers. One could say that the bank is not just facing an increase in customer churn: among the churned customers, the most affluent and reliable clients of the bank are predominant."
   ]
  },
  {
   "cell_type": "markdown",
   "metadata": {},
   "source": [
    "**Overall, based on the results of the exploratory data analysis**, it can be said that customer churn is most strongly influenced by parameters such as the amount of assets and the number of banking products the client has, as well as the client's activity.\n",
    "Attrition predominantly occurs among individuals with high credit scores, in the age ranges of 35 to 50 and 50 to 60 years, with a balance exceeding 750,000 and a salary ranging from 85,000 to 230,000.\n",
    "\n",
    "It is also worth noting that among those prone to attrition, the predominant characteristics are: men, customers whose bank branch is located in Yaroslavl, with three or more assets, using three or more banking products, not holding a credit card issued by the bank, and being active, meaning they have performed any transactions using banking products in the recent fixed period."
   ]
  },
  {
   "cell_type": "markdown",
   "metadata": {},
   "source": [
    "## Formulation and Testing of Statistical Hypotheses"
   ]
  },
  {
   "cell_type": "markdown",
   "metadata": {},
   "source": [
    "We will test two hypotheses regarding the presence of statistically significant differences in the average salaries and average ages between customers who have left the bank and those who have stayed."
   ]
  },
  {
   "cell_type": "markdown",
   "metadata": {},
   "source": [
    "### Testing the Hypothesis of Equal Salaries (with Justification for the Choice of Statistical Test)"
   ]
  },
  {
   "cell_type": "markdown",
   "metadata": {},
   "source": [
    "The average salary of customers who have left the bank is 132,410.31, while the average salary of customers who have stayed is 125,613.08. We will test the statistical significance of this difference.\n",
    "\n",
    "Since the salary distributions of customers who have left and those who have stayed are independent of each other, and the sample sizes are sufficiently large (7,893 who have left and 1,769 who have stayed), we could consider using a t-test to test the hypothesis of equality of means between the two populations based on these samples. However, we must first check for significant outliers in the filtered data, as the t-test is sensitive to them."
   ]
  },
  {
   "cell_type": "code",
   "execution_count": null,
   "metadata": {},
   "outputs": [],
   "source": [
    "# Creating a box plot\n",
    "plt.figure(figsize=(12, 6))\n",
    "sns.boxplot(x=data_filtered['est_salary'], color='steelblue')\n",
    "\n",
    "# Plotting settings\n",
    "plt.title('Box Plot of Salaries')\n",
    "plt.xlabel('Salary')\n",
    "\n",
    "# Showing the plot\n",
    "plt.show()"
   ]
  },
  {
   "cell_type": "markdown",
   "metadata": {},
   "source": [
    "Since the salary data still contains significant outliers, we will have to forgo the t-test in favor of the non-parametric Mann-Whitney U test (st.mannwhitneyu())."
   ]
  },
  {
   "cell_type": "markdown",
   "metadata": {},
   "source": [
    "**Null Hypothesis:** The average salaries of customers who have left the bank and those who have stayed are equal.\n",
    "\n",
    "**Alternative Hypothesis:** The average salaries of customers who have left the bank and those who have stayed are not equal."
   ]
  },
  {
   "cell_type": "code",
   "execution_count": null,
   "metadata": {},
   "outputs": [],
   "source": [
    "salary_churn = data_filtered.loc[data_filtered['churn'] == 1]['est_salary']\n",
    "salary_non_churn = data_filtered.loc[data_filtered['churn'] == 0]['est_salary']\n",
    "\n",
    "alpha = 0.05  # significance level\n",
    "# If the p-value is less than this, we will reject the null hypothesis\n",
    "\n",
    "results = st.mannwhitneyu(salary_churn, salary_non_churn)\n",
    "\n",
    "print('p-value: ', results.pvalue)\n",
    "\n",
    "if results.pvalue < alpha:\n",
    "    print('Reject the null hypothesis: the difference is statistically significant')\n",
    "else:\n",
    "    print('Failed to reject the null hypothesis: no conclusion about the difference can be made')"
   ]
  },
  {
   "cell_type": "markdown",
   "metadata": {},
   "source": [
    "Based on the results of the Mann-Whitney U test, we were able to reject the null hypothesis of equal average salaries between customers who have left the bank and those who have stayed. Therefore, there is a statistically significant difference between the average salaries of customers who have left and those who have stayed."
   ]
  },
  {
   "cell_type": "markdown",
   "metadata": {},
   "source": [
    "### Testing the Hypothesis of Equal Ages (with Justification for the Choice of Statistical Test)"
   ]
  },
  {
   "cell_type": "markdown",
   "metadata": {},
   "source": [
    "The average age of customers who have left the bank is 41.5 years, while the average age of customers who have stayed is 43 years. We will test whether this age difference between the two types of clients is statistically significant.\n",
    "\n",
    "Since the age distributions of customers who have left and those who have stayed are independent of each other, and the sample sizes are sufficiently large (7,893 who have left and 1,769 who have stayed), we need to first check for significant outliers in the filtered data, as the t-test is sensitive to them, to determine if a t-test is appropriate."
   ]
  },
  {
   "cell_type": "code",
   "execution_count": null,
   "metadata": {},
   "outputs": [],
   "source": [
    "# Creating a box plot\n",
    "plt.figure(figsize=(12, 6))\n",
    "sns.boxplot(x=data_filtered['age'], color='steelblue')\n",
    "\n",
    "# Plotting settings\n",
    "plt.title('Box Plot of Customer Ages')\n",
    "plt.xlabel('Customer Age')\n",
    "\n",
    "# Showing the plot\n",
    "plt.show()"
   ]
  },
  {
   "cell_type": "markdown",
   "metadata": {},
   "source": [
    "There are only a few outliers, so to filter them, we will limit the age data to the 95th percentile:"
   ]
  },
  {
   "cell_type": "code",
   "execution_count": null,
   "metadata": {},
   "outputs": [],
   "source": [
    "# Defining the upper threshold using the 95th percentile\n",
    "age_threshold = np.percentile(data_filtered['age'], 95)\n",
    "\n",
    "# Filtering the data, keeping only those within the 95th percentile\n",
    "data_filtered = data_filtered[data_filtered['age'] <= age_threshold]\n",
    "\n",
    "# Creating a vertical box plot with the filtered data\n",
    "plt.figure(figsize=(12, 6))\n",
    "sns.boxplot(x=data_filtered['age'], color='steelblue')\n",
    "\n",
    "# Plotting settings\n",
    "plt.title('Box Plot of Customer Ages (Data up to the 95th Percentile)')\n",
    "plt.xlabel('Age')\n",
    "\n",
    "# Showing the plot\n",
    "plt.show()"
   ]
  },
  {
   "cell_type": "markdown",
   "metadata": {},
   "source": [
    "Now, we will apply the t-test to test the hypotheses. Since the sample sizes differ significantly (by more than a factor of 4), we will set the `equal_var` parameter to `False` so that the test calculates the variances of the samples separately.\n",
    "\n",
    "**Null Hypothesis:** The ages of customers who have left the bank and those who have stayed are equal.\n",
    "\n",
    "**Alternative Hypothesis:** The ages of customers who have left the bank and those who have stayed are not equal."
   ]
  },
  {
   "cell_type": "code",
   "execution_count": null,
   "metadata": {},
   "outputs": [],
   "source": [
    "age_churn = data_filtered.loc[data_filtered['churn'] == 1]['age']\n",
    "age_non_churn = data_filtered.loc[data_filtered['churn'] == 0]['age']\n",
    "\n",
    "alpha = 0.05  # significance level\n",
    "# If the p-value is less than this, we will reject the null hypothesis\n",
    "\n",
    "results = st.ttest_ind(age_churn, age_non_churn, equal_var=False)\n",
    "\n",
    "print('p-value:', results.pvalue)\n",
    "\n",
    "if results.pvalue < alpha:\n",
    "    print('Reject the null hypothesis: the difference is statistically significant')\n",
    "else:\n",
    "    print('Failed to reject the null hypothesis: no conclusion about the difference can be made')"
   ]
  },
  {
   "cell_type": "markdown",
   "metadata": {},
   "source": [
    "Based on the results of the t-test, we were able to reject the null hypothesis of equal ages between customers who have left the bank and those who have stayed. Therefore, there is a statistically significant difference between the ages of customers who have left and those who have stayed."
   ]
  },
  {
   "cell_type": "markdown",
   "metadata": {},
   "source": [
    "**The hypothesis tests conducted showed** that even a difference of 6,800 in salary and 1.5 years in age between customers who have left the bank and those who have stayed is statistically significant within the analyzed dataframe."
   ]
  },
  {
   "cell_type": "markdown",
   "metadata": {},
   "source": [
    "## Summary of Preliminary Analysis"
   ]
  },
  {
   "cell_type": "markdown",
   "metadata": {},
   "source": [
    "Based on the analysis of continuous and categorical feature distributions, correlation analysis, profiling of customers who have left and stayed, and hypothesis testing of the statistical significance of differences in various parameters, it can be concluded that for further segmentation of bank customers to identify groups most prone to churn, the following prioritized intervals and categories should be considered (in descending order of priority):\n",
    "\n",
    "- Number of assets: 3 or more;\n",
    "- Customer activity: active during the evaluated period;\n",
    "- Number of banking products used by the customer: 3 or more;\n",
    "- Credit score: from 820 to 920 (with a peak around 850-900 points);\n",
    "- Gender: male;\n",
    "- Bank credit card: absent;\n",
    "- Age: from 25 to 35 years, from 50 to 60 years;\n",
    "- Estimated salary: from 85,000 to 230,000;\n",
    "- City of residence: Yaroslavl;\n",
    "- Balance: over 750,000."
   ]
  },
  {
   "cell_type": "markdown",
   "metadata": {},
   "source": [
    "## Bank Client Segmentation"
   ]
  },
  {
   "cell_type": "markdown",
   "metadata": {},
   "source": [
    "**Objective of Segmentation:** Identify segments within the bank's customer base where the number of clients exceeds 500 and the churn rate is higher than the bank's average (18%). This will allow for targeted recommendations to the marketing department for addressing these segments to reduce attrition."
   ]
  },
  {
   "cell_type": "code",
   "execution_count": null,
   "metadata": {},
   "outputs": [],
   "source": [
    "# Defining customer segments and add their descriptions\n",
    "segments = {\n",
    "    \"Segment 1\": {\n",
    "        \"data\": data_filtered.loc[(data_filtered['balance'] > 750000) & (data_filtered['credit_card'] == 0) &\n",
    "        (data_filtered['last_activity'] == 1)],\n",
    "        \"description\": \"Balance > 750,000, no credit card, active customer\"\n",
    "    },\n",
    "    \"Segment 2\": {\n",
    "        \"data\": data_filtered.loc[((data_filtered['age'] >= 50) & (data_filtered['age'] <= 60)) &\n",
    "        (data_filtered['gender'] == 'M') & (data_filtered['products'] > 1)],\n",
    "        \"description\": 'Age 50-60, gender \"M\", more than 1 product'\n",
    "    },\n",
    "    \"Segment 3\": {\n",
    "        \"data\": data_filtered.loc[((data_filtered['score'] >= 850) & (data_filtered['score'] <= 900)) &\n",
    "        (data_filtered['city'] == 'Yaroslavl') & (data_filtered['equity'] >= 3)],\n",
    "        \"description\": \"Credit score 850-900, city Yaroslavl, 3 or more assets\"\n",
    "    }\n",
    "}\n",
    "\n",
    "# Preparing data for summary table\n",
    "summary_data = []\n",
    "\n",
    "for segment_name, segment_info in segments.items():\n",
    "    segment_data = segment_info[\"data\"]\n",
    "    segment_description = segment_info[\"description\"]\n",
    "    segment_count = segment_data['user_id'].count()\n",
    "    churn_rate = ((segment_data.loc[segment_data['churn'] == 1]['user_id'].count() / segment_count) * 100)\\\n",
    "                 .round(2) if segment_count > 0 else 0\n",
    "    summary_data.append({\n",
    "        'Segment': segment_name,\n",
    "        'Conditions': segment_description,\n",
    "        'Number of Customers': segment_count,\n",
    "        'Churn Rate (%)': churn_rate\n",
    "    })\n",
    "\n",
    "# Creating summary table\n",
    "summary_df = pd.DataFrame(summary_data)\n",
    "\n",
    "# Sorting by churn rate\n",
    "summary_df = summary_df.sort_values(by='Churn Rate (%)', ascending=False)\n",
    "\n",
    "# Resetting index and starting new index from 1\n",
    "summary_df = summary_df.reset_index(drop=True)\n",
    "summary_df.index = summary_df.index + 1\n",
    "\n",
    "summary_df"
   ]
  },
  {
   "cell_type": "markdown",
   "metadata": {},
   "source": [
    "Segments that group customers with higher-than-average attrition rates are arranged in order of prioritization (from highest to lowest churn rate). The number of customers in these segments ranges from 540 to 980, with churn rates from 40% to 60%, significantly exceeding the bank's average rate of 18%."
   ]
  },
  {
   "cell_type": "markdown",
   "metadata": {},
   "source": [
    "## Formulating Recommendations"
   ]
  },
  {
   "cell_type": "markdown",
   "metadata": {},
   "source": [
    "**Segment 1** - Customers with a balance over 750,000, who are active and do not have a credit card: It can be assumed that these customers have sufficient funds to cover their daily needs. Therefore, it makes sense to offer them a credit card, which they could use to their benefit - а travel credit card with benefits from partner airlines (e.g., faster accumulation of miles), increased cashback on hotel bookings, and discounts on insurance products (such as those offered by the same bank) could be a valuable proposition."
   ]
  },
  {
   "cell_type": "markdown",
   "metadata": {},
   "source": [
    "**Segment 2** - Male customers aged 50 to 60 who use more than one product: The number of banking products used can serve as a filter, and for these customers, you might offer increased cashback on purchases related to home improvement and gardening, as men in this age group often have either a garden or a country house. Additionally, consider running a joint promotion with a major retail chain selling renovation and garden products, offering discounts to cardholders. Target the mailing specifically to male customers within this age range."
   ]
  },
  {
   "cell_type": "markdown",
   "metadata": {},
   "source": [
    "**Segment 3** - Customers with a high credit score between 850 and 900, residing in Yaroslavl, and owning 3 or more assets: Typically, assets include apartments and vehicles. It makes sense to use credit score and bank branch information as filters and offer these customers a discount on the bank's insurance products when insuring more than one item. This could appeal to customers who own multiple vehicles (for personal use or rental) and those with several apartments, especially if they rent out properties and need insurance coverage against unreliable tenants."
   ]
  },
  {
   "cell_type": "markdown",
   "metadata": {},
   "source": [
    "## Analysis Results"
   ]
  },
  {
   "cell_type": "markdown",
   "metadata": {},
   "source": [
    "Overall, it can be said that the initial dataframe is sufficiently complete for a thorough analysis of the data it contains.\n",
    "\n",
    "During preprocessing, the following adjustments were made: column names were corrected, missing values in the `age` column were filled with the median value, missing values in the `balance` column were encoded, integer data types were applied to columns containing whole numbers, and data encoding was performed for correlation analysis.\n",
    "\n",
    "It is also worth noting that there is duplication of user identification numbers in the branches located in Yaroslavl and Rybinsk, which may complicate the work of operators and lead to errors in the future.\n",
    "\n",
    "Based on the analysis of the distribution of continuous and categorical features, the following churn intervals and criteria were identified (ranked in descending order of significance according to the `phik()` correlation method):\n",
    "\n",
    "- Number of assets: 3 or more;\n",
    "- Customer activity: active during the evaluated period;\n",
    "- Number of banking products used by the customer: 3 or more;\n",
    "- Credit score: from 820 to 920 (with a peak around 850-900 points);\n",
    "- Gender: male;\n",
    "- Bank credit card: absent;\n",
    "- Age: from 25 to 35 years, from 50 to 60 years;\n",
    "- Estimated salary: from 85,000 to 230,000;\n",
    "- City of residence: Yaroslavl;\n",
    "- Balance: over 750,000.\n",
    "  \n",
    "Hypothesis testing revealed that even relatively small differences, such as 1.5 years in age or approximately 7,000 in salary, are statistically significant and should be considered in customer segmentation.\n",
    "\n",
    "The segmentation results identified three user groups that the marketing department should focus on to reduce customer attrition:\n",
    "\n",
    "Segment 1 – Balance over 750,000, no credit card, active: Recommendation – Offer a specialized travel credit card.\n",
    "\n",
    "Segment 2 – Male customers aged 50-60, using more than 1 banking product: Recommendation – Offer special conditions (cashback, discounts) on home improvement and gardening products.\n",
    "\n",
    "Segment 3 – Credit score 850-900, residing in Yaroslavl, owning more than 3 assets: Recommendation – Offer a discount on insurance products when insuring more than one asset."
   ]
  }
 ],
 "metadata": {
  "ExecuteTimeLog": [
   {
    "duration": 2502,
    "start_time": "2024-05-24T15:04:53.104Z"
   },
   {
    "duration": 1207,
    "start_time": "2024-05-24T15:05:08.109Z"
   },
   {
    "duration": 102,
    "start_time": "2024-05-24T15:05:31.985Z"
   },
   {
    "duration": 3,
    "start_time": "2024-05-24T15:05:43.406Z"
   },
   {
    "duration": 18,
    "start_time": "2024-05-24T15:05:57.633Z"
   },
   {
    "duration": 13,
    "start_time": "2024-05-24T15:06:02.173Z"
   },
   {
    "duration": 4,
    "start_time": "2024-05-24T15:06:54.006Z"
   },
   {
    "duration": 13,
    "start_time": "2024-05-24T15:06:58.223Z"
   },
   {
    "duration": 11,
    "start_time": "2024-05-24T15:07:22.565Z"
   },
   {
    "duration": 10,
    "start_time": "2024-05-24T15:07:36.392Z"
   },
   {
    "duration": 12,
    "start_time": "2024-05-24T15:07:55.923Z"
   },
   {
    "duration": 4,
    "start_time": "2024-05-24T15:08:12.602Z"
   },
   {
    "duration": 7,
    "start_time": "2024-05-24T15:08:24.730Z"
   },
   {
    "duration": 97,
    "start_time": "2024-05-24T15:08:37.272Z"
   },
   {
    "duration": 21,
    "start_time": "2024-05-24T15:09:16.771Z"
   },
   {
    "duration": 189,
    "start_time": "2024-05-24T15:09:32.468Z"
   },
   {
    "duration": 6,
    "start_time": "2024-05-24T15:09:48.253Z"
   },
   {
    "duration": 667,
    "start_time": "2024-05-24T15:10:01.842Z"
   },
   {
    "duration": 13,
    "start_time": "2024-05-24T15:10:33.645Z"
   },
   {
    "duration": 15,
    "start_time": "2024-05-24T15:10:47.776Z"
   },
   {
    "duration": 5,
    "start_time": "2024-05-24T15:11:09.260Z"
   },
   {
    "duration": 5,
    "start_time": "2024-05-24T15:11:35.530Z"
   },
   {
    "duration": 21,
    "start_time": "2024-05-24T15:11:49.984Z"
   },
   {
    "duration": 172,
    "start_time": "2024-05-24T15:12:21.191Z"
   },
   {
    "duration": 416,
    "start_time": "2024-05-24T15:12:54.054Z"
   },
   {
    "duration": 336,
    "start_time": "2024-05-24T15:13:15.178Z"
   },
   {
    "duration": 6103,
    "start_time": "2024-05-24T15:13:41.753Z"
   },
   {
    "duration": 10,
    "start_time": "2024-05-24T15:13:53.542Z"
   },
   {
    "duration": 5,
    "start_time": "2024-05-24T15:14:05.592Z"
   },
   {
    "duration": 768,
    "start_time": "2024-05-24T15:14:11.159Z"
   },
   {
    "duration": 795,
    "start_time": "2024-05-24T15:14:32.681Z"
   },
   {
    "duration": 8,
    "start_time": "2024-05-24T15:14:39.741Z"
   },
   {
    "duration": 4,
    "start_time": "2024-05-24T15:14:52.712Z"
   },
   {
    "duration": 351,
    "start_time": "2024-05-24T15:14:58.563Z"
   },
   {
    "duration": 325,
    "start_time": "2024-05-24T15:15:37.308Z"
   },
   {
    "duration": 311,
    "start_time": "2024-05-24T15:16:02.882Z"
   },
   {
    "duration": 392,
    "start_time": "2024-05-24T15:16:27.352Z"
   },
   {
    "duration": 284,
    "start_time": "2024-05-24T15:16:47.291Z"
   },
   {
    "duration": 267,
    "start_time": "2024-05-24T15:17:12.672Z"
   },
   {
    "duration": 276,
    "start_time": "2024-05-24T15:17:39.900Z"
   },
   {
    "duration": 276,
    "start_time": "2024-05-24T15:18:01.354Z"
   },
   {
    "duration": 409,
    "start_time": "2024-05-24T15:18:32.486Z"
   },
   {
    "duration": 1342,
    "start_time": "2024-05-24T15:18:49.545Z"
   },
   {
    "duration": 56,
    "start_time": "2024-05-24T15:19:23.276Z"
   },
   {
    "duration": 10,
    "start_time": "2024-05-24T15:21:03.301Z"
   },
   {
    "duration": 16,
    "start_time": "2024-05-24T15:21:39.906Z"
   },
   {
    "duration": 25,
    "start_time": "2024-05-24T15:22:34.277Z"
   },
   {
    "duration": 5278,
    "start_time": "2024-05-25T11:29:08.315Z"
   },
   {
    "duration": 5804,
    "start_time": "2024-05-25T11:29:13.596Z"
   },
   {
    "duration": 126,
    "start_time": "2024-05-25T11:29:19.401Z"
   },
   {
    "duration": 2,
    "start_time": "2024-05-25T11:29:19.529Z"
   },
   {
    "duration": 72,
    "start_time": "2024-05-25T11:29:19.533Z"
   },
   {
    "duration": 33,
    "start_time": "2024-05-25T11:29:19.607Z"
   },
   {
    "duration": 49,
    "start_time": "2024-05-25T11:29:19.642Z"
   },
   {
    "duration": 23,
    "start_time": "2024-05-25T11:29:19.693Z"
   },
   {
    "duration": 75,
    "start_time": "2024-05-25T11:29:19.718Z"
   },
   {
    "duration": 12,
    "start_time": "2024-05-25T11:29:19.796Z"
   },
   {
    "duration": 80,
    "start_time": "2024-05-25T11:29:19.811Z"
   },
   {
    "duration": 5,
    "start_time": "2024-05-25T11:29:19.894Z"
   },
   {
    "duration": 26,
    "start_time": "2024-05-25T11:29:19.901Z"
   },
   {
    "duration": 118,
    "start_time": "2024-05-25T11:29:19.929Z"
   },
   {
    "duration": 62,
    "start_time": "2024-05-25T11:29:20.049Z"
   },
   {
    "duration": 593,
    "start_time": "2024-05-25T11:29:20.112Z"
   },
   {
    "duration": 6,
    "start_time": "2024-05-25T11:29:20.706Z"
   },
   {
    "duration": 1582,
    "start_time": "2024-05-25T11:29:20.714Z"
   },
   {
    "duration": 15,
    "start_time": "2024-05-25T11:29:22.298Z"
   },
   {
    "duration": 96,
    "start_time": "2024-05-25T11:29:22.314Z"
   },
   {
    "duration": 5,
    "start_time": "2024-05-25T11:29:22.412Z"
   },
   {
    "duration": 74,
    "start_time": "2024-05-25T11:29:22.419Z"
   },
   {
    "duration": 18,
    "start_time": "2024-05-25T11:29:22.494Z"
   },
   {
    "duration": 407,
    "start_time": "2024-05-25T11:29:22.514Z"
   },
   {
    "duration": 807,
    "start_time": "2024-05-25T11:29:22.923Z"
   },
   {
    "duration": 976,
    "start_time": "2024-05-25T11:29:23.731Z"
   },
   {
    "duration": 15887,
    "start_time": "2024-05-25T11:29:24.709Z"
   },
   {
    "duration": 9,
    "start_time": "2024-05-25T11:29:40.600Z"
   },
   {
    "duration": 16,
    "start_time": "2024-05-25T11:29:40.692Z"
   },
   {
    "duration": 1182,
    "start_time": "2024-05-25T11:29:40.710Z"
   },
   {
    "duration": 1599,
    "start_time": "2024-05-25T11:29:41.894Z"
   },
   {
    "duration": 8,
    "start_time": "2024-05-25T11:29:43.495Z"
   },
   {
    "duration": 5,
    "start_time": "2024-05-25T11:29:43.504Z"
   },
   {
    "duration": 896,
    "start_time": "2024-05-25T11:29:43.510Z"
   },
   {
    "duration": 501,
    "start_time": "2024-05-25T11:29:44.407Z"
   },
   {
    "duration": 482,
    "start_time": "2024-05-25T11:29:44.909Z"
   },
   {
    "duration": 432,
    "start_time": "2024-05-25T11:29:45.393Z"
   },
   {
    "duration": 477,
    "start_time": "2024-05-25T11:29:45.827Z"
   },
   {
    "duration": 389,
    "start_time": "2024-05-25T11:29:46.306Z"
   },
   {
    "duration": 419,
    "start_time": "2024-05-25T11:29:46.698Z"
   },
   {
    "duration": 379,
    "start_time": "2024-05-25T11:29:47.119Z"
   },
   {
    "duration": 628,
    "start_time": "2024-05-25T11:29:47.500Z"
   },
   {
    "duration": 2403,
    "start_time": "2024-05-25T11:29:48.130Z"
   },
   {
    "duration": 161,
    "start_time": "2024-05-25T11:29:50.535Z"
   },
   {
    "duration": 8,
    "start_time": "2024-05-25T11:29:50.697Z"
   },
   {
    "duration": 37,
    "start_time": "2024-05-25T11:29:50.706Z"
   },
   {
    "duration": 29,
    "start_time": "2024-05-25T11:29:50.792Z"
   },
   {
    "duration": 3864,
    "start_time": "2024-05-25T12:40:24.077Z"
   },
   {
    "duration": 1544,
    "start_time": "2024-05-25T12:40:27.944Z"
   },
   {
    "duration": 111,
    "start_time": "2024-05-25T12:40:29.490Z"
   },
   {
    "duration": 3,
    "start_time": "2024-05-25T12:40:29.603Z"
   },
   {
    "duration": 31,
    "start_time": "2024-05-25T12:40:29.608Z"
   },
   {
    "duration": 13,
    "start_time": "2024-05-25T12:40:29.641Z"
   },
   {
    "duration": 4,
    "start_time": "2024-05-25T12:40:29.656Z"
   },
   {
    "duration": 13,
    "start_time": "2024-05-25T12:40:29.673Z"
   },
   {
    "duration": 15,
    "start_time": "2024-05-25T12:40:29.688Z"
   },
   {
    "duration": 10,
    "start_time": "2024-05-25T12:40:29.706Z"
   },
   {
    "duration": 28,
    "start_time": "2024-05-25T12:40:29.718Z"
   },
   {
    "duration": 31,
    "start_time": "2024-05-25T12:40:29.748Z"
   },
   {
    "duration": 7,
    "start_time": "2024-05-25T12:40:29.782Z"
   },
   {
    "duration": 98,
    "start_time": "2024-05-25T12:40:29.791Z"
   },
   {
    "duration": 21,
    "start_time": "2024-05-25T12:40:29.891Z"
   },
   {
    "duration": 209,
    "start_time": "2024-05-25T12:40:29.914Z"
   },
   {
    "duration": 7,
    "start_time": "2024-05-25T12:40:30.126Z"
   },
   {
    "duration": 806,
    "start_time": "2024-05-25T12:40:30.135Z"
   },
   {
    "duration": 31,
    "start_time": "2024-05-25T12:40:30.943Z"
   },
   {
    "duration": 66,
    "start_time": "2024-05-25T12:40:30.976Z"
   },
   {
    "duration": 69,
    "start_time": "2024-05-25T12:40:31.044Z"
   },
   {
    "duration": 34,
    "start_time": "2024-05-25T12:40:31.115Z"
   },
   {
    "duration": 75,
    "start_time": "2024-05-25T12:40:31.151Z"
   },
   {
    "duration": 251,
    "start_time": "2024-05-25T12:40:31.228Z"
   },
   {
    "duration": 406,
    "start_time": "2024-05-25T12:40:31.482Z"
   },
   {
    "duration": 415,
    "start_time": "2024-05-25T12:40:31.889Z"
   },
   {
    "duration": 6991,
    "start_time": "2024-05-25T12:40:32.306Z"
   },
   {
    "duration": 11,
    "start_time": "2024-05-25T12:40:39.302Z"
   },
   {
    "duration": 6,
    "start_time": "2024-05-25T12:40:39.314Z"
   },
   {
    "duration": 783,
    "start_time": "2024-05-25T12:40:39.321Z"
   },
   {
    "duration": 808,
    "start_time": "2024-05-25T12:40:40.106Z"
   },
   {
    "duration": 9,
    "start_time": "2024-05-25T12:40:40.916Z"
   },
   {
    "duration": 16,
    "start_time": "2024-05-25T12:40:40.927Z"
   },
   {
    "duration": 431,
    "start_time": "2024-05-25T12:40:40.945Z"
   },
   {
    "duration": 402,
    "start_time": "2024-05-25T12:40:41.378Z"
   },
   {
    "duration": 332,
    "start_time": "2024-05-25T12:40:41.781Z"
   },
   {
    "duration": 464,
    "start_time": "2024-05-25T12:40:42.116Z"
   },
   {
    "duration": 314,
    "start_time": "2024-05-25T12:40:42.582Z"
   },
   {
    "duration": 251,
    "start_time": "2024-05-25T12:40:42.899Z"
   },
   {
    "duration": 268,
    "start_time": "2024-05-25T12:40:43.173Z"
   },
   {
    "duration": 341,
    "start_time": "2024-05-25T12:40:43.444Z"
   },
   {
    "duration": 439,
    "start_time": "2024-05-25T12:40:43.786Z"
   },
   {
    "duration": 952,
    "start_time": "2024-05-25T12:40:44.227Z"
   },
   {
    "duration": 435,
    "start_time": "2024-05-25T12:40:45.182Z"
   },
   {
    "duration": 72,
    "start_time": "2024-05-25T12:40:45.619Z"
   },
   {
    "duration": 12,
    "start_time": "2024-05-25T12:40:45.693Z"
   },
   {
    "duration": 19,
    "start_time": "2024-05-25T12:40:45.707Z"
   },
   {
    "duration": 62,
    "start_time": "2024-05-25T12:40:45.728Z"
   },
   {
    "duration": 22,
    "start_time": "2024-05-25T12:43:03.349Z"
   },
   {
    "duration": 486,
    "start_time": "2024-05-25T12:48:48.045Z"
   },
   {
    "duration": 2861,
    "start_time": "2024-05-25T12:50:18.889Z"
   },
   {
    "duration": 1317,
    "start_time": "2024-05-25T12:50:21.752Z"
   },
   {
    "duration": 73,
    "start_time": "2024-05-25T12:50:23.071Z"
   },
   {
    "duration": 3,
    "start_time": "2024-05-25T12:50:23.146Z"
   },
   {
    "duration": 20,
    "start_time": "2024-05-25T12:50:23.151Z"
   },
   {
    "duration": 13,
    "start_time": "2024-05-25T12:50:23.173Z"
   },
   {
    "duration": 4,
    "start_time": "2024-05-25T12:50:23.188Z"
   },
   {
    "duration": 18,
    "start_time": "2024-05-25T12:50:23.193Z"
   },
   {
    "duration": 28,
    "start_time": "2024-05-25T12:50:23.213Z"
   },
   {
    "duration": 11,
    "start_time": "2024-05-25T12:50:23.243Z"
   },
   {
    "duration": 27,
    "start_time": "2024-05-25T12:50:23.256Z"
   },
   {
    "duration": 5,
    "start_time": "2024-05-25T12:50:23.285Z"
   },
   {
    "duration": 15,
    "start_time": "2024-05-25T12:50:23.291Z"
   },
   {
    "duration": 20,
    "start_time": "2024-05-25T12:50:23.310Z"
   },
   {
    "duration": 41,
    "start_time": "2024-05-25T12:50:23.332Z"
   },
   {
    "duration": 127,
    "start_time": "2024-05-25T12:50:23.375Z"
   },
   {
    "duration": 0,
    "start_time": "2024-05-25T12:50:23.505Z"
   },
   {
    "duration": 0,
    "start_time": "2024-05-25T12:50:23.507Z"
   },
   {
    "duration": 0,
    "start_time": "2024-05-25T12:50:23.508Z"
   },
   {
    "duration": 0,
    "start_time": "2024-05-25T12:50:23.510Z"
   },
   {
    "duration": 0,
    "start_time": "2024-05-25T12:50:23.512Z"
   },
   {
    "duration": 0,
    "start_time": "2024-05-25T12:50:23.514Z"
   },
   {
    "duration": 0,
    "start_time": "2024-05-25T12:50:23.515Z"
   },
   {
    "duration": 0,
    "start_time": "2024-05-25T12:50:23.517Z"
   },
   {
    "duration": 0,
    "start_time": "2024-05-25T12:50:23.519Z"
   },
   {
    "duration": 0,
    "start_time": "2024-05-25T12:50:23.520Z"
   },
   {
    "duration": 0,
    "start_time": "2024-05-25T12:50:23.523Z"
   },
   {
    "duration": 0,
    "start_time": "2024-05-25T12:50:23.524Z"
   },
   {
    "duration": 0,
    "start_time": "2024-05-25T12:50:23.525Z"
   },
   {
    "duration": 0,
    "start_time": "2024-05-25T12:50:23.526Z"
   },
   {
    "duration": 0,
    "start_time": "2024-05-25T12:50:23.528Z"
   },
   {
    "duration": 0,
    "start_time": "2024-05-25T12:50:23.529Z"
   },
   {
    "duration": 0,
    "start_time": "2024-05-25T12:50:23.530Z"
   },
   {
    "duration": 0,
    "start_time": "2024-05-25T12:50:23.531Z"
   },
   {
    "duration": 0,
    "start_time": "2024-05-25T12:50:23.532Z"
   },
   {
    "duration": 0,
    "start_time": "2024-05-25T12:50:23.572Z"
   },
   {
    "duration": 0,
    "start_time": "2024-05-25T12:50:23.574Z"
   },
   {
    "duration": 0,
    "start_time": "2024-05-25T12:50:23.575Z"
   },
   {
    "duration": 0,
    "start_time": "2024-05-25T12:50:23.576Z"
   },
   {
    "duration": 0,
    "start_time": "2024-05-25T12:50:23.577Z"
   },
   {
    "duration": 0,
    "start_time": "2024-05-25T12:50:23.578Z"
   },
   {
    "duration": 0,
    "start_time": "2024-05-25T12:50:23.579Z"
   },
   {
    "duration": 0,
    "start_time": "2024-05-25T12:50:23.581Z"
   },
   {
    "duration": 0,
    "start_time": "2024-05-25T12:50:23.582Z"
   },
   {
    "duration": 0,
    "start_time": "2024-05-25T12:50:23.584Z"
   },
   {
    "duration": 0,
    "start_time": "2024-05-25T12:50:23.585Z"
   },
   {
    "duration": 0,
    "start_time": "2024-05-25T12:50:23.586Z"
   },
   {
    "duration": 0,
    "start_time": "2024-05-25T12:50:23.587Z"
   },
   {
    "duration": 0,
    "start_time": "2024-05-25T12:50:23.588Z"
   },
   {
    "duration": 2697,
    "start_time": "2024-05-25T12:51:02.843Z"
   },
   {
    "duration": 1281,
    "start_time": "2024-05-25T12:51:05.543Z"
   },
   {
    "duration": 79,
    "start_time": "2024-05-25T12:51:06.825Z"
   },
   {
    "duration": 3,
    "start_time": "2024-05-25T12:51:06.906Z"
   },
   {
    "duration": 22,
    "start_time": "2024-05-25T12:51:06.912Z"
   },
   {
    "duration": 14,
    "start_time": "2024-05-25T12:51:06.936Z"
   },
   {
    "duration": 4,
    "start_time": "2024-05-25T12:51:06.952Z"
   },
   {
    "duration": 26,
    "start_time": "2024-05-25T12:51:06.957Z"
   },
   {
    "duration": 33,
    "start_time": "2024-05-25T12:51:06.985Z"
   },
   {
    "duration": 20,
    "start_time": "2024-05-25T12:51:07.021Z"
   },
   {
    "duration": 30,
    "start_time": "2024-05-25T12:51:07.044Z"
   },
   {
    "duration": 5,
    "start_time": "2024-05-25T12:51:07.077Z"
   },
   {
    "duration": 18,
    "start_time": "2024-05-25T12:51:07.084Z"
   },
   {
    "duration": 20,
    "start_time": "2024-05-25T12:51:07.105Z"
   },
   {
    "duration": 20,
    "start_time": "2024-05-25T12:51:07.127Z"
   },
   {
    "duration": 399,
    "start_time": "2024-05-25T12:51:07.149Z"
   },
   {
    "duration": 198,
    "start_time": "2024-05-25T12:51:07.551Z"
   },
   {
    "duration": 5,
    "start_time": "2024-05-25T12:51:07.751Z"
   },
   {
    "duration": 748,
    "start_time": "2024-05-25T12:51:07.758Z"
   },
   {
    "duration": 13,
    "start_time": "2024-05-25T12:51:08.507Z"
   },
   {
    "duration": 15,
    "start_time": "2024-05-25T12:51:08.522Z"
   },
   {
    "duration": 4,
    "start_time": "2024-05-25T12:51:08.539Z"
   },
   {
    "duration": 5,
    "start_time": "2024-05-25T12:51:08.545Z"
   },
   {
    "duration": 19,
    "start_time": "2024-05-25T12:51:08.573Z"
   },
   {
    "duration": 202,
    "start_time": "2024-05-25T12:51:08.594Z"
   },
   {
    "duration": 401,
    "start_time": "2024-05-25T12:51:08.798Z"
   },
   {
    "duration": 378,
    "start_time": "2024-05-25T12:51:09.202Z"
   },
   {
    "duration": 6604,
    "start_time": "2024-05-25T12:51:09.582Z"
   },
   {
    "duration": 10,
    "start_time": "2024-05-25T12:51:16.188Z"
   },
   {
    "duration": 4,
    "start_time": "2024-05-25T12:51:16.200Z"
   },
   {
    "duration": 424,
    "start_time": "2024-05-25T12:51:16.206Z"
   },
   {
    "duration": 854,
    "start_time": "2024-05-25T12:51:16.632Z"
   },
   {
    "duration": 8,
    "start_time": "2024-05-25T12:51:17.488Z"
   },
   {
    "duration": 7,
    "start_time": "2024-05-25T12:51:17.498Z"
   },
   {
    "duration": 407,
    "start_time": "2024-05-25T12:51:17.507Z"
   },
   {
    "duration": 336,
    "start_time": "2024-05-25T12:51:17.915Z"
   },
   {
    "duration": 285,
    "start_time": "2024-05-25T12:51:18.253Z"
   },
   {
    "duration": 311,
    "start_time": "2024-05-25T12:51:18.572Z"
   },
   {
    "duration": 267,
    "start_time": "2024-05-25T12:51:18.885Z"
   },
   {
    "duration": 291,
    "start_time": "2024-05-25T12:51:19.153Z"
   },
   {
    "duration": 270,
    "start_time": "2024-05-25T12:51:19.448Z"
   },
   {
    "duration": 293,
    "start_time": "2024-05-25T12:51:19.720Z"
   },
   {
    "duration": 485,
    "start_time": "2024-05-25T12:51:20.015Z"
   },
   {
    "duration": 930,
    "start_time": "2024-05-25T12:51:20.502Z"
   },
   {
    "duration": 485,
    "start_time": "2024-05-25T12:51:21.433Z"
   },
   {
    "duration": 70,
    "start_time": "2024-05-25T12:51:21.920Z"
   },
   {
    "duration": 8,
    "start_time": "2024-05-25T12:51:21.992Z"
   },
   {
    "duration": 13,
    "start_time": "2024-05-25T12:51:22.002Z"
   },
   {
    "duration": 56,
    "start_time": "2024-05-25T12:51:22.017Z"
   },
   {
    "duration": 401,
    "start_time": "2024-05-25T13:23:32.876Z"
   },
   {
    "duration": 2969,
    "start_time": "2024-05-25T13:26:19.673Z"
   },
   {
    "duration": 1305,
    "start_time": "2024-05-25T13:26:22.644Z"
   },
   {
    "duration": 99,
    "start_time": "2024-05-25T13:26:23.950Z"
   },
   {
    "duration": 3,
    "start_time": "2024-05-25T13:26:24.051Z"
   },
   {
    "duration": 21,
    "start_time": "2024-05-25T13:26:24.056Z"
   },
   {
    "duration": 18,
    "start_time": "2024-05-25T13:26:24.079Z"
   },
   {
    "duration": 19,
    "start_time": "2024-05-25T13:26:24.098Z"
   },
   {
    "duration": 28,
    "start_time": "2024-05-25T13:26:24.119Z"
   },
   {
    "duration": 32,
    "start_time": "2024-05-25T13:26:24.148Z"
   },
   {
    "duration": 11,
    "start_time": "2024-05-25T13:26:24.183Z"
   },
   {
    "duration": 13,
    "start_time": "2024-05-25T13:26:24.196Z"
   },
   {
    "duration": 5,
    "start_time": "2024-05-25T13:26:24.211Z"
   },
   {
    "duration": 8,
    "start_time": "2024-05-25T13:26:24.217Z"
   },
   {
    "duration": 56,
    "start_time": "2024-05-25T13:26:24.226Z"
   },
   {
    "duration": 20,
    "start_time": "2024-05-25T13:26:24.284Z"
   },
   {
    "duration": 1203,
    "start_time": "2024-05-25T13:26:24.305Z"
   },
   {
    "duration": 0,
    "start_time": "2024-05-25T13:26:25.510Z"
   },
   {
    "duration": 0,
    "start_time": "2024-05-25T13:26:25.512Z"
   },
   {
    "duration": 0,
    "start_time": "2024-05-25T13:26:25.513Z"
   },
   {
    "duration": 0,
    "start_time": "2024-05-25T13:26:25.514Z"
   },
   {
    "duration": 0,
    "start_time": "2024-05-25T13:26:25.515Z"
   },
   {
    "duration": 0,
    "start_time": "2024-05-25T13:26:25.516Z"
   },
   {
    "duration": 0,
    "start_time": "2024-05-25T13:26:25.518Z"
   },
   {
    "duration": 0,
    "start_time": "2024-05-25T13:26:25.519Z"
   },
   {
    "duration": 0,
    "start_time": "2024-05-25T13:26:25.520Z"
   },
   {
    "duration": 0,
    "start_time": "2024-05-25T13:26:25.521Z"
   },
   {
    "duration": 0,
    "start_time": "2024-05-25T13:26:25.522Z"
   },
   {
    "duration": 0,
    "start_time": "2024-05-25T13:26:25.524Z"
   },
   {
    "duration": 0,
    "start_time": "2024-05-25T13:26:25.525Z"
   },
   {
    "duration": 0,
    "start_time": "2024-05-25T13:26:25.526Z"
   },
   {
    "duration": 0,
    "start_time": "2024-05-25T13:26:25.527Z"
   },
   {
    "duration": 0,
    "start_time": "2024-05-25T13:26:25.528Z"
   },
   {
    "duration": 0,
    "start_time": "2024-05-25T13:26:25.529Z"
   },
   {
    "duration": 0,
    "start_time": "2024-05-25T13:26:25.530Z"
   },
   {
    "duration": 0,
    "start_time": "2024-05-25T13:26:25.531Z"
   },
   {
    "duration": 0,
    "start_time": "2024-05-25T13:26:25.532Z"
   },
   {
    "duration": 0,
    "start_time": "2024-05-25T13:26:25.533Z"
   },
   {
    "duration": 0,
    "start_time": "2024-05-25T13:26:25.534Z"
   },
   {
    "duration": 0,
    "start_time": "2024-05-25T13:26:25.535Z"
   },
   {
    "duration": 0,
    "start_time": "2024-05-25T13:26:25.536Z"
   },
   {
    "duration": 0,
    "start_time": "2024-05-25T13:26:25.537Z"
   },
   {
    "duration": 0,
    "start_time": "2024-05-25T13:26:25.538Z"
   },
   {
    "duration": 0,
    "start_time": "2024-05-25T13:26:25.540Z"
   },
   {
    "duration": 0,
    "start_time": "2024-05-25T13:26:25.541Z"
   },
   {
    "duration": 0,
    "start_time": "2024-05-25T13:26:25.542Z"
   },
   {
    "duration": 0,
    "start_time": "2024-05-25T13:26:25.543Z"
   },
   {
    "duration": 0,
    "start_time": "2024-05-25T13:26:25.544Z"
   },
   {
    "duration": 0,
    "start_time": "2024-05-25T13:26:25.573Z"
   },
   {
    "duration": 0,
    "start_time": "2024-05-25T13:26:25.574Z"
   },
   {
    "duration": 0,
    "start_time": "2024-05-25T13:26:25.576Z"
   },
   {
    "duration": 2716,
    "start_time": "2024-05-25T13:27:22.397Z"
   },
   {
    "duration": 1325,
    "start_time": "2024-05-25T13:27:25.115Z"
   },
   {
    "duration": 89,
    "start_time": "2024-05-25T13:27:26.443Z"
   },
   {
    "duration": 4,
    "start_time": "2024-05-25T13:27:26.534Z"
   },
   {
    "duration": 26,
    "start_time": "2024-05-25T13:27:26.541Z"
   },
   {
    "duration": 14,
    "start_time": "2024-05-25T13:27:26.568Z"
   },
   {
    "duration": 10,
    "start_time": "2024-05-25T13:27:26.584Z"
   },
   {
    "duration": 22,
    "start_time": "2024-05-25T13:27:26.596Z"
   },
   {
    "duration": 22,
    "start_time": "2024-05-25T13:27:26.620Z"
   },
   {
    "duration": 16,
    "start_time": "2024-05-25T13:27:26.643Z"
   },
   {
    "duration": 24,
    "start_time": "2024-05-25T13:27:26.661Z"
   },
   {
    "duration": 4,
    "start_time": "2024-05-25T13:27:26.687Z"
   },
   {
    "duration": 13,
    "start_time": "2024-05-25T13:27:26.693Z"
   },
   {
    "duration": 44,
    "start_time": "2024-05-25T13:27:26.710Z"
   },
   {
    "duration": 37,
    "start_time": "2024-05-25T13:27:26.756Z"
   },
   {
    "duration": 436,
    "start_time": "2024-05-25T13:27:26.795Z"
   },
   {
    "duration": 190,
    "start_time": "2024-05-25T13:27:27.232Z"
   },
   {
    "duration": 5,
    "start_time": "2024-05-25T13:27:27.424Z"
   },
   {
    "duration": 708,
    "start_time": "2024-05-25T13:27:27.430Z"
   },
   {
    "duration": 19,
    "start_time": "2024-05-25T13:27:28.140Z"
   },
   {
    "duration": 419,
    "start_time": "2024-05-25T13:27:28.173Z"
   },
   {
    "duration": 16,
    "start_time": "2024-05-25T13:27:28.594Z"
   },
   {
    "duration": 6,
    "start_time": "2024-05-25T13:27:28.612Z"
   },
   {
    "duration": 8,
    "start_time": "2024-05-25T13:27:28.619Z"
   },
   {
    "duration": 45,
    "start_time": "2024-05-25T13:27:28.629Z"
   },
   {
    "duration": 190,
    "start_time": "2024-05-25T13:27:28.676Z"
   },
   {
    "duration": 405,
    "start_time": "2024-05-25T13:27:28.868Z"
   },
   {
    "duration": 376,
    "start_time": "2024-05-25T13:27:29.275Z"
   },
   {
    "duration": 6693,
    "start_time": "2024-05-25T13:27:29.653Z"
   },
   {
    "duration": 9,
    "start_time": "2024-05-25T13:27:36.348Z"
   },
   {
    "duration": 16,
    "start_time": "2024-05-25T13:27:36.359Z"
   },
   {
    "duration": 392,
    "start_time": "2024-05-25T13:27:36.377Z"
   },
   {
    "duration": 806,
    "start_time": "2024-05-25T13:27:36.770Z"
   },
   {
    "duration": 9,
    "start_time": "2024-05-25T13:27:37.578Z"
   },
   {
    "duration": 32,
    "start_time": "2024-05-25T13:27:37.590Z"
   },
   {
    "duration": 436,
    "start_time": "2024-05-25T13:27:37.624Z"
   },
   {
    "duration": 373,
    "start_time": "2024-05-25T13:27:38.062Z"
   },
   {
    "duration": 314,
    "start_time": "2024-05-25T13:27:38.437Z"
   },
   {
    "duration": 355,
    "start_time": "2024-05-25T13:27:38.753Z"
   },
   {
    "duration": 353,
    "start_time": "2024-05-25T13:27:39.110Z"
   },
   {
    "duration": 254,
    "start_time": "2024-05-25T13:27:39.475Z"
   },
   {
    "duration": 283,
    "start_time": "2024-05-25T13:27:39.731Z"
   },
   {
    "duration": 315,
    "start_time": "2024-05-25T13:27:40.017Z"
   },
   {
    "duration": 481,
    "start_time": "2024-05-25T13:27:40.334Z"
   },
   {
    "duration": 917,
    "start_time": "2024-05-25T13:27:40.817Z"
   },
   {
    "duration": 485,
    "start_time": "2024-05-25T13:27:41.736Z"
   },
   {
    "duration": 517,
    "start_time": "2024-05-25T13:27:42.223Z"
   },
   {
    "duration": 9,
    "start_time": "2024-05-25T13:27:42.742Z"
   },
   {
    "duration": 30,
    "start_time": "2024-05-25T13:27:42.752Z"
   },
   {
    "duration": 25,
    "start_time": "2024-05-25T13:27:42.784Z"
   },
   {
    "duration": 2850,
    "start_time": "2024-05-25T13:39:26.920Z"
   },
   {
    "duration": 1374,
    "start_time": "2024-05-25T13:39:29.772Z"
   },
   {
    "duration": 80,
    "start_time": "2024-05-25T13:39:31.148Z"
   },
   {
    "duration": 3,
    "start_time": "2024-05-25T13:39:31.230Z"
   },
   {
    "duration": 98,
    "start_time": "2024-05-25T13:39:31.234Z"
   },
   {
    "duration": 63,
    "start_time": "2024-05-25T13:39:31.334Z"
   },
   {
    "duration": 6,
    "start_time": "2024-05-25T13:39:31.399Z"
   },
   {
    "duration": 55,
    "start_time": "2024-05-25T13:39:31.406Z"
   },
   {
    "duration": 52,
    "start_time": "2024-05-25T13:39:31.463Z"
   },
   {
    "duration": 21,
    "start_time": "2024-05-25T13:39:31.518Z"
   },
   {
    "duration": 58,
    "start_time": "2024-05-25T13:39:31.541Z"
   },
   {
    "duration": 5,
    "start_time": "2024-05-25T13:39:31.601Z"
   },
   {
    "duration": 48,
    "start_time": "2024-05-25T13:39:31.608Z"
   },
   {
    "duration": 54,
    "start_time": "2024-05-25T13:39:31.658Z"
   },
   {
    "duration": 32,
    "start_time": "2024-05-25T13:39:31.714Z"
   },
   {
    "duration": 445,
    "start_time": "2024-05-25T13:39:31.748Z"
   },
   {
    "duration": 212,
    "start_time": "2024-05-25T13:39:32.195Z"
   },
   {
    "duration": 5,
    "start_time": "2024-05-25T13:39:32.409Z"
   },
   {
    "duration": 825,
    "start_time": "2024-05-25T13:39:32.416Z"
   },
   {
    "duration": 18,
    "start_time": "2024-05-25T13:39:33.244Z"
   },
   {
    "duration": 405,
    "start_time": "2024-05-25T13:39:33.264Z"
   },
   {
    "duration": 22,
    "start_time": "2024-05-25T13:39:33.673Z"
   },
   {
    "duration": 14,
    "start_time": "2024-05-25T13:39:33.697Z"
   },
   {
    "duration": 37,
    "start_time": "2024-05-25T13:39:33.712Z"
   },
   {
    "duration": 194,
    "start_time": "2024-05-25T13:39:33.751Z"
   },
   {
    "duration": 433,
    "start_time": "2024-05-25T13:39:33.947Z"
   },
   {
    "duration": 404,
    "start_time": "2024-05-25T13:39:34.382Z"
   },
   {
    "duration": 7139,
    "start_time": "2024-05-25T13:39:34.793Z"
   },
   {
    "duration": 9,
    "start_time": "2024-05-25T13:39:41.934Z"
   },
   {
    "duration": 58,
    "start_time": "2024-05-25T13:39:41.945Z"
   },
   {
    "duration": 412,
    "start_time": "2024-05-25T13:39:42.005Z"
   },
   {
    "duration": 874,
    "start_time": "2024-05-25T13:39:42.418Z"
   },
   {
    "duration": 12,
    "start_time": "2024-05-25T13:39:43.294Z"
   },
   {
    "duration": 6,
    "start_time": "2024-05-25T13:39:43.309Z"
   },
   {
    "duration": 430,
    "start_time": "2024-05-25T13:39:43.316Z"
   },
   {
    "duration": 334,
    "start_time": "2024-05-25T13:39:43.748Z"
   },
   {
    "duration": 332,
    "start_time": "2024-05-25T13:39:44.084Z"
   },
   {
    "duration": 395,
    "start_time": "2024-05-25T13:39:44.417Z"
   },
   {
    "duration": 311,
    "start_time": "2024-05-25T13:39:44.814Z"
   },
   {
    "duration": 289,
    "start_time": "2024-05-25T13:39:45.126Z"
   },
   {
    "duration": 293,
    "start_time": "2024-05-25T13:39:45.417Z"
   },
   {
    "duration": 293,
    "start_time": "2024-05-25T13:39:45.712Z"
   },
   {
    "duration": 499,
    "start_time": "2024-05-25T13:39:46.007Z"
   },
   {
    "duration": 21471,
    "start_time": "2024-05-25T13:39:46.508Z"
   },
   {
    "duration": 430,
    "start_time": "2024-05-25T13:40:07.981Z"
   },
   {
    "duration": 77,
    "start_time": "2024-05-25T13:40:08.413Z"
   },
   {
    "duration": 8,
    "start_time": "2024-05-25T13:40:08.492Z"
   },
   {
    "duration": 22,
    "start_time": "2024-05-25T13:40:08.502Z"
   },
   {
    "duration": 47,
    "start_time": "2024-05-25T13:40:08.526Z"
   },
   {
    "duration": 2704,
    "start_time": "2024-05-25T13:41:53.763Z"
   },
   {
    "duration": 1333,
    "start_time": "2024-05-25T13:41:56.470Z"
   },
   {
    "duration": 73,
    "start_time": "2024-05-25T13:41:57.806Z"
   },
   {
    "duration": 3,
    "start_time": "2024-05-25T13:41:57.881Z"
   },
   {
    "duration": 21,
    "start_time": "2024-05-25T13:41:57.886Z"
   },
   {
    "duration": 12,
    "start_time": "2024-05-25T13:41:57.909Z"
   },
   {
    "duration": 50,
    "start_time": "2024-05-25T13:41:57.923Z"
   },
   {
    "duration": 21,
    "start_time": "2024-05-25T13:41:57.975Z"
   },
   {
    "duration": 31,
    "start_time": "2024-05-25T13:41:57.998Z"
   },
   {
    "duration": 10,
    "start_time": "2024-05-25T13:41:58.032Z"
   },
   {
    "duration": 15,
    "start_time": "2024-05-25T13:41:58.044Z"
   },
   {
    "duration": 32,
    "start_time": "2024-05-25T13:41:58.061Z"
   },
   {
    "duration": 16,
    "start_time": "2024-05-25T13:41:58.095Z"
   },
   {
    "duration": 28,
    "start_time": "2024-05-25T13:41:58.113Z"
   },
   {
    "duration": 31,
    "start_time": "2024-05-25T13:41:58.143Z"
   },
   {
    "duration": 401,
    "start_time": "2024-05-25T13:41:58.177Z"
   },
   {
    "duration": 193,
    "start_time": "2024-05-25T13:41:58.580Z"
   },
   {
    "duration": 5,
    "start_time": "2024-05-25T13:41:58.774Z"
   },
   {
    "duration": 744,
    "start_time": "2024-05-25T13:41:58.781Z"
   },
   {
    "duration": 14,
    "start_time": "2024-05-25T13:41:59.527Z"
   },
   {
    "duration": 378,
    "start_time": "2024-05-25T13:41:59.542Z"
   },
   {
    "duration": 16,
    "start_time": "2024-05-25T13:41:59.921Z"
   },
   {
    "duration": 42,
    "start_time": "2024-05-25T13:41:59.939Z"
   },
   {
    "duration": 17,
    "start_time": "2024-05-25T13:41:59.983Z"
   },
   {
    "duration": 193,
    "start_time": "2024-05-25T13:42:00.002Z"
   },
   {
    "duration": 411,
    "start_time": "2024-05-25T13:42:00.198Z"
   },
   {
    "duration": 391,
    "start_time": "2024-05-25T13:42:00.611Z"
   },
   {
    "duration": 6616,
    "start_time": "2024-05-25T13:42:01.006Z"
   },
   {
    "duration": 9,
    "start_time": "2024-05-25T13:42:07.624Z"
   },
   {
    "duration": 13,
    "start_time": "2024-05-25T13:42:07.635Z"
   },
   {
    "duration": 415,
    "start_time": "2024-05-25T13:42:07.650Z"
   },
   {
    "duration": 821,
    "start_time": "2024-05-25T13:42:08.067Z"
   },
   {
    "duration": 8,
    "start_time": "2024-05-25T13:42:08.890Z"
   },
   {
    "duration": 10,
    "start_time": "2024-05-25T13:42:08.900Z"
   },
   {
    "duration": 405,
    "start_time": "2024-05-25T13:42:08.912Z"
   },
   {
    "duration": 324,
    "start_time": "2024-05-25T13:42:09.319Z"
   },
   {
    "duration": 289,
    "start_time": "2024-05-25T13:42:09.645Z"
   },
   {
    "duration": 339,
    "start_time": "2024-05-25T13:42:09.936Z"
   },
   {
    "duration": 267,
    "start_time": "2024-05-25T13:42:10.277Z"
   },
   {
    "duration": 276,
    "start_time": "2024-05-25T13:42:10.545Z"
   },
   {
    "duration": 314,
    "start_time": "2024-05-25T13:42:10.823Z"
   },
   {
    "duration": 297,
    "start_time": "2024-05-25T13:42:11.139Z"
   },
   {
    "duration": 456,
    "start_time": "2024-05-25T13:42:11.438Z"
   },
   {
    "duration": 713,
    "start_time": "2024-05-25T13:42:11.895Z"
   },
   {
    "duration": 423,
    "start_time": "2024-05-25T13:42:12.610Z"
   },
   {
    "duration": 549,
    "start_time": "2024-05-25T13:42:13.035Z"
   },
   {
    "duration": 8,
    "start_time": "2024-05-25T13:42:13.586Z"
   },
   {
    "duration": 17,
    "start_time": "2024-05-25T13:42:13.596Z"
   },
   {
    "duration": 25,
    "start_time": "2024-05-25T13:42:13.615Z"
   },
   {
    "duration": 2552,
    "start_time": "2024-05-26T13:10:57.303Z"
   },
   {
    "duration": 8195,
    "start_time": "2024-05-26T13:10:59.857Z"
   },
   {
    "duration": 94,
    "start_time": "2024-05-26T13:11:08.053Z"
   },
   {
    "duration": 2,
    "start_time": "2024-05-26T13:11:08.149Z"
   },
   {
    "duration": 28,
    "start_time": "2024-05-26T13:11:08.153Z"
   },
   {
    "duration": 16,
    "start_time": "2024-05-26T13:11:08.183Z"
   },
   {
    "duration": 3,
    "start_time": "2024-05-26T13:11:08.201Z"
   },
   {
    "duration": 29,
    "start_time": "2024-05-26T13:11:08.206Z"
   },
   {
    "duration": 11,
    "start_time": "2024-05-26T13:11:08.237Z"
   },
   {
    "duration": 11,
    "start_time": "2024-05-26T13:11:08.252Z"
   },
   {
    "duration": 15,
    "start_time": "2024-05-26T13:11:08.264Z"
   },
   {
    "duration": 18,
    "start_time": "2024-05-26T13:11:08.280Z"
   },
   {
    "duration": 9,
    "start_time": "2024-05-26T13:11:08.300Z"
   },
   {
    "duration": 25,
    "start_time": "2024-05-26T13:11:08.310Z"
   },
   {
    "duration": 26,
    "start_time": "2024-05-26T13:11:08.337Z"
   },
   {
    "duration": 357,
    "start_time": "2024-05-26T13:11:08.393Z"
   },
   {
    "duration": 256,
    "start_time": "2024-05-26T13:11:08.751Z"
   },
   {
    "duration": 6,
    "start_time": "2024-05-26T13:11:09.008Z"
   },
   {
    "duration": 701,
    "start_time": "2024-05-26T13:11:09.016Z"
   },
   {
    "duration": 12,
    "start_time": "2024-05-26T13:11:09.719Z"
   },
   {
    "duration": 404,
    "start_time": "2024-05-26T13:11:09.733Z"
   },
   {
    "duration": 13,
    "start_time": "2024-05-26T13:11:10.139Z"
   },
   {
    "duration": 5,
    "start_time": "2024-05-26T13:11:10.154Z"
   },
   {
    "duration": 34,
    "start_time": "2024-05-26T13:11:10.161Z"
   },
   {
    "duration": 185,
    "start_time": "2024-05-26T13:11:10.197Z"
   },
   {
    "duration": 380,
    "start_time": "2024-05-26T13:11:10.384Z"
   },
   {
    "duration": 345,
    "start_time": "2024-05-26T13:11:10.766Z"
   },
   {
    "duration": 6246,
    "start_time": "2024-05-26T13:11:11.115Z"
   },
   {
    "duration": 8,
    "start_time": "2024-05-26T13:11:17.363Z"
   },
   {
    "duration": 7,
    "start_time": "2024-05-26T13:11:17.373Z"
   },
   {
    "duration": 459,
    "start_time": "2024-05-26T13:11:17.393Z"
   },
   {
    "duration": 1088,
    "start_time": "2024-05-26T13:11:17.854Z"
   },
   {
    "duration": 10,
    "start_time": "2024-05-26T13:11:18.944Z"
   },
   {
    "duration": 17,
    "start_time": "2024-05-26T13:11:18.956Z"
   },
   {
    "duration": 407,
    "start_time": "2024-05-26T13:11:18.974Z"
   },
   {
    "duration": 339,
    "start_time": "2024-05-26T13:11:19.383Z"
   },
   {
    "duration": 322,
    "start_time": "2024-05-26T13:11:19.723Z"
   },
   {
    "duration": 356,
    "start_time": "2024-05-26T13:11:20.046Z"
   },
   {
    "duration": 272,
    "start_time": "2024-05-26T13:11:20.404Z"
   },
   {
    "duration": 364,
    "start_time": "2024-05-26T13:11:20.678Z"
   },
   {
    "duration": 263,
    "start_time": "2024-05-26T13:11:21.044Z"
   },
   {
    "duration": 234,
    "start_time": "2024-05-26T13:11:21.309Z"
   },
   {
    "duration": 433,
    "start_time": "2024-05-26T13:11:21.545Z"
   },
   {
    "duration": 16620,
    "start_time": "2024-05-26T13:11:21.980Z"
   },
   {
    "duration": 549,
    "start_time": "2024-05-26T13:11:38.602Z"
   },
   {
    "duration": 63,
    "start_time": "2024-05-26T13:11:39.153Z"
   },
   {
    "duration": 95,
    "start_time": "2024-05-26T13:11:42.929Z"
   },
   {
    "duration": 3378,
    "start_time": "2024-05-26T14:51:05.244Z"
   },
   {
    "duration": 1473,
    "start_time": "2024-05-26T14:51:08.624Z"
   },
   {
    "duration": 113,
    "start_time": "2024-05-26T14:51:10.099Z"
   },
   {
    "duration": 4,
    "start_time": "2024-05-26T14:51:10.215Z"
   },
   {
    "duration": 32,
    "start_time": "2024-05-26T14:51:10.221Z"
   },
   {
    "duration": 14,
    "start_time": "2024-05-26T14:51:10.255Z"
   },
   {
    "duration": 60,
    "start_time": "2024-05-26T14:51:10.270Z"
   },
   {
    "duration": 16,
    "start_time": "2024-05-26T14:51:10.331Z"
   },
   {
    "duration": 20,
    "start_time": "2024-05-26T14:51:10.349Z"
   },
   {
    "duration": 68,
    "start_time": "2024-05-26T14:51:10.372Z"
   },
   {
    "duration": 15,
    "start_time": "2024-05-26T14:51:10.442Z"
   },
   {
    "duration": 5,
    "start_time": "2024-05-26T14:51:10.459Z"
   },
   {
    "duration": 9,
    "start_time": "2024-05-26T14:51:10.465Z"
   },
   {
    "duration": 20,
    "start_time": "2024-05-26T14:51:10.475Z"
   },
   {
    "duration": 20,
    "start_time": "2024-05-26T14:51:10.497Z"
   },
   {
    "duration": 471,
    "start_time": "2024-05-26T14:51:10.519Z"
   },
   {
    "duration": 361,
    "start_time": "2024-05-26T14:51:10.992Z"
   },
   {
    "duration": 188,
    "start_time": "2024-05-26T14:51:11.358Z"
   },
   {
    "duration": 18,
    "start_time": "2024-05-26T14:51:11.548Z"
   },
   {
    "duration": 715,
    "start_time": "2024-05-26T14:51:11.568Z"
   },
   {
    "duration": 13,
    "start_time": "2024-05-26T14:51:12.285Z"
   },
   {
    "duration": 389,
    "start_time": "2024-05-26T14:51:12.300Z"
   },
   {
    "duration": 14,
    "start_time": "2024-05-26T14:51:12.691Z"
   },
   {
    "duration": 4,
    "start_time": "2024-05-26T14:51:12.707Z"
   },
   {
    "duration": 18,
    "start_time": "2024-05-26T14:51:12.713Z"
   },
   {
    "duration": 210,
    "start_time": "2024-05-26T14:51:12.733Z"
   },
   {
    "duration": 391,
    "start_time": "2024-05-26T14:51:12.945Z"
   },
   {
    "duration": 501,
    "start_time": "2024-05-26T14:51:13.340Z"
   },
   {
    "duration": 6429,
    "start_time": "2024-05-26T14:51:13.843Z"
   },
   {
    "duration": 9,
    "start_time": "2024-05-26T14:51:20.274Z"
   },
   {
    "duration": 22,
    "start_time": "2024-05-26T14:51:20.284Z"
   },
   {
    "duration": 396,
    "start_time": "2024-05-26T14:51:20.308Z"
   },
   {
    "duration": 856,
    "start_time": "2024-05-26T14:51:20.705Z"
   },
   {
    "duration": 9,
    "start_time": "2024-05-26T14:51:21.564Z"
   },
   {
    "duration": 20,
    "start_time": "2024-05-26T14:51:21.575Z"
   },
   {
    "duration": 385,
    "start_time": "2024-05-26T14:51:21.596Z"
   },
   {
    "duration": 340,
    "start_time": "2024-05-26T14:51:21.983Z"
   },
   {
    "duration": 288,
    "start_time": "2024-05-26T14:51:22.325Z"
   },
   {
    "duration": 322,
    "start_time": "2024-05-26T14:51:22.615Z"
   },
   {
    "duration": 282,
    "start_time": "2024-05-26T14:51:22.939Z"
   },
   {
    "duration": 284,
    "start_time": "2024-05-26T14:51:23.223Z"
   },
   {
    "duration": 312,
    "start_time": "2024-05-26T14:51:23.509Z"
   },
   {
    "duration": 281,
    "start_time": "2024-05-26T14:51:23.822Z"
   },
   {
    "duration": 452,
    "start_time": "2024-05-26T14:51:24.106Z"
   },
   {
    "duration": 667,
    "start_time": "2024-05-26T14:51:24.560Z"
   },
   {
    "duration": 443,
    "start_time": "2024-05-26T14:51:25.228Z"
   },
   {
    "duration": 493,
    "start_time": "2024-05-26T14:51:25.673Z"
   },
   {
    "duration": 118,
    "start_time": "2024-05-26T14:51:26.168Z"
   },
   {
    "duration": 9,
    "start_time": "2024-05-26T14:51:26.288Z"
   },
   {
    "duration": 14,
    "start_time": "2024-05-26T14:51:26.298Z"
   },
   {
    "duration": 46,
    "start_time": "2024-05-26T14:51:26.314Z"
   },
   {
    "duration": 2648,
    "start_time": "2024-05-26T14:55:00.897Z"
   },
   {
    "duration": 1271,
    "start_time": "2024-05-26T14:55:03.548Z"
   },
   {
    "duration": 87,
    "start_time": "2024-05-26T14:55:04.821Z"
   },
   {
    "duration": 3,
    "start_time": "2024-05-26T14:55:04.910Z"
   },
   {
    "duration": 19,
    "start_time": "2024-05-26T14:55:04.916Z"
   },
   {
    "duration": 14,
    "start_time": "2024-05-26T14:55:04.937Z"
   },
   {
    "duration": 7,
    "start_time": "2024-05-26T14:55:04.952Z"
   },
   {
    "duration": 15,
    "start_time": "2024-05-26T14:55:04.961Z"
   },
   {
    "duration": 11,
    "start_time": "2024-05-26T14:55:04.978Z"
   },
   {
    "duration": 13,
    "start_time": "2024-05-26T14:55:04.991Z"
   },
   {
    "duration": 101,
    "start_time": "2024-05-26T14:55:05.005Z"
   },
   {
    "duration": 3,
    "start_time": "2024-05-26T14:55:05.108Z"
   },
   {
    "duration": 70,
    "start_time": "2024-05-26T14:55:05.113Z"
   },
   {
    "duration": 20,
    "start_time": "2024-05-26T14:55:05.186Z"
   },
   {
    "duration": 19,
    "start_time": "2024-05-26T14:55:05.207Z"
   },
   {
    "duration": 403,
    "start_time": "2024-05-26T14:55:05.227Z"
   },
   {
    "duration": 364,
    "start_time": "2024-05-26T14:55:05.632Z"
   },
   {
    "duration": 204,
    "start_time": "2024-05-26T14:55:05.998Z"
   },
   {
    "duration": 5,
    "start_time": "2024-05-26T14:55:06.204Z"
   },
   {
    "duration": 732,
    "start_time": "2024-05-26T14:55:06.211Z"
   },
   {
    "duration": 13,
    "start_time": "2024-05-26T14:55:06.945Z"
   },
   {
    "duration": 362,
    "start_time": "2024-05-26T14:55:06.960Z"
   },
   {
    "duration": 15,
    "start_time": "2024-05-26T14:55:07.324Z"
   },
   {
    "duration": 127,
    "start_time": "2024-05-26T14:55:07.340Z"
   },
   {
    "duration": 33,
    "start_time": "2024-05-26T14:55:07.469Z"
   },
   {
    "duration": 198,
    "start_time": "2024-05-26T14:55:07.504Z"
   },
   {
    "duration": 378,
    "start_time": "2024-05-26T14:55:07.703Z"
   },
   {
    "duration": 429,
    "start_time": "2024-05-26T14:55:08.083Z"
   },
   {
    "duration": 6360,
    "start_time": "2024-05-26T14:55:08.514Z"
   },
   {
    "duration": 9,
    "start_time": "2024-05-26T14:55:14.876Z"
   },
   {
    "duration": 4,
    "start_time": "2024-05-26T14:55:14.887Z"
   },
   {
    "duration": 404,
    "start_time": "2024-05-26T14:55:14.892Z"
   },
   {
    "duration": 806,
    "start_time": "2024-05-26T14:55:15.298Z"
   },
   {
    "duration": 9,
    "start_time": "2024-05-26T14:55:16.105Z"
   },
   {
    "duration": 14,
    "start_time": "2024-05-26T14:55:16.115Z"
   },
   {
    "duration": 402,
    "start_time": "2024-05-26T14:55:16.130Z"
   },
   {
    "duration": 344,
    "start_time": "2024-05-26T14:55:16.534Z"
   },
   {
    "duration": 323,
    "start_time": "2024-05-26T14:55:16.880Z"
   },
   {
    "duration": 344,
    "start_time": "2024-05-26T14:55:17.205Z"
   },
   {
    "duration": 294,
    "start_time": "2024-05-26T14:55:17.558Z"
   },
   {
    "duration": 253,
    "start_time": "2024-05-26T14:55:17.861Z"
   },
   {
    "duration": 283,
    "start_time": "2024-05-26T14:55:18.116Z"
   },
   {
    "duration": 288,
    "start_time": "2024-05-26T14:55:18.402Z"
   },
   {
    "duration": 471,
    "start_time": "2024-05-26T14:55:18.692Z"
   },
   {
    "duration": 794,
    "start_time": "2024-05-26T14:55:19.165Z"
   },
   {
    "duration": 454,
    "start_time": "2024-05-26T14:55:19.961Z"
   },
   {
    "duration": 500,
    "start_time": "2024-05-26T14:55:20.417Z"
   },
   {
    "duration": 125,
    "start_time": "2024-05-26T14:55:20.919Z"
   },
   {
    "duration": 21,
    "start_time": "2024-05-26T14:55:21.046Z"
   },
   {
    "duration": 14,
    "start_time": "2024-05-26T14:55:21.069Z"
   },
   {
    "duration": 25,
    "start_time": "2024-05-26T14:55:21.085Z"
   },
   {
    "duration": 66,
    "start_time": "2024-05-26T15:05:07.497Z"
   },
   {
    "duration": 388,
    "start_time": "2024-05-26T15:41:51.589Z"
   },
   {
    "duration": 395,
    "start_time": "2024-05-26T15:41:56.396Z"
   },
   {
    "duration": 420,
    "start_time": "2024-05-26T15:42:00.124Z"
   },
   {
    "duration": 2538,
    "start_time": "2024-05-26T15:42:05.979Z"
   },
   {
    "duration": 1204,
    "start_time": "2024-05-26T15:42:08.520Z"
   },
   {
    "duration": 74,
    "start_time": "2024-05-26T15:42:09.726Z"
   },
   {
    "duration": 3,
    "start_time": "2024-05-26T15:42:09.802Z"
   },
   {
    "duration": 31,
    "start_time": "2024-05-26T15:42:09.807Z"
   },
   {
    "duration": 14,
    "start_time": "2024-05-26T15:42:09.839Z"
   },
   {
    "duration": 5,
    "start_time": "2024-05-26T15:42:09.854Z"
   },
   {
    "duration": 15,
    "start_time": "2024-05-26T15:42:09.860Z"
   },
   {
    "duration": 18,
    "start_time": "2024-05-26T15:42:09.877Z"
   },
   {
    "duration": 9,
    "start_time": "2024-05-26T15:42:09.897Z"
   },
   {
    "duration": 49,
    "start_time": "2024-05-26T15:42:09.908Z"
   },
   {
    "duration": 4,
    "start_time": "2024-05-26T15:42:09.958Z"
   },
   {
    "duration": 27,
    "start_time": "2024-05-26T15:42:09.964Z"
   },
   {
    "duration": 36,
    "start_time": "2024-05-26T15:42:09.993Z"
   },
   {
    "duration": 40,
    "start_time": "2024-05-26T15:42:10.030Z"
   },
   {
    "duration": 359,
    "start_time": "2024-05-26T15:42:10.071Z"
   },
   {
    "duration": 206,
    "start_time": "2024-05-26T15:42:10.432Z"
   },
   {
    "duration": 8,
    "start_time": "2024-05-26T15:42:10.640Z"
   },
   {
    "duration": 794,
    "start_time": "2024-05-26T15:42:10.649Z"
   },
   {
    "duration": 13,
    "start_time": "2024-05-26T15:42:11.445Z"
   },
   {
    "duration": 373,
    "start_time": "2024-05-26T15:42:11.459Z"
   },
   {
    "duration": 16,
    "start_time": "2024-05-26T15:42:11.834Z"
   },
   {
    "duration": 8,
    "start_time": "2024-05-26T15:42:11.859Z"
   },
   {
    "duration": 42,
    "start_time": "2024-05-26T15:42:11.868Z"
   },
   {
    "duration": 207,
    "start_time": "2024-05-26T15:42:11.911Z"
   },
   {
    "duration": 412,
    "start_time": "2024-05-26T15:42:12.120Z"
   },
   {
    "duration": 364,
    "start_time": "2024-05-26T15:42:12.533Z"
   },
   {
    "duration": 6504,
    "start_time": "2024-05-26T15:42:12.901Z"
   },
   {
    "duration": 10,
    "start_time": "2024-05-26T15:42:19.407Z"
   },
   {
    "duration": 5,
    "start_time": "2024-05-26T15:42:19.418Z"
   },
   {
    "duration": 451,
    "start_time": "2024-05-26T15:42:19.424Z"
   },
   {
    "duration": 786,
    "start_time": "2024-05-26T15:42:19.877Z"
   },
   {
    "duration": 8,
    "start_time": "2024-05-26T15:42:20.665Z"
   },
   {
    "duration": 23,
    "start_time": "2024-05-26T15:42:20.675Z"
   },
   {
    "duration": 415,
    "start_time": "2024-05-26T15:42:20.700Z"
   },
   {
    "duration": 348,
    "start_time": "2024-05-26T15:42:21.117Z"
   },
   {
    "duration": 327,
    "start_time": "2024-05-26T15:42:21.466Z"
   },
   {
    "duration": 341,
    "start_time": "2024-05-26T15:42:21.794Z"
   },
   {
    "duration": 293,
    "start_time": "2024-05-26T15:42:22.136Z"
   },
   {
    "duration": 274,
    "start_time": "2024-05-26T15:42:22.431Z"
   },
   {
    "duration": 296,
    "start_time": "2024-05-26T15:42:22.707Z"
   },
   {
    "duration": 288,
    "start_time": "2024-05-26T15:42:23.005Z"
   },
   {
    "duration": 473,
    "start_time": "2024-05-26T15:42:23.295Z"
   },
   {
    "duration": 800,
    "start_time": "2024-05-26T15:42:23.770Z"
   },
   {
    "duration": 416,
    "start_time": "2024-05-26T15:42:24.571Z"
   },
   {
    "duration": 525,
    "start_time": "2024-05-26T15:42:24.988Z"
   },
   {
    "duration": 135,
    "start_time": "2024-05-26T15:42:25.515Z"
   },
   {
    "duration": 10,
    "start_time": "2024-05-26T15:42:25.659Z"
   },
   {
    "duration": 29,
    "start_time": "2024-05-26T15:42:25.670Z"
   },
   {
    "duration": 25,
    "start_time": "2024-05-26T15:42:25.701Z"
   },
   {
    "duration": 2771,
    "start_time": "2024-05-26T15:42:43.322Z"
   },
   {
    "duration": 1262,
    "start_time": "2024-05-26T15:42:46.096Z"
   },
   {
    "duration": 87,
    "start_time": "2024-05-26T15:42:47.359Z"
   },
   {
    "duration": 3,
    "start_time": "2024-05-26T15:42:47.449Z"
   },
   {
    "duration": 28,
    "start_time": "2024-05-26T15:42:47.454Z"
   },
   {
    "duration": 15,
    "start_time": "2024-05-26T15:42:47.484Z"
   },
   {
    "duration": 4,
    "start_time": "2024-05-26T15:42:47.501Z"
   },
   {
    "duration": 19,
    "start_time": "2024-05-26T15:42:47.507Z"
   },
   {
    "duration": 33,
    "start_time": "2024-05-26T15:42:47.528Z"
   },
   {
    "duration": 19,
    "start_time": "2024-05-26T15:42:47.564Z"
   },
   {
    "duration": 20,
    "start_time": "2024-05-26T15:42:47.585Z"
   },
   {
    "duration": 4,
    "start_time": "2024-05-26T15:42:47.607Z"
   },
   {
    "duration": 8,
    "start_time": "2024-05-26T15:42:47.613Z"
   },
   {
    "duration": 40,
    "start_time": "2024-05-26T15:42:47.623Z"
   },
   {
    "duration": 21,
    "start_time": "2024-05-26T15:42:47.665Z"
   },
   {
    "duration": 426,
    "start_time": "2024-05-26T15:42:47.688Z"
   },
   {
    "duration": 183,
    "start_time": "2024-05-26T15:42:48.116Z"
   },
   {
    "duration": 5,
    "start_time": "2024-05-26T15:42:48.301Z"
   },
   {
    "duration": 747,
    "start_time": "2024-05-26T15:42:48.308Z"
   },
   {
    "duration": 13,
    "start_time": "2024-05-26T15:42:49.057Z"
   },
   {
    "duration": 361,
    "start_time": "2024-05-26T15:42:49.072Z"
   },
   {
    "duration": 16,
    "start_time": "2024-05-26T15:42:49.434Z"
   },
   {
    "duration": 5,
    "start_time": "2024-05-26T15:42:49.459Z"
   },
   {
    "duration": 19,
    "start_time": "2024-05-26T15:42:49.465Z"
   },
   {
    "duration": 194,
    "start_time": "2024-05-26T15:42:49.486Z"
   },
   {
    "duration": 396,
    "start_time": "2024-05-26T15:42:49.681Z"
   },
   {
    "duration": 386,
    "start_time": "2024-05-26T15:42:50.079Z"
   },
   {
    "duration": 6490,
    "start_time": "2024-05-26T15:42:50.468Z"
   },
   {
    "duration": 10,
    "start_time": "2024-05-26T15:42:56.959Z"
   },
   {
    "duration": 10,
    "start_time": "2024-05-26T15:42:56.971Z"
   },
   {
    "duration": 403,
    "start_time": "2024-05-26T15:42:56.983Z"
   },
   {
    "duration": 770,
    "start_time": "2024-05-26T15:42:57.388Z"
   },
   {
    "duration": 8,
    "start_time": "2024-05-26T15:42:58.160Z"
   },
   {
    "duration": 32,
    "start_time": "2024-05-26T15:42:58.170Z"
   },
   {
    "duration": 418,
    "start_time": "2024-05-26T15:42:58.204Z"
   },
   {
    "duration": 359,
    "start_time": "2024-05-26T15:42:58.624Z"
   },
   {
    "duration": 311,
    "start_time": "2024-05-26T15:42:58.985Z"
   },
   {
    "duration": 328,
    "start_time": "2024-05-26T15:42:59.298Z"
   },
   {
    "duration": 289,
    "start_time": "2024-05-26T15:42:59.628Z"
   },
   {
    "duration": 283,
    "start_time": "2024-05-26T15:42:59.919Z"
   },
   {
    "duration": 294,
    "start_time": "2024-05-26T15:43:00.204Z"
   },
   {
    "duration": 295,
    "start_time": "2024-05-26T15:43:00.500Z"
   },
   {
    "duration": 435,
    "start_time": "2024-05-26T15:43:00.796Z"
   },
   {
    "duration": 840,
    "start_time": "2024-05-26T15:43:01.233Z"
   },
   {
    "duration": 435,
    "start_time": "2024-05-26T15:43:02.075Z"
   },
   {
    "duration": 499,
    "start_time": "2024-05-26T15:43:02.511Z"
   },
   {
    "duration": 116,
    "start_time": "2024-05-26T15:43:03.011Z"
   },
   {
    "duration": 8,
    "start_time": "2024-05-26T15:43:03.129Z"
   },
   {
    "duration": 32,
    "start_time": "2024-05-26T15:43:03.139Z"
   },
   {
    "duration": 23,
    "start_time": "2024-05-26T15:43:03.173Z"
   },
   {
    "duration": 2621,
    "start_time": "2024-05-26T15:48:49.684Z"
   },
   {
    "duration": 1194,
    "start_time": "2024-05-26T15:48:52.308Z"
   },
   {
    "duration": 94,
    "start_time": "2024-05-26T15:48:53.504Z"
   },
   {
    "duration": 4,
    "start_time": "2024-05-26T15:48:53.599Z"
   },
   {
    "duration": 86,
    "start_time": "2024-05-26T15:48:53.605Z"
   },
   {
    "duration": 13,
    "start_time": "2024-05-26T15:48:53.693Z"
   },
   {
    "duration": 4,
    "start_time": "2024-05-26T15:48:53.707Z"
   },
   {
    "duration": 14,
    "start_time": "2024-05-26T15:48:53.712Z"
   },
   {
    "duration": 17,
    "start_time": "2024-05-26T15:48:53.728Z"
   },
   {
    "duration": 18,
    "start_time": "2024-05-26T15:48:53.746Z"
   },
   {
    "duration": 14,
    "start_time": "2024-05-26T15:48:53.766Z"
   },
   {
    "duration": 5,
    "start_time": "2024-05-26T15:48:53.782Z"
   },
   {
    "duration": 10,
    "start_time": "2024-05-26T15:48:53.788Z"
   },
   {
    "duration": 21,
    "start_time": "2024-05-26T15:48:53.801Z"
   },
   {
    "duration": 55,
    "start_time": "2024-05-26T15:48:53.823Z"
   },
   {
    "duration": 391,
    "start_time": "2024-05-26T15:48:53.880Z"
   },
   {
    "duration": 194,
    "start_time": "2024-05-26T15:48:54.273Z"
   },
   {
    "duration": 5,
    "start_time": "2024-05-26T15:48:54.469Z"
   },
   {
    "duration": 767,
    "start_time": "2024-05-26T15:48:54.476Z"
   },
   {
    "duration": 13,
    "start_time": "2024-05-26T15:48:55.245Z"
   },
   {
    "duration": 430,
    "start_time": "2024-05-26T15:48:55.260Z"
   },
   {
    "duration": 16,
    "start_time": "2024-05-26T15:48:55.692Z"
   },
   {
    "duration": 104,
    "start_time": "2024-05-26T15:48:55.711Z"
   },
   {
    "duration": 20,
    "start_time": "2024-05-26T15:48:55.817Z"
   },
   {
    "duration": 179,
    "start_time": "2024-05-26T15:48:55.838Z"
   },
   {
    "duration": 396,
    "start_time": "2024-05-26T15:48:56.018Z"
   },
   {
    "duration": 367,
    "start_time": "2024-05-26T15:48:56.416Z"
   },
   {
    "duration": 6433,
    "start_time": "2024-05-26T15:48:56.785Z"
   },
   {
    "duration": 9,
    "start_time": "2024-05-26T15:49:03.219Z"
   },
   {
    "duration": 87,
    "start_time": "2024-05-26T15:49:03.229Z"
   },
   {
    "duration": 405,
    "start_time": "2024-05-26T15:49:03.317Z"
   },
   {
    "duration": 781,
    "start_time": "2024-05-26T15:49:03.724Z"
   },
   {
    "duration": 9,
    "start_time": "2024-05-26T15:49:04.506Z"
   },
   {
    "duration": 6,
    "start_time": "2024-05-26T15:49:04.517Z"
   },
   {
    "duration": 397,
    "start_time": "2024-05-26T15:49:04.525Z"
   },
   {
    "duration": 345,
    "start_time": "2024-05-26T15:49:04.924Z"
   },
   {
    "duration": 352,
    "start_time": "2024-05-26T15:49:05.270Z"
   },
   {
    "duration": 321,
    "start_time": "2024-05-26T15:49:05.624Z"
   },
   {
    "duration": 295,
    "start_time": "2024-05-26T15:49:05.946Z"
   },
   {
    "duration": 261,
    "start_time": "2024-05-26T15:49:06.242Z"
   },
   {
    "duration": 291,
    "start_time": "2024-05-26T15:49:06.507Z"
   },
   {
    "duration": 287,
    "start_time": "2024-05-26T15:49:06.800Z"
   },
   {
    "duration": 484,
    "start_time": "2024-05-26T15:49:07.089Z"
   },
   {
    "duration": 744,
    "start_time": "2024-05-26T15:49:07.574Z"
   },
   {
    "duration": 478,
    "start_time": "2024-05-26T15:49:08.319Z"
   },
   {
    "duration": 502,
    "start_time": "2024-05-26T15:49:08.799Z"
   },
   {
    "duration": 123,
    "start_time": "2024-05-26T15:49:09.302Z"
   },
   {
    "duration": 10,
    "start_time": "2024-05-26T15:49:09.427Z"
   },
   {
    "duration": 34,
    "start_time": "2024-05-26T15:49:09.439Z"
   },
   {
    "duration": 32,
    "start_time": "2024-05-26T15:49:09.475Z"
   },
   {
    "duration": 2634,
    "start_time": "2024-05-26T15:51:21.136Z"
   },
   {
    "duration": 1241,
    "start_time": "2024-05-26T15:51:23.773Z"
   },
   {
    "duration": 122,
    "start_time": "2024-05-26T15:51:25.016Z"
   },
   {
    "duration": 3,
    "start_time": "2024-05-26T15:51:25.140Z"
   },
   {
    "duration": 28,
    "start_time": "2024-05-26T15:51:25.145Z"
   },
   {
    "duration": 13,
    "start_time": "2024-05-26T15:51:25.175Z"
   },
   {
    "duration": 4,
    "start_time": "2024-05-26T15:51:25.190Z"
   },
   {
    "duration": 16,
    "start_time": "2024-05-26T15:51:25.196Z"
   },
   {
    "duration": 43,
    "start_time": "2024-05-26T15:51:25.216Z"
   },
   {
    "duration": 11,
    "start_time": "2024-05-26T15:51:25.261Z"
   },
   {
    "duration": 48,
    "start_time": "2024-05-26T15:51:25.273Z"
   },
   {
    "duration": 4,
    "start_time": "2024-05-26T15:51:25.323Z"
   },
   {
    "duration": 12,
    "start_time": "2024-05-26T15:51:25.329Z"
   },
   {
    "duration": 24,
    "start_time": "2024-05-26T15:51:25.344Z"
   },
   {
    "duration": 31,
    "start_time": "2024-05-26T15:51:25.370Z"
   },
   {
    "duration": 418,
    "start_time": "2024-05-26T15:51:25.403Z"
   },
   {
    "duration": 194,
    "start_time": "2024-05-26T15:51:25.823Z"
   },
   {
    "duration": 6,
    "start_time": "2024-05-26T15:51:26.019Z"
   },
   {
    "duration": 752,
    "start_time": "2024-05-26T15:51:26.027Z"
   },
   {
    "duration": 18,
    "start_time": "2024-05-26T15:51:26.782Z"
   },
   {
    "duration": 430,
    "start_time": "2024-05-26T15:51:26.802Z"
   },
   {
    "duration": 16,
    "start_time": "2024-05-26T15:51:27.233Z"
   },
   {
    "duration": 74,
    "start_time": "2024-05-26T15:51:27.251Z"
   },
   {
    "duration": 20,
    "start_time": "2024-05-26T15:51:27.327Z"
   },
   {
    "duration": 203,
    "start_time": "2024-05-26T15:51:27.348Z"
   },
   {
    "duration": 422,
    "start_time": "2024-05-26T15:51:27.553Z"
   },
   {
    "duration": 377,
    "start_time": "2024-05-26T15:51:27.977Z"
   },
   {
    "duration": 7012,
    "start_time": "2024-05-26T15:51:28.359Z"
   },
   {
    "duration": 8,
    "start_time": "2024-05-26T15:51:35.374Z"
   },
   {
    "duration": 4,
    "start_time": "2024-05-26T15:51:35.384Z"
   },
   {
    "duration": 427,
    "start_time": "2024-05-26T15:51:35.390Z"
   },
   {
    "duration": 817,
    "start_time": "2024-05-26T15:51:35.818Z"
   },
   {
    "duration": 8,
    "start_time": "2024-05-26T15:51:36.637Z"
   },
   {
    "duration": 4,
    "start_time": "2024-05-26T15:51:36.659Z"
   },
   {
    "duration": 409,
    "start_time": "2024-05-26T15:51:36.665Z"
   },
   {
    "duration": 364,
    "start_time": "2024-05-26T15:51:37.076Z"
   },
   {
    "duration": 278,
    "start_time": "2024-05-26T15:51:37.442Z"
   },
   {
    "duration": 328,
    "start_time": "2024-05-26T15:51:37.722Z"
   },
   {
    "duration": 276,
    "start_time": "2024-05-26T15:51:38.052Z"
   },
   {
    "duration": 281,
    "start_time": "2024-05-26T15:51:38.330Z"
   },
   {
    "duration": 296,
    "start_time": "2024-05-26T15:51:38.617Z"
   },
   {
    "duration": 301,
    "start_time": "2024-05-26T15:51:38.915Z"
   },
   {
    "duration": 501,
    "start_time": "2024-05-26T15:51:39.218Z"
   },
   {
    "duration": 885,
    "start_time": "2024-05-26T15:51:39.721Z"
   },
   {
    "duration": 467,
    "start_time": "2024-05-26T15:51:40.607Z"
   },
   {
    "duration": 486,
    "start_time": "2024-05-26T15:51:41.076Z"
   },
   {
    "duration": 125,
    "start_time": "2024-05-26T15:51:41.564Z"
   },
   {
    "duration": 10,
    "start_time": "2024-05-26T15:51:41.691Z"
   },
   {
    "duration": 59,
    "start_time": "2024-05-26T15:51:41.703Z"
   },
   {
    "duration": 25,
    "start_time": "2024-05-26T15:51:41.764Z"
   },
   {
    "duration": 2650,
    "start_time": "2024-05-26T15:52:36.217Z"
   },
   {
    "duration": 1308,
    "start_time": "2024-05-26T15:52:38.870Z"
   },
   {
    "duration": 69,
    "start_time": "2024-05-26T15:52:40.180Z"
   },
   {
    "duration": 3,
    "start_time": "2024-05-26T15:52:40.251Z"
   },
   {
    "duration": 50,
    "start_time": "2024-05-26T15:52:40.255Z"
   },
   {
    "duration": 13,
    "start_time": "2024-05-26T15:52:40.307Z"
   },
   {
    "duration": 36,
    "start_time": "2024-05-26T15:52:40.322Z"
   },
   {
    "duration": 25,
    "start_time": "2024-05-26T15:52:40.360Z"
   },
   {
    "duration": 18,
    "start_time": "2024-05-26T15:52:40.387Z"
   },
   {
    "duration": 10,
    "start_time": "2024-05-26T15:52:40.408Z"
   },
   {
    "duration": 14,
    "start_time": "2024-05-26T15:52:40.419Z"
   },
   {
    "duration": 4,
    "start_time": "2024-05-26T15:52:40.434Z"
   },
   {
    "duration": 22,
    "start_time": "2024-05-26T15:52:40.440Z"
   },
   {
    "duration": 19,
    "start_time": "2024-05-26T15:52:40.463Z"
   },
   {
    "duration": 20,
    "start_time": "2024-05-26T15:52:40.484Z"
   },
   {
    "duration": 396,
    "start_time": "2024-05-26T15:52:40.506Z"
   },
   {
    "duration": 185,
    "start_time": "2024-05-26T15:52:40.904Z"
   },
   {
    "duration": 5,
    "start_time": "2024-05-26T15:52:41.090Z"
   },
   {
    "duration": 755,
    "start_time": "2024-05-26T15:52:41.096Z"
   },
   {
    "duration": 12,
    "start_time": "2024-05-26T15:52:41.853Z"
   },
   {
    "duration": 352,
    "start_time": "2024-05-26T15:52:41.867Z"
   },
   {
    "duration": 16,
    "start_time": "2024-05-26T15:52:42.220Z"
   },
   {
    "duration": 64,
    "start_time": "2024-05-26T15:52:42.238Z"
   },
   {
    "duration": 20,
    "start_time": "2024-05-26T15:52:42.303Z"
   },
   {
    "duration": 176,
    "start_time": "2024-05-26T15:52:42.325Z"
   },
   {
    "duration": 385,
    "start_time": "2024-05-26T15:52:42.502Z"
   },
   {
    "duration": 370,
    "start_time": "2024-05-26T15:52:42.889Z"
   },
   {
    "duration": 6557,
    "start_time": "2024-05-26T15:52:43.262Z"
   },
   {
    "duration": 9,
    "start_time": "2024-05-26T15:52:49.821Z"
   },
   {
    "duration": 5,
    "start_time": "2024-05-26T15:52:49.831Z"
   },
   {
    "duration": 422,
    "start_time": "2024-05-26T15:52:49.837Z"
   },
   {
    "duration": 786,
    "start_time": "2024-05-26T15:52:50.261Z"
   },
   {
    "duration": 16,
    "start_time": "2024-05-26T15:52:51.048Z"
   },
   {
    "duration": 28,
    "start_time": "2024-05-26T15:52:51.065Z"
   },
   {
    "duration": 441,
    "start_time": "2024-05-26T15:52:51.096Z"
   },
   {
    "duration": 348,
    "start_time": "2024-05-26T15:52:51.538Z"
   },
   {
    "duration": 322,
    "start_time": "2024-05-26T15:52:51.888Z"
   },
   {
    "duration": 323,
    "start_time": "2024-05-26T15:52:52.212Z"
   },
   {
    "duration": 282,
    "start_time": "2024-05-26T15:52:52.537Z"
   },
   {
    "duration": 280,
    "start_time": "2024-05-26T15:52:52.821Z"
   },
   {
    "duration": 293,
    "start_time": "2024-05-26T15:52:53.103Z"
   },
   {
    "duration": 297,
    "start_time": "2024-05-26T15:52:53.398Z"
   },
   {
    "duration": 477,
    "start_time": "2024-05-26T15:52:53.697Z"
   },
   {
    "duration": 865,
    "start_time": "2024-05-26T15:52:54.176Z"
   },
   {
    "duration": 445,
    "start_time": "2024-05-26T15:52:55.043Z"
   },
   {
    "duration": 503,
    "start_time": "2024-05-26T15:52:55.490Z"
   },
   {
    "duration": 123,
    "start_time": "2024-05-26T15:52:55.996Z"
   },
   {
    "duration": 9,
    "start_time": "2024-05-26T15:52:56.120Z"
   },
   {
    "duration": 29,
    "start_time": "2024-05-26T15:52:56.130Z"
   },
   {
    "duration": 26,
    "start_time": "2024-05-26T15:52:56.161Z"
   },
   {
    "duration": 2622,
    "start_time": "2024-05-26T15:53:23.275Z"
   },
   {
    "duration": 1225,
    "start_time": "2024-05-26T15:53:25.899Z"
   },
   {
    "duration": 72,
    "start_time": "2024-05-26T15:53:27.125Z"
   },
   {
    "duration": 3,
    "start_time": "2024-05-26T15:53:27.199Z"
   },
   {
    "duration": 20,
    "start_time": "2024-05-26T15:53:27.203Z"
   },
   {
    "duration": 13,
    "start_time": "2024-05-26T15:53:27.224Z"
   },
   {
    "duration": 2,
    "start_time": "2024-05-26T15:53:27.239Z"
   },
   {
    "duration": 91,
    "start_time": "2024-05-26T15:53:27.243Z"
   },
   {
    "duration": 12,
    "start_time": "2024-05-26T15:53:27.336Z"
   },
   {
    "duration": 10,
    "start_time": "2024-05-26T15:53:27.351Z"
   },
   {
    "duration": 14,
    "start_time": "2024-05-26T15:53:27.363Z"
   },
   {
    "duration": 5,
    "start_time": "2024-05-26T15:53:27.378Z"
   },
   {
    "duration": 7,
    "start_time": "2024-05-26T15:53:27.384Z"
   },
   {
    "duration": 19,
    "start_time": "2024-05-26T15:53:27.392Z"
   },
   {
    "duration": 46,
    "start_time": "2024-05-26T15:53:27.412Z"
   },
   {
    "duration": 361,
    "start_time": "2024-05-26T15:53:27.461Z"
   },
   {
    "duration": 185,
    "start_time": "2024-05-26T15:53:27.824Z"
   },
   {
    "duration": 5,
    "start_time": "2024-05-26T15:53:28.011Z"
   },
   {
    "duration": 713,
    "start_time": "2024-05-26T15:53:28.018Z"
   },
   {
    "duration": 13,
    "start_time": "2024-05-26T15:53:28.733Z"
   },
   {
    "duration": 379,
    "start_time": "2024-05-26T15:53:28.748Z"
   },
   {
    "duration": 16,
    "start_time": "2024-05-26T15:53:29.129Z"
   },
   {
    "duration": 6,
    "start_time": "2024-05-26T15:53:29.159Z"
   },
   {
    "duration": 19,
    "start_time": "2024-05-26T15:53:29.167Z"
   },
   {
    "duration": 208,
    "start_time": "2024-05-26T15:53:29.188Z"
   },
   {
    "duration": 446,
    "start_time": "2024-05-26T15:53:29.398Z"
   },
   {
    "duration": 378,
    "start_time": "2024-05-26T15:53:29.846Z"
   },
   {
    "duration": 6839,
    "start_time": "2024-05-26T15:53:30.228Z"
   },
   {
    "duration": 8,
    "start_time": "2024-05-26T15:53:37.069Z"
   },
   {
    "duration": 6,
    "start_time": "2024-05-26T15:53:37.079Z"
   },
   {
    "duration": 410,
    "start_time": "2024-05-26T15:53:37.087Z"
   },
   {
    "duration": 786,
    "start_time": "2024-05-26T15:53:37.499Z"
   },
   {
    "duration": 8,
    "start_time": "2024-05-26T15:53:38.287Z"
   },
   {
    "duration": 26,
    "start_time": "2024-05-26T15:53:38.297Z"
   },
   {
    "duration": 406,
    "start_time": "2024-05-26T15:53:38.324Z"
   },
   {
    "duration": 333,
    "start_time": "2024-05-26T15:53:38.732Z"
   },
   {
    "duration": 324,
    "start_time": "2024-05-26T15:53:39.066Z"
   },
   {
    "duration": 347,
    "start_time": "2024-05-26T15:53:39.392Z"
   },
   {
    "duration": 286,
    "start_time": "2024-05-26T15:53:39.741Z"
   },
   {
    "duration": 279,
    "start_time": "2024-05-26T15:53:40.029Z"
   },
   {
    "duration": 290,
    "start_time": "2024-05-26T15:53:40.309Z"
   },
   {
    "duration": 284,
    "start_time": "2024-05-26T15:53:40.600Z"
   },
   {
    "duration": 459,
    "start_time": "2024-05-26T15:53:40.885Z"
   },
   {
    "duration": 864,
    "start_time": "2024-05-26T15:53:41.345Z"
   },
   {
    "duration": 468,
    "start_time": "2024-05-26T15:53:42.211Z"
   },
   {
    "duration": 491,
    "start_time": "2024-05-26T15:53:42.681Z"
   },
   {
    "duration": 119,
    "start_time": "2024-05-26T15:53:43.174Z"
   },
   {
    "duration": 9,
    "start_time": "2024-05-26T15:53:43.295Z"
   },
   {
    "duration": 24,
    "start_time": "2024-05-26T15:53:43.305Z"
   },
   {
    "duration": 42,
    "start_time": "2024-05-26T15:53:43.330Z"
   },
   {
    "duration": 21,
    "start_time": "2024-05-26T16:33:13.034Z"
   },
   {
    "duration": 2564,
    "start_time": "2024-05-26T16:45:15.409Z"
   },
   {
    "duration": 1222,
    "start_time": "2024-05-26T16:45:17.976Z"
   },
   {
    "duration": 80,
    "start_time": "2024-05-26T16:45:19.200Z"
   },
   {
    "duration": 3,
    "start_time": "2024-05-26T16:45:19.282Z"
   },
   {
    "duration": 19,
    "start_time": "2024-05-26T16:45:19.287Z"
   },
   {
    "duration": 13,
    "start_time": "2024-05-26T16:45:19.307Z"
   },
   {
    "duration": 4,
    "start_time": "2024-05-26T16:45:19.322Z"
   },
   {
    "duration": 39,
    "start_time": "2024-05-26T16:45:19.327Z"
   },
   {
    "duration": 11,
    "start_time": "2024-05-26T16:45:19.368Z"
   },
   {
    "duration": 9,
    "start_time": "2024-05-26T16:45:19.381Z"
   },
   {
    "duration": 64,
    "start_time": "2024-05-26T16:45:19.392Z"
   },
   {
    "duration": 4,
    "start_time": "2024-05-26T16:45:19.458Z"
   },
   {
    "duration": 65,
    "start_time": "2024-05-26T16:45:19.464Z"
   },
   {
    "duration": 26,
    "start_time": "2024-05-26T16:45:19.530Z"
   },
   {
    "duration": 20,
    "start_time": "2024-05-26T16:45:19.557Z"
   },
   {
    "duration": 34,
    "start_time": "2024-05-26T16:45:19.579Z"
   },
   {
    "duration": 922,
    "start_time": "2024-05-26T16:45:19.615Z"
   },
   {
    "duration": 186,
    "start_time": "2024-05-26T16:45:20.539Z"
   },
   {
    "duration": 5,
    "start_time": "2024-05-26T16:45:20.727Z"
   },
   {
    "duration": 845,
    "start_time": "2024-05-26T16:45:20.734Z"
   },
   {
    "duration": 19,
    "start_time": "2024-05-26T16:45:21.582Z"
   },
   {
    "duration": 483,
    "start_time": "2024-05-26T16:45:21.603Z"
   },
   {
    "duration": 15,
    "start_time": "2024-05-26T16:45:22.088Z"
   },
   {
    "duration": 11,
    "start_time": "2024-05-26T16:45:22.105Z"
   },
   {
    "duration": 187,
    "start_time": "2024-05-26T16:45:22.117Z"
   },
   {
    "duration": 390,
    "start_time": "2024-05-26T16:45:22.306Z"
   },
   {
    "duration": 363,
    "start_time": "2024-05-26T16:45:22.698Z"
   },
   {
    "duration": 6491,
    "start_time": "2024-05-26T16:45:23.065Z"
   },
   {
    "duration": 9,
    "start_time": "2024-05-26T16:45:29.558Z"
   },
   {
    "duration": 5,
    "start_time": "2024-05-26T16:45:29.569Z"
   },
   {
    "duration": 408,
    "start_time": "2024-05-26T16:45:29.575Z"
   },
   {
    "duration": 788,
    "start_time": "2024-05-26T16:45:29.985Z"
   },
   {
    "duration": 9,
    "start_time": "2024-05-26T16:45:30.774Z"
   },
   {
    "duration": 143,
    "start_time": "2024-05-26T16:45:30.785Z"
   },
   {
    "duration": 519,
    "start_time": "2024-05-26T16:45:30.930Z"
   },
   {
    "duration": 362,
    "start_time": "2024-05-26T16:45:31.450Z"
   },
   {
    "duration": 307,
    "start_time": "2024-05-26T16:45:31.814Z"
   },
   {
    "duration": 329,
    "start_time": "2024-05-26T16:45:32.123Z"
   },
   {
    "duration": 285,
    "start_time": "2024-05-26T16:45:32.459Z"
   },
   {
    "duration": 265,
    "start_time": "2024-05-26T16:45:32.746Z"
   },
   {
    "duration": 283,
    "start_time": "2024-05-26T16:45:33.013Z"
   },
   {
    "duration": 294,
    "start_time": "2024-05-26T16:45:33.297Z"
   },
   {
    "duration": 469,
    "start_time": "2024-05-26T16:45:33.593Z"
   },
   {
    "duration": 840,
    "start_time": "2024-05-26T16:45:34.063Z"
   },
   {
    "duration": 513,
    "start_time": "2024-05-26T16:45:34.905Z"
   },
   {
    "duration": 696,
    "start_time": "2024-05-26T16:45:35.420Z"
   },
   {
    "duration": 204,
    "start_time": "2024-05-26T16:45:36.117Z"
   },
   {
    "duration": 9,
    "start_time": "2024-05-26T16:45:36.323Z"
   },
   {
    "duration": 37,
    "start_time": "2024-05-26T16:45:36.334Z"
   },
   {
    "duration": 25,
    "start_time": "2024-05-26T16:45:36.373Z"
   },
   {
    "duration": 2572,
    "start_time": "2024-05-26T16:55:02.902Z"
   },
   {
    "duration": 1247,
    "start_time": "2024-05-26T16:55:05.478Z"
   },
   {
    "duration": 148,
    "start_time": "2024-05-26T16:55:06.727Z"
   },
   {
    "duration": 4,
    "start_time": "2024-05-26T16:55:06.877Z"
   },
   {
    "duration": 35,
    "start_time": "2024-05-26T16:55:06.882Z"
   },
   {
    "duration": 17,
    "start_time": "2024-05-26T16:55:06.919Z"
   },
   {
    "duration": 8,
    "start_time": "2024-05-26T16:55:06.938Z"
   },
   {
    "duration": 96,
    "start_time": "2024-05-26T16:55:06.949Z"
   },
   {
    "duration": 16,
    "start_time": "2024-05-26T16:55:07.046Z"
   },
   {
    "duration": 11,
    "start_time": "2024-05-26T16:55:07.064Z"
   },
   {
    "duration": 14,
    "start_time": "2024-05-26T16:55:07.076Z"
   },
   {
    "duration": 7,
    "start_time": "2024-05-26T16:55:07.091Z"
   },
   {
    "duration": 10,
    "start_time": "2024-05-26T16:55:07.100Z"
   },
   {
    "duration": 19,
    "start_time": "2024-05-26T16:55:07.112Z"
   },
   {
    "duration": 44,
    "start_time": "2024-05-26T16:55:07.133Z"
   },
   {
    "duration": 819,
    "start_time": "2024-05-26T16:55:07.179Z"
   },
   {
    "duration": 186,
    "start_time": "2024-05-26T16:55:08.000Z"
   },
   {
    "duration": 5,
    "start_time": "2024-05-26T16:55:08.187Z"
   },
   {
    "duration": 741,
    "start_time": "2024-05-26T16:55:08.194Z"
   },
   {
    "duration": 18,
    "start_time": "2024-05-26T16:55:08.937Z"
   },
   {
    "duration": 453,
    "start_time": "2024-05-26T16:55:08.958Z"
   },
   {
    "duration": 17,
    "start_time": "2024-05-26T16:55:09.413Z"
   },
   {
    "duration": 54,
    "start_time": "2024-05-26T16:55:09.432Z"
   },
   {
    "duration": 206,
    "start_time": "2024-05-26T16:55:09.488Z"
   },
   {
    "duration": 398,
    "start_time": "2024-05-26T16:55:09.696Z"
   },
   {
    "duration": 388,
    "start_time": "2024-05-26T16:55:10.096Z"
   },
   {
    "duration": 6677,
    "start_time": "2024-05-26T16:55:10.485Z"
   },
   {
    "duration": 9,
    "start_time": "2024-05-26T16:55:17.166Z"
   },
   {
    "duration": 11,
    "start_time": "2024-05-26T16:55:17.177Z"
   },
   {
    "duration": 406,
    "start_time": "2024-05-26T16:55:17.189Z"
   },
   {
    "duration": 779,
    "start_time": "2024-05-26T16:55:17.596Z"
   },
   {
    "duration": 8,
    "start_time": "2024-05-26T16:55:18.377Z"
   },
   {
    "duration": 84,
    "start_time": "2024-05-26T16:55:18.386Z"
   },
   {
    "duration": 399,
    "start_time": "2024-05-26T16:55:18.472Z"
   },
   {
    "duration": 364,
    "start_time": "2024-05-26T16:55:18.873Z"
   },
   {
    "duration": 293,
    "start_time": "2024-05-26T16:55:19.239Z"
   },
   {
    "duration": 332,
    "start_time": "2024-05-26T16:55:19.534Z"
   },
   {
    "duration": 297,
    "start_time": "2024-05-26T16:55:19.868Z"
   },
   {
    "duration": 253,
    "start_time": "2024-05-26T16:55:20.167Z"
   },
   {
    "duration": 279,
    "start_time": "2024-05-26T16:55:20.422Z"
   },
   {
    "duration": 290,
    "start_time": "2024-05-26T16:55:20.703Z"
   },
   {
    "duration": 679,
    "start_time": "2024-05-26T16:55:20.995Z"
   },
   {
    "duration": 406,
    "start_time": "2024-05-26T16:55:21.676Z"
   },
   {
    "duration": 54,
    "start_time": "2024-05-26T16:55:22.084Z"
   },
   {
    "duration": 128,
    "start_time": "2024-05-26T16:55:22.140Z"
   },
   {
    "duration": 10,
    "start_time": "2024-05-26T16:55:22.269Z"
   },
   {
    "duration": 14,
    "start_time": "2024-05-26T16:55:22.281Z"
   },
   {
    "duration": 24,
    "start_time": "2024-05-26T16:55:22.297Z"
   },
   {
    "duration": 2596,
    "start_time": "2024-05-26T16:56:34.691Z"
   },
   {
    "duration": 1212,
    "start_time": "2024-05-26T16:56:37.289Z"
   },
   {
    "duration": 88,
    "start_time": "2024-05-26T16:56:38.502Z"
   },
   {
    "duration": 4,
    "start_time": "2024-05-26T16:56:38.592Z"
   },
   {
    "duration": 20,
    "start_time": "2024-05-26T16:56:38.597Z"
   },
   {
    "duration": 12,
    "start_time": "2024-05-26T16:56:38.619Z"
   },
   {
    "duration": 6,
    "start_time": "2024-05-26T16:56:38.633Z"
   },
   {
    "duration": 22,
    "start_time": "2024-05-26T16:56:38.659Z"
   },
   {
    "duration": 24,
    "start_time": "2024-05-26T16:56:38.683Z"
   },
   {
    "duration": 10,
    "start_time": "2024-05-26T16:56:38.710Z"
   },
   {
    "duration": 13,
    "start_time": "2024-05-26T16:56:38.722Z"
   },
   {
    "duration": 25,
    "start_time": "2024-05-26T16:56:38.736Z"
   },
   {
    "duration": 32,
    "start_time": "2024-05-26T16:56:38.763Z"
   },
   {
    "duration": 30,
    "start_time": "2024-05-26T16:56:38.797Z"
   },
   {
    "duration": 22,
    "start_time": "2024-05-26T16:56:38.829Z"
   },
   {
    "duration": 870,
    "start_time": "2024-05-26T16:56:38.853Z"
   },
   {
    "duration": 220,
    "start_time": "2024-05-26T16:56:39.725Z"
   },
   {
    "duration": 12,
    "start_time": "2024-05-26T16:56:39.947Z"
   },
   {
    "duration": 786,
    "start_time": "2024-05-26T16:56:39.961Z"
   },
   {
    "duration": 13,
    "start_time": "2024-05-26T16:56:40.749Z"
   },
   {
    "duration": 372,
    "start_time": "2024-05-26T16:56:40.764Z"
   },
   {
    "duration": 22,
    "start_time": "2024-05-26T16:56:41.138Z"
   },
   {
    "duration": 4,
    "start_time": "2024-05-26T16:56:41.162Z"
   },
   {
    "duration": 194,
    "start_time": "2024-05-26T16:56:41.168Z"
   },
   {
    "duration": 441,
    "start_time": "2024-05-26T16:56:41.364Z"
   },
   {
    "duration": 402,
    "start_time": "2024-05-26T16:56:41.807Z"
   },
   {
    "duration": 6665,
    "start_time": "2024-05-26T16:56:42.212Z"
   },
   {
    "duration": 11,
    "start_time": "2024-05-26T16:56:48.883Z"
   },
   {
    "duration": 11,
    "start_time": "2024-05-26T16:56:48.897Z"
   },
   {
    "duration": 406,
    "start_time": "2024-05-26T16:56:48.910Z"
   },
   {
    "duration": 806,
    "start_time": "2024-05-26T16:56:49.318Z"
   },
   {
    "duration": 10,
    "start_time": "2024-05-26T16:56:50.126Z"
   },
   {
    "duration": 25,
    "start_time": "2024-05-26T16:56:50.138Z"
   },
   {
    "duration": 806,
    "start_time": "2024-05-26T16:56:50.165Z"
   },
   {
    "duration": 695,
    "start_time": "2024-05-26T16:56:50.973Z"
   },
   {
    "duration": 462,
    "start_time": "2024-05-26T16:56:51.670Z"
   },
   {
    "duration": 305,
    "start_time": "2024-05-26T16:56:52.134Z"
   },
   {
    "duration": 277,
    "start_time": "2024-05-26T16:56:52.442Z"
   },
   {
    "duration": 282,
    "start_time": "2024-05-26T16:56:52.720Z"
   },
   {
    "duration": 306,
    "start_time": "2024-05-26T16:56:53.012Z"
   },
   {
    "duration": 290,
    "start_time": "2024-05-26T16:56:53.320Z"
   },
   {
    "duration": 607,
    "start_time": "2024-05-26T16:56:53.612Z"
   },
   {
    "duration": 444,
    "start_time": "2024-05-26T16:56:54.221Z"
   },
   {
    "duration": 55,
    "start_time": "2024-05-26T16:56:54.667Z"
   },
   {
    "duration": 169,
    "start_time": "2024-05-26T16:56:54.723Z"
   },
   {
    "duration": 8,
    "start_time": "2024-05-26T16:56:54.894Z"
   },
   {
    "duration": 36,
    "start_time": "2024-05-26T16:56:54.903Z"
   },
   {
    "duration": 32,
    "start_time": "2024-05-26T16:56:54.941Z"
   },
   {
    "duration": 3474,
    "start_time": "2024-05-26T16:57:06.586Z"
   },
   {
    "duration": 1311,
    "start_time": "2024-05-26T16:57:10.063Z"
   },
   {
    "duration": 67,
    "start_time": "2024-05-26T16:57:11.376Z"
   },
   {
    "duration": 3,
    "start_time": "2024-05-26T16:57:11.445Z"
   },
   {
    "duration": 57,
    "start_time": "2024-05-26T16:57:11.450Z"
   },
   {
    "duration": 14,
    "start_time": "2024-05-26T16:57:11.509Z"
   },
   {
    "duration": 3,
    "start_time": "2024-05-26T16:57:11.525Z"
   },
   {
    "duration": 73,
    "start_time": "2024-05-26T16:57:11.530Z"
   },
   {
    "duration": 27,
    "start_time": "2024-05-26T16:57:11.604Z"
   },
   {
    "duration": 10,
    "start_time": "2024-05-26T16:57:11.634Z"
   },
   {
    "duration": 14,
    "start_time": "2024-05-26T16:57:11.646Z"
   },
   {
    "duration": 5,
    "start_time": "2024-05-26T16:57:11.662Z"
   },
   {
    "duration": 8,
    "start_time": "2024-05-26T16:57:11.668Z"
   },
   {
    "duration": 23,
    "start_time": "2024-05-26T16:57:11.682Z"
   },
   {
    "duration": 20,
    "start_time": "2024-05-26T16:57:11.707Z"
   },
   {
    "duration": 925,
    "start_time": "2024-05-26T16:57:11.729Z"
   },
   {
    "duration": 203,
    "start_time": "2024-05-26T16:57:12.659Z"
   },
   {
    "duration": 5,
    "start_time": "2024-05-26T16:57:12.863Z"
   },
   {
    "duration": 749,
    "start_time": "2024-05-26T16:57:12.870Z"
   },
   {
    "duration": 14,
    "start_time": "2024-05-26T16:57:13.621Z"
   },
   {
    "duration": 383,
    "start_time": "2024-05-26T16:57:13.636Z"
   },
   {
    "duration": 19,
    "start_time": "2024-05-26T16:57:14.021Z"
   },
   {
    "duration": 47,
    "start_time": "2024-05-26T16:57:14.042Z"
   },
   {
    "duration": 191,
    "start_time": "2024-05-26T16:57:14.090Z"
   },
   {
    "duration": 400,
    "start_time": "2024-05-26T16:57:14.282Z"
   },
   {
    "duration": 384,
    "start_time": "2024-05-26T16:57:14.684Z"
   },
   {
    "duration": 6481,
    "start_time": "2024-05-26T16:57:15.070Z"
   },
   {
    "duration": 9,
    "start_time": "2024-05-26T16:57:21.558Z"
   },
   {
    "duration": 49,
    "start_time": "2024-05-26T16:57:21.569Z"
   },
   {
    "duration": 411,
    "start_time": "2024-05-26T16:57:21.619Z"
   },
   {
    "duration": 802,
    "start_time": "2024-05-26T16:57:22.032Z"
   },
   {
    "duration": 9,
    "start_time": "2024-05-26T16:57:22.836Z"
   },
   {
    "duration": 35,
    "start_time": "2024-05-26T16:57:22.846Z"
   },
   {
    "duration": 404,
    "start_time": "2024-05-26T16:57:22.883Z"
   },
   {
    "duration": 346,
    "start_time": "2024-05-26T16:57:23.288Z"
   },
   {
    "duration": 283,
    "start_time": "2024-05-26T16:57:23.636Z"
   },
   {
    "duration": 323,
    "start_time": "2024-05-26T16:57:23.920Z"
   },
   {
    "duration": 295,
    "start_time": "2024-05-26T16:57:24.244Z"
   },
   {
    "duration": 264,
    "start_time": "2024-05-26T16:57:24.541Z"
   },
   {
    "duration": 294,
    "start_time": "2024-05-26T16:57:24.807Z"
   },
   {
    "duration": 290,
    "start_time": "2024-05-26T16:57:25.103Z"
   },
   {
    "duration": 659,
    "start_time": "2024-05-26T16:57:25.394Z"
   },
   {
    "duration": 408,
    "start_time": "2024-05-26T16:57:26.055Z"
   },
   {
    "duration": 56,
    "start_time": "2024-05-26T16:57:26.465Z"
   },
   {
    "duration": 137,
    "start_time": "2024-05-26T16:57:26.523Z"
   },
   {
    "duration": 9,
    "start_time": "2024-05-26T16:57:26.662Z"
   },
   {
    "duration": 15,
    "start_time": "2024-05-26T16:57:26.673Z"
   },
   {
    "duration": 25,
    "start_time": "2024-05-26T16:57:26.690Z"
   },
   {
    "duration": 2730,
    "start_time": "2024-05-26T16:58:40.408Z"
   },
   {
    "duration": 1755,
    "start_time": "2024-05-26T16:58:43.141Z"
   },
   {
    "duration": 114,
    "start_time": "2024-05-26T16:58:44.898Z"
   },
   {
    "duration": 3,
    "start_time": "2024-05-26T16:58:45.015Z"
   },
   {
    "duration": 41,
    "start_time": "2024-05-26T16:58:45.058Z"
   },
   {
    "duration": 59,
    "start_time": "2024-05-26T16:58:45.100Z"
   },
   {
    "duration": 31,
    "start_time": "2024-05-26T16:58:45.161Z"
   },
   {
    "duration": 67,
    "start_time": "2024-05-26T16:58:45.193Z"
   },
   {
    "duration": 30,
    "start_time": "2024-05-26T16:58:45.262Z"
   },
   {
    "duration": 69,
    "start_time": "2024-05-26T16:58:45.295Z"
   },
   {
    "duration": 20,
    "start_time": "2024-05-26T16:58:45.366Z"
   },
   {
    "duration": 9,
    "start_time": "2024-05-26T16:58:45.388Z"
   },
   {
    "duration": 24,
    "start_time": "2024-05-26T16:58:45.399Z"
   },
   {
    "duration": 77,
    "start_time": "2024-05-26T16:58:45.425Z"
   },
   {
    "duration": 21,
    "start_time": "2024-05-26T16:58:45.504Z"
   },
   {
    "duration": 805,
    "start_time": "2024-05-26T16:58:45.527Z"
   },
   {
    "duration": 190,
    "start_time": "2024-05-26T16:58:46.334Z"
   },
   {
    "duration": 5,
    "start_time": "2024-05-26T16:58:46.525Z"
   },
   {
    "duration": 724,
    "start_time": "2024-05-26T16:58:46.531Z"
   },
   {
    "duration": 14,
    "start_time": "2024-05-26T16:58:47.257Z"
   },
   {
    "duration": 395,
    "start_time": "2024-05-26T16:58:47.273Z"
   },
   {
    "duration": 17,
    "start_time": "2024-05-26T16:58:47.670Z"
   },
   {
    "duration": 6,
    "start_time": "2024-05-26T16:58:47.689Z"
   },
   {
    "duration": 201,
    "start_time": "2024-05-26T16:58:47.696Z"
   },
   {
    "duration": 394,
    "start_time": "2024-05-26T16:58:47.899Z"
   },
   {
    "duration": 371,
    "start_time": "2024-05-26T16:58:48.294Z"
   },
   {
    "duration": 6685,
    "start_time": "2024-05-26T16:58:48.666Z"
   },
   {
    "duration": 12,
    "start_time": "2024-05-26T16:58:55.355Z"
   },
   {
    "duration": 6,
    "start_time": "2024-05-26T16:58:55.368Z"
   },
   {
    "duration": 402,
    "start_time": "2024-05-26T16:58:55.376Z"
   },
   {
    "duration": 836,
    "start_time": "2024-05-26T16:58:55.780Z"
   },
   {
    "duration": 11,
    "start_time": "2024-05-26T16:58:56.618Z"
   },
   {
    "duration": 4,
    "start_time": "2024-05-26T16:58:56.631Z"
   },
   {
    "duration": 411,
    "start_time": "2024-05-26T16:58:56.637Z"
   },
   {
    "duration": 363,
    "start_time": "2024-05-26T16:58:57.049Z"
   },
   {
    "duration": 302,
    "start_time": "2024-05-26T16:58:57.414Z"
   },
   {
    "duration": 316,
    "start_time": "2024-05-26T16:58:57.718Z"
   },
   {
    "duration": 286,
    "start_time": "2024-05-26T16:58:58.036Z"
   },
   {
    "duration": 281,
    "start_time": "2024-05-26T16:58:58.323Z"
   },
   {
    "duration": 288,
    "start_time": "2024-05-26T16:58:58.606Z"
   },
   {
    "duration": 290,
    "start_time": "2024-05-26T16:58:58.895Z"
   },
   {
    "duration": 674,
    "start_time": "2024-05-26T16:58:59.187Z"
   },
   {
    "duration": 443,
    "start_time": "2024-05-26T16:58:59.863Z"
   },
   {
    "duration": 67,
    "start_time": "2024-05-26T16:59:00.309Z"
   },
   {
    "duration": 125,
    "start_time": "2024-05-26T16:59:00.379Z"
   },
   {
    "duration": 10,
    "start_time": "2024-05-26T16:59:00.505Z"
   },
   {
    "duration": 230,
    "start_time": "2024-05-26T16:59:00.516Z"
   },
   {
    "duration": 82,
    "start_time": "2024-05-26T16:59:00.747Z"
   },
   {
    "duration": 2670,
    "start_time": "2024-05-26T17:01:05.268Z"
   },
   {
    "duration": 2158,
    "start_time": "2024-05-26T17:01:07.941Z"
   },
   {
    "duration": 108,
    "start_time": "2024-05-26T17:01:10.101Z"
   },
   {
    "duration": 3,
    "start_time": "2024-05-26T17:01:10.211Z"
   },
   {
    "duration": 31,
    "start_time": "2024-05-26T17:01:10.216Z"
   },
   {
    "duration": 13,
    "start_time": "2024-05-26T17:01:10.249Z"
   },
   {
    "duration": 3,
    "start_time": "2024-05-26T17:01:10.264Z"
   },
   {
    "duration": 19,
    "start_time": "2024-05-26T17:01:10.269Z"
   },
   {
    "duration": 20,
    "start_time": "2024-05-26T17:01:10.290Z"
   },
   {
    "duration": 13,
    "start_time": "2024-05-26T17:01:10.313Z"
   },
   {
    "duration": 40,
    "start_time": "2024-05-26T17:01:10.327Z"
   },
   {
    "duration": 4,
    "start_time": "2024-05-26T17:01:10.369Z"
   },
   {
    "duration": 9,
    "start_time": "2024-05-26T17:01:10.375Z"
   },
   {
    "duration": 22,
    "start_time": "2024-05-26T17:01:10.386Z"
   },
   {
    "duration": 54,
    "start_time": "2024-05-26T17:01:10.410Z"
   },
   {
    "duration": 789,
    "start_time": "2024-05-26T17:01:10.466Z"
   },
   {
    "duration": 188,
    "start_time": "2024-05-26T17:01:11.258Z"
   },
   {
    "duration": 5,
    "start_time": "2024-05-26T17:01:11.448Z"
   },
   {
    "duration": 772,
    "start_time": "2024-05-26T17:01:11.459Z"
   },
   {
    "duration": 13,
    "start_time": "2024-05-26T17:01:12.233Z"
   },
   {
    "duration": 400,
    "start_time": "2024-05-26T17:01:12.248Z"
   },
   {
    "duration": 21,
    "start_time": "2024-05-26T17:01:12.650Z"
   },
   {
    "duration": 7,
    "start_time": "2024-05-26T17:01:12.673Z"
   },
   {
    "duration": 207,
    "start_time": "2024-05-26T17:01:12.682Z"
   },
   {
    "duration": 386,
    "start_time": "2024-05-26T17:01:12.891Z"
   },
   {
    "duration": 399,
    "start_time": "2024-05-26T17:01:13.279Z"
   },
   {
    "duration": 6486,
    "start_time": "2024-05-26T17:01:13.680Z"
   },
   {
    "duration": 8,
    "start_time": "2024-05-26T17:01:20.170Z"
   },
   {
    "duration": 11,
    "start_time": "2024-05-26T17:01:20.179Z"
   },
   {
    "duration": 406,
    "start_time": "2024-05-26T17:01:20.191Z"
   },
   {
    "duration": 801,
    "start_time": "2024-05-26T17:01:20.598Z"
   },
   {
    "duration": 8,
    "start_time": "2024-05-26T17:01:21.401Z"
   },
   {
    "duration": 5,
    "start_time": "2024-05-26T17:01:21.411Z"
   },
   {
    "duration": 405,
    "start_time": "2024-05-26T17:01:21.418Z"
   },
   {
    "duration": 367,
    "start_time": "2024-05-26T17:01:21.824Z"
   },
   {
    "duration": 315,
    "start_time": "2024-05-26T17:01:22.193Z"
   },
   {
    "duration": 330,
    "start_time": "2024-05-26T17:01:22.510Z"
   },
   {
    "duration": 288,
    "start_time": "2024-05-26T17:01:22.841Z"
   },
   {
    "duration": 272,
    "start_time": "2024-05-26T17:01:23.130Z"
   },
   {
    "duration": 296,
    "start_time": "2024-05-26T17:01:23.403Z"
   },
   {
    "duration": 293,
    "start_time": "2024-05-26T17:01:23.701Z"
   },
   {
    "duration": 622,
    "start_time": "2024-05-26T17:01:23.996Z"
   },
   {
    "duration": 432,
    "start_time": "2024-05-26T17:01:24.620Z"
   },
   {
    "duration": 59,
    "start_time": "2024-05-26T17:01:25.054Z"
   },
   {
    "duration": 130,
    "start_time": "2024-05-26T17:01:25.114Z"
   },
   {
    "duration": 19,
    "start_time": "2024-05-26T17:01:25.246Z"
   },
   {
    "duration": 16,
    "start_time": "2024-05-26T17:01:25.266Z"
   },
   {
    "duration": 23,
    "start_time": "2024-05-26T17:01:25.284Z"
   },
   {
    "duration": 2591,
    "start_time": "2024-05-26T17:05:54.190Z"
   },
   {
    "duration": 1576,
    "start_time": "2024-05-26T17:05:56.783Z"
   },
   {
    "duration": 98,
    "start_time": "2024-05-26T17:05:58.361Z"
   },
   {
    "duration": 3,
    "start_time": "2024-05-26T17:05:58.461Z"
   },
   {
    "duration": 47,
    "start_time": "2024-05-26T17:05:58.465Z"
   },
   {
    "duration": 53,
    "start_time": "2024-05-26T17:05:58.513Z"
   },
   {
    "duration": 10,
    "start_time": "2024-05-26T17:05:58.568Z"
   },
   {
    "duration": 19,
    "start_time": "2024-05-26T17:05:58.579Z"
   },
   {
    "duration": 61,
    "start_time": "2024-05-26T17:05:58.599Z"
   },
   {
    "duration": 9,
    "start_time": "2024-05-26T17:05:58.661Z"
   },
   {
    "duration": 15,
    "start_time": "2024-05-26T17:05:58.672Z"
   },
   {
    "duration": 4,
    "start_time": "2024-05-26T17:05:58.689Z"
   },
   {
    "duration": 7,
    "start_time": "2024-05-26T17:05:58.694Z"
   },
   {
    "duration": 71,
    "start_time": "2024-05-26T17:05:58.704Z"
   },
   {
    "duration": 19,
    "start_time": "2024-05-26T17:05:58.777Z"
   },
   {
    "duration": 1149,
    "start_time": "2024-05-26T17:05:58.798Z"
   },
   {
    "duration": 182,
    "start_time": "2024-05-26T17:05:59.948Z"
   },
   {
    "duration": 5,
    "start_time": "2024-05-26T17:06:00.131Z"
   },
   {
    "duration": 753,
    "start_time": "2024-05-26T17:06:00.138Z"
   },
   {
    "duration": 13,
    "start_time": "2024-05-26T17:06:00.893Z"
   },
   {
    "duration": 886,
    "start_time": "2024-05-26T17:06:00.907Z"
   },
   {
    "duration": 17,
    "start_time": "2024-05-26T17:06:01.795Z"
   },
   {
    "duration": 31,
    "start_time": "2024-05-26T17:06:01.814Z"
   },
   {
    "duration": 206,
    "start_time": "2024-05-26T17:06:01.847Z"
   },
   {
    "duration": 387,
    "start_time": "2024-05-26T17:06:02.055Z"
   },
   {
    "duration": 447,
    "start_time": "2024-05-26T17:06:02.444Z"
   },
   {
    "duration": 6252,
    "start_time": "2024-05-26T17:06:02.893Z"
   },
   {
    "duration": 13,
    "start_time": "2024-05-26T17:06:09.147Z"
   },
   {
    "duration": 8,
    "start_time": "2024-05-26T17:06:09.161Z"
   },
   {
    "duration": 414,
    "start_time": "2024-05-26T17:06:09.170Z"
   },
   {
    "duration": 803,
    "start_time": "2024-05-26T17:06:09.586Z"
   },
   {
    "duration": 10,
    "start_time": "2024-05-26T17:06:10.391Z"
   },
   {
    "duration": 8,
    "start_time": "2024-05-26T17:06:10.403Z"
   },
   {
    "duration": 399,
    "start_time": "2024-05-26T17:06:10.413Z"
   },
   {
    "duration": 323,
    "start_time": "2024-05-26T17:06:10.814Z"
   },
   {
    "duration": 356,
    "start_time": "2024-05-26T17:06:11.139Z"
   },
   {
    "duration": 340,
    "start_time": "2024-05-26T17:06:11.496Z"
   },
   {
    "duration": 292,
    "start_time": "2024-05-26T17:06:11.837Z"
   },
   {
    "duration": 272,
    "start_time": "2024-05-26T17:06:12.131Z"
   },
   {
    "duration": 291,
    "start_time": "2024-05-26T17:06:12.405Z"
   },
   {
    "duration": 294,
    "start_time": "2024-05-26T17:06:12.700Z"
   },
   {
    "duration": 631,
    "start_time": "2024-05-26T17:06:12.996Z"
   },
   {
    "duration": 435,
    "start_time": "2024-05-26T17:06:13.629Z"
   },
   {
    "duration": 56,
    "start_time": "2024-05-26T17:06:14.066Z"
   },
   {
    "duration": 163,
    "start_time": "2024-05-26T17:06:14.123Z"
   },
   {
    "duration": 9,
    "start_time": "2024-05-26T17:06:14.287Z"
   },
   {
    "duration": 17,
    "start_time": "2024-05-26T17:06:14.297Z"
   },
   {
    "duration": 459,
    "start_time": "2024-05-26T17:06:14.316Z"
   },
   {
    "duration": 2808,
    "start_time": "2024-05-26T17:27:09.512Z"
   },
   {
    "duration": 1314,
    "start_time": "2024-05-26T17:27:12.324Z"
   },
   {
    "duration": 85,
    "start_time": "2024-05-26T17:27:13.640Z"
   },
   {
    "duration": 3,
    "start_time": "2024-05-26T17:27:13.727Z"
   },
   {
    "duration": 23,
    "start_time": "2024-05-26T17:27:13.732Z"
   },
   {
    "duration": 19,
    "start_time": "2024-05-26T17:27:13.757Z"
   },
   {
    "duration": 4,
    "start_time": "2024-05-26T17:27:13.778Z"
   },
   {
    "duration": 20,
    "start_time": "2024-05-26T17:27:13.784Z"
   },
   {
    "duration": 12,
    "start_time": "2024-05-26T17:27:13.806Z"
   },
   {
    "duration": 42,
    "start_time": "2024-05-26T17:27:13.823Z"
   },
   {
    "duration": 15,
    "start_time": "2024-05-26T17:27:13.867Z"
   },
   {
    "duration": 19,
    "start_time": "2024-05-26T17:27:13.884Z"
   },
   {
    "duration": 16,
    "start_time": "2024-05-26T17:27:13.905Z"
   },
   {
    "duration": 30,
    "start_time": "2024-05-26T17:27:13.923Z"
   },
   {
    "duration": 7,
    "start_time": "2024-05-26T17:27:13.955Z"
   },
   {
    "duration": 23,
    "start_time": "2024-05-26T17:27:13.963Z"
   },
   {
    "duration": 14,
    "start_time": "2024-05-26T17:27:13.988Z"
   },
   {
    "duration": 176,
    "start_time": "2024-05-26T17:27:14.004Z"
   },
   {
    "duration": 1276,
    "start_time": "2024-05-26T17:27:14.182Z"
   },
   {
    "duration": 246,
    "start_time": "2024-05-26T17:27:15.462Z"
   },
   {
    "duration": 6,
    "start_time": "2024-05-26T17:27:15.709Z"
   },
   {
    "duration": 939,
    "start_time": "2024-05-26T17:27:15.717Z"
   },
   {
    "duration": 15,
    "start_time": "2024-05-26T17:27:16.658Z"
   },
   {
    "duration": 1344,
    "start_time": "2024-05-26T17:27:16.675Z"
   },
   {
    "duration": 18,
    "start_time": "2024-05-26T17:27:18.022Z"
   },
   {
    "duration": 5,
    "start_time": "2024-05-26T17:27:18.059Z"
   },
   {
    "duration": 190,
    "start_time": "2024-05-26T17:27:18.066Z"
   },
   {
    "duration": 400,
    "start_time": "2024-05-26T17:27:18.261Z"
   },
   {
    "duration": 450,
    "start_time": "2024-05-26T17:27:18.663Z"
   },
   {
    "duration": 6627,
    "start_time": "2024-05-26T17:27:19.115Z"
   },
   {
    "duration": 18,
    "start_time": "2024-05-26T17:27:25.744Z"
   },
   {
    "duration": 6,
    "start_time": "2024-05-26T17:27:25.764Z"
   },
   {
    "duration": 414,
    "start_time": "2024-05-26T17:27:25.772Z"
   },
   {
    "duration": 795,
    "start_time": "2024-05-26T17:27:26.188Z"
   },
   {
    "duration": 9,
    "start_time": "2024-05-26T17:27:26.984Z"
   },
   {
    "duration": 4,
    "start_time": "2024-05-26T17:27:26.995Z"
   },
   {
    "duration": 804,
    "start_time": "2024-05-26T17:27:27.001Z"
   },
   {
    "duration": 332,
    "start_time": "2024-05-26T17:27:27.807Z"
   },
   {
    "duration": 328,
    "start_time": "2024-05-26T17:27:28.141Z"
   },
   {
    "duration": 316,
    "start_time": "2024-05-26T17:27:28.471Z"
   },
   {
    "duration": 313,
    "start_time": "2024-05-26T17:27:28.789Z"
   },
   {
    "duration": 291,
    "start_time": "2024-05-26T17:27:29.104Z"
   },
   {
    "duration": 319,
    "start_time": "2024-05-26T17:27:29.396Z"
   },
   {
    "duration": 281,
    "start_time": "2024-05-26T17:27:29.717Z"
   },
   {
    "duration": 1067,
    "start_time": "2024-05-26T17:27:30.000Z"
   },
   {
    "duration": 490,
    "start_time": "2024-05-26T17:27:31.069Z"
   },
   {
    "duration": 149,
    "start_time": "2024-05-26T17:27:31.561Z"
   },
   {
    "duration": 126,
    "start_time": "2024-05-26T17:27:31.711Z"
   },
   {
    "duration": 9,
    "start_time": "2024-05-26T17:27:31.839Z"
   },
   {
    "duration": 15,
    "start_time": "2024-05-26T17:27:31.859Z"
   },
   {
    "duration": 27,
    "start_time": "2024-05-26T17:27:31.876Z"
   },
   {
    "duration": 2717,
    "start_time": "2024-05-26T17:28:37.837Z"
   },
   {
    "duration": 1380,
    "start_time": "2024-05-26T17:28:40.556Z"
   },
   {
    "duration": 62,
    "start_time": "2024-05-26T17:28:41.938Z"
   },
   {
    "duration": 4,
    "start_time": "2024-05-26T17:28:42.003Z"
   },
   {
    "duration": 147,
    "start_time": "2024-05-26T17:28:42.008Z"
   },
   {
    "duration": 20,
    "start_time": "2024-05-26T17:28:42.157Z"
   },
   {
    "duration": 4,
    "start_time": "2024-05-26T17:28:42.179Z"
   },
   {
    "duration": 18,
    "start_time": "2024-05-26T17:28:42.185Z"
   },
   {
    "duration": 22,
    "start_time": "2024-05-26T17:28:42.205Z"
   },
   {
    "duration": 29,
    "start_time": "2024-05-26T17:28:42.230Z"
   },
   {
    "duration": 15,
    "start_time": "2024-05-26T17:28:42.262Z"
   },
   {
    "duration": 6,
    "start_time": "2024-05-26T17:28:42.279Z"
   },
   {
    "duration": 8,
    "start_time": "2024-05-26T17:28:42.287Z"
   },
   {
    "duration": 20,
    "start_time": "2024-05-26T17:28:42.297Z"
   },
   {
    "duration": 44,
    "start_time": "2024-05-26T17:28:42.318Z"
   },
   {
    "duration": 16,
    "start_time": "2024-05-26T17:28:42.364Z"
   },
   {
    "duration": 15,
    "start_time": "2024-05-26T17:28:42.382Z"
   },
   {
    "duration": 40,
    "start_time": "2024-05-26T17:28:42.398Z"
   },
   {
    "duration": 1254,
    "start_time": "2024-05-26T17:28:42.440Z"
   },
   {
    "duration": 184,
    "start_time": "2024-05-26T17:28:43.696Z"
   },
   {
    "duration": 5,
    "start_time": "2024-05-26T17:28:43.882Z"
   },
   {
    "duration": 891,
    "start_time": "2024-05-26T17:28:43.888Z"
   },
   {
    "duration": 14,
    "start_time": "2024-05-26T17:28:44.782Z"
   },
   {
    "duration": 1307,
    "start_time": "2024-05-26T17:28:44.798Z"
   },
   {
    "duration": 18,
    "start_time": "2024-05-26T17:28:46.106Z"
   },
   {
    "duration": 9,
    "start_time": "2024-05-26T17:28:46.125Z"
   },
   {
    "duration": 199,
    "start_time": "2024-05-26T17:28:46.136Z"
   },
   {
    "duration": 403,
    "start_time": "2024-05-26T17:28:46.338Z"
   },
   {
    "duration": 440,
    "start_time": "2024-05-26T17:28:46.742Z"
   },
   {
    "duration": 7031,
    "start_time": "2024-05-26T17:28:47.183Z"
   },
   {
    "duration": 9,
    "start_time": "2024-05-26T17:28:54.216Z"
   },
   {
    "duration": 6,
    "start_time": "2024-05-26T17:28:54.226Z"
   },
   {
    "duration": 462,
    "start_time": "2024-05-26T17:28:54.233Z"
   },
   {
    "duration": 905,
    "start_time": "2024-05-26T17:28:54.697Z"
   },
   {
    "duration": 11,
    "start_time": "2024-05-26T17:28:55.604Z"
   },
   {
    "duration": 6,
    "start_time": "2024-05-26T17:28:55.616Z"
   },
   {
    "duration": 850,
    "start_time": "2024-05-26T17:28:55.624Z"
   },
   {
    "duration": 370,
    "start_time": "2024-05-26T17:28:56.476Z"
   },
   {
    "duration": 371,
    "start_time": "2024-05-26T17:28:56.848Z"
   },
   {
    "duration": 344,
    "start_time": "2024-05-26T17:28:57.220Z"
   },
   {
    "duration": 278,
    "start_time": "2024-05-26T17:28:57.566Z"
   },
   {
    "duration": 286,
    "start_time": "2024-05-26T17:28:57.845Z"
   },
   {
    "duration": 301,
    "start_time": "2024-05-26T17:28:58.132Z"
   },
   {
    "duration": 278,
    "start_time": "2024-05-26T17:28:58.435Z"
   },
   {
    "duration": 1188,
    "start_time": "2024-05-26T17:28:58.714Z"
   },
   {
    "duration": 511,
    "start_time": "2024-05-26T17:28:59.903Z"
   },
   {
    "duration": 175,
    "start_time": "2024-05-26T17:29:00.416Z"
   },
   {
    "duration": 136,
    "start_time": "2024-05-26T17:29:00.592Z"
   },
   {
    "duration": 9,
    "start_time": "2024-05-26T17:29:00.730Z"
   },
   {
    "duration": 56,
    "start_time": "2024-05-26T17:29:00.741Z"
   },
   {
    "duration": 48,
    "start_time": "2024-05-26T17:29:00.799Z"
   },
   {
    "duration": 2720,
    "start_time": "2024-05-26T17:31:23.047Z"
   },
   {
    "duration": 1291,
    "start_time": "2024-05-26T17:31:25.771Z"
   },
   {
    "duration": 72,
    "start_time": "2024-05-26T17:31:27.064Z"
   },
   {
    "duration": 5,
    "start_time": "2024-05-26T17:31:27.138Z"
   },
   {
    "duration": 43,
    "start_time": "2024-05-26T17:31:27.144Z"
   },
   {
    "duration": 15,
    "start_time": "2024-05-26T17:31:27.189Z"
   },
   {
    "duration": 4,
    "start_time": "2024-05-26T17:31:27.205Z"
   },
   {
    "duration": 31,
    "start_time": "2024-05-26T17:31:27.210Z"
   },
   {
    "duration": 19,
    "start_time": "2024-05-26T17:31:27.245Z"
   },
   {
    "duration": 14,
    "start_time": "2024-05-26T17:31:27.268Z"
   },
   {
    "duration": 20,
    "start_time": "2024-05-26T17:31:27.284Z"
   },
   {
    "duration": 6,
    "start_time": "2024-05-26T17:31:27.306Z"
   },
   {
    "duration": 22,
    "start_time": "2024-05-26T17:31:27.314Z"
   },
   {
    "duration": 38,
    "start_time": "2024-05-26T17:31:27.338Z"
   },
   {
    "duration": 5,
    "start_time": "2024-05-26T17:31:27.379Z"
   },
   {
    "duration": 22,
    "start_time": "2024-05-26T17:31:27.386Z"
   },
   {
    "duration": 17,
    "start_time": "2024-05-26T17:31:27.411Z"
   },
   {
    "duration": 55,
    "start_time": "2024-05-26T17:31:27.429Z"
   },
   {
    "duration": 1223,
    "start_time": "2024-05-26T17:31:27.486Z"
   },
   {
    "duration": 214,
    "start_time": "2024-05-26T17:31:28.712Z"
   },
   {
    "duration": 5,
    "start_time": "2024-05-26T17:31:28.928Z"
   },
   {
    "duration": 877,
    "start_time": "2024-05-26T17:31:28.934Z"
   },
   {
    "duration": 21,
    "start_time": "2024-05-26T17:31:29.814Z"
   },
   {
    "duration": 1560,
    "start_time": "2024-05-26T17:31:29.837Z"
   },
   {
    "duration": 19,
    "start_time": "2024-05-26T17:31:31.399Z"
   },
   {
    "duration": 55,
    "start_time": "2024-05-26T17:31:31.420Z"
   },
   {
    "duration": 222,
    "start_time": "2024-05-26T17:31:31.482Z"
   },
   {
    "duration": 441,
    "start_time": "2024-05-26T17:31:31.710Z"
   },
   {
    "duration": 477,
    "start_time": "2024-05-26T17:31:32.159Z"
   },
   {
    "duration": 2745,
    "start_time": "2024-05-26T17:44:30.660Z"
   },
   {
    "duration": 1284,
    "start_time": "2024-05-26T17:44:33.408Z"
   },
   {
    "duration": 74,
    "start_time": "2024-05-26T17:44:34.694Z"
   },
   {
    "duration": 3,
    "start_time": "2024-05-26T17:44:34.771Z"
   },
   {
    "duration": 26,
    "start_time": "2024-05-26T17:44:34.775Z"
   },
   {
    "duration": 13,
    "start_time": "2024-05-26T17:44:34.803Z"
   },
   {
    "duration": 3,
    "start_time": "2024-05-26T17:44:34.818Z"
   },
   {
    "duration": 15,
    "start_time": "2024-05-26T17:44:34.823Z"
   },
   {
    "duration": 29,
    "start_time": "2024-05-26T17:44:34.839Z"
   },
   {
    "duration": 10,
    "start_time": "2024-05-26T17:44:34.871Z"
   },
   {
    "duration": 14,
    "start_time": "2024-05-26T17:44:34.883Z"
   },
   {
    "duration": 5,
    "start_time": "2024-05-26T17:44:34.899Z"
   },
   {
    "duration": 11,
    "start_time": "2024-05-26T17:44:34.905Z"
   },
   {
    "duration": 62,
    "start_time": "2024-05-26T17:44:34.918Z"
   },
   {
    "duration": 154,
    "start_time": "2024-05-26T17:44:34.982Z"
   },
   {
    "duration": 0,
    "start_time": "2024-05-26T17:44:35.138Z"
   },
   {
    "duration": 0,
    "start_time": "2024-05-26T17:44:35.139Z"
   },
   {
    "duration": 0,
    "start_time": "2024-05-26T17:44:35.141Z"
   },
   {
    "duration": 0,
    "start_time": "2024-05-26T17:44:35.142Z"
   },
   {
    "duration": 0,
    "start_time": "2024-05-26T17:44:35.142Z"
   },
   {
    "duration": 0,
    "start_time": "2024-05-26T17:44:35.144Z"
   },
   {
    "duration": 0,
    "start_time": "2024-05-26T17:44:35.159Z"
   },
   {
    "duration": 0,
    "start_time": "2024-05-26T17:44:35.161Z"
   },
   {
    "duration": 0,
    "start_time": "2024-05-26T17:44:35.162Z"
   },
   {
    "duration": 0,
    "start_time": "2024-05-26T17:44:35.163Z"
   },
   {
    "duration": 0,
    "start_time": "2024-05-26T17:44:35.164Z"
   },
   {
    "duration": 0,
    "start_time": "2024-05-26T17:44:35.165Z"
   },
   {
    "duration": 0,
    "start_time": "2024-05-26T17:44:35.166Z"
   },
   {
    "duration": 0,
    "start_time": "2024-05-26T17:44:35.168Z"
   },
   {
    "duration": 0,
    "start_time": "2024-05-26T17:44:35.168Z"
   },
   {
    "duration": 0,
    "start_time": "2024-05-26T17:44:35.170Z"
   },
   {
    "duration": 0,
    "start_time": "2024-05-26T17:44:35.171Z"
   },
   {
    "duration": 0,
    "start_time": "2024-05-26T17:44:35.172Z"
   },
   {
    "duration": 0,
    "start_time": "2024-05-26T17:44:35.172Z"
   },
   {
    "duration": 0,
    "start_time": "2024-05-26T17:44:35.173Z"
   },
   {
    "duration": 1,
    "start_time": "2024-05-26T17:44:35.174Z"
   },
   {
    "duration": 0,
    "start_time": "2024-05-26T17:44:35.176Z"
   },
   {
    "duration": 0,
    "start_time": "2024-05-26T17:44:35.177Z"
   },
   {
    "duration": 0,
    "start_time": "2024-05-26T17:44:35.177Z"
   },
   {
    "duration": 0,
    "start_time": "2024-05-26T17:44:35.178Z"
   },
   {
    "duration": 0,
    "start_time": "2024-05-26T17:44:35.179Z"
   },
   {
    "duration": 0,
    "start_time": "2024-05-26T17:44:35.180Z"
   },
   {
    "duration": 0,
    "start_time": "2024-05-26T17:44:35.181Z"
   },
   {
    "duration": 0,
    "start_time": "2024-05-26T17:44:35.182Z"
   },
   {
    "duration": 0,
    "start_time": "2024-05-26T17:44:35.183Z"
   },
   {
    "duration": 0,
    "start_time": "2024-05-26T17:44:35.184Z"
   },
   {
    "duration": 0,
    "start_time": "2024-05-26T17:44:35.185Z"
   },
   {
    "duration": 0,
    "start_time": "2024-05-26T17:44:35.186Z"
   },
   {
    "duration": 0,
    "start_time": "2024-05-26T17:44:35.187Z"
   },
   {
    "duration": 2698,
    "start_time": "2024-05-26T17:45:05.257Z"
   },
   {
    "duration": 1248,
    "start_time": "2024-05-26T17:45:07.958Z"
   },
   {
    "duration": 82,
    "start_time": "2024-05-26T17:45:09.208Z"
   },
   {
    "duration": 3,
    "start_time": "2024-05-26T17:45:09.292Z"
   },
   {
    "duration": 27,
    "start_time": "2024-05-26T17:45:09.297Z"
   },
   {
    "duration": 19,
    "start_time": "2024-05-26T17:45:09.326Z"
   },
   {
    "duration": 3,
    "start_time": "2024-05-26T17:45:09.347Z"
   },
   {
    "duration": 15,
    "start_time": "2024-05-26T17:45:09.351Z"
   },
   {
    "duration": 12,
    "start_time": "2024-05-26T17:45:09.368Z"
   },
   {
    "duration": 10,
    "start_time": "2024-05-26T17:45:09.383Z"
   },
   {
    "duration": 23,
    "start_time": "2024-05-26T17:45:09.395Z"
   },
   {
    "duration": 4,
    "start_time": "2024-05-26T17:45:09.419Z"
   },
   {
    "duration": 10,
    "start_time": "2024-05-26T17:45:09.425Z"
   },
   {
    "duration": 40,
    "start_time": "2024-05-26T17:45:09.436Z"
   },
   {
    "duration": 27,
    "start_time": "2024-05-26T17:45:09.478Z"
   },
   {
    "duration": 29,
    "start_time": "2024-05-26T17:45:09.507Z"
   },
   {
    "duration": 1265,
    "start_time": "2024-05-26T17:45:09.538Z"
   },
   {
    "duration": 184,
    "start_time": "2024-05-26T17:45:10.804Z"
   },
   {
    "duration": 5,
    "start_time": "2024-05-26T17:45:10.990Z"
   },
   {
    "duration": 899,
    "start_time": "2024-05-26T17:45:10.996Z"
   },
   {
    "duration": 14,
    "start_time": "2024-05-26T17:45:11.898Z"
   },
   {
    "duration": 1316,
    "start_time": "2024-05-26T17:45:11.914Z"
   },
   {
    "duration": 17,
    "start_time": "2024-05-26T17:45:13.232Z"
   },
   {
    "duration": 11,
    "start_time": "2024-05-26T17:45:13.250Z"
   },
   {
    "duration": 188,
    "start_time": "2024-05-26T17:45:13.263Z"
   },
   {
    "duration": 391,
    "start_time": "2024-05-26T17:45:13.453Z"
   },
   {
    "duration": 427,
    "start_time": "2024-05-26T17:45:13.846Z"
   },
   {
    "duration": 6710,
    "start_time": "2024-05-26T17:45:14.277Z"
   },
   {
    "duration": 9,
    "start_time": "2024-05-26T17:45:20.989Z"
   },
   {
    "duration": 12,
    "start_time": "2024-05-26T17:45:21.000Z"
   },
   {
    "duration": 417,
    "start_time": "2024-05-26T17:45:21.014Z"
   },
   {
    "duration": 845,
    "start_time": "2024-05-26T17:45:21.433Z"
   },
   {
    "duration": 8,
    "start_time": "2024-05-26T17:45:22.280Z"
   },
   {
    "duration": 5,
    "start_time": "2024-05-26T17:45:22.290Z"
   },
   {
    "duration": 784,
    "start_time": "2024-05-26T17:45:22.296Z"
   },
   {
    "duration": 363,
    "start_time": "2024-05-26T17:45:23.083Z"
   },
   {
    "duration": 347,
    "start_time": "2024-05-26T17:45:23.448Z"
   },
   {
    "duration": 329,
    "start_time": "2024-05-26T17:45:23.797Z"
   },
   {
    "duration": 296,
    "start_time": "2024-05-26T17:45:24.127Z"
   },
   {
    "duration": 279,
    "start_time": "2024-05-26T17:45:24.424Z"
   },
   {
    "duration": 302,
    "start_time": "2024-05-26T17:45:24.705Z"
   },
   {
    "duration": 291,
    "start_time": "2024-05-26T17:45:25.010Z"
   },
   {
    "duration": 1089,
    "start_time": "2024-05-26T17:45:25.302Z"
   },
   {
    "duration": 466,
    "start_time": "2024-05-26T17:45:26.393Z"
   },
   {
    "duration": 151,
    "start_time": "2024-05-26T17:45:26.861Z"
   },
   {
    "duration": 121,
    "start_time": "2024-05-26T17:45:27.014Z"
   },
   {
    "duration": 22,
    "start_time": "2024-05-26T17:45:27.137Z"
   },
   {
    "duration": 68,
    "start_time": "2024-05-26T17:45:27.161Z"
   },
   {
    "duration": 53,
    "start_time": "2024-05-26T17:45:27.231Z"
   },
   {
    "duration": 2612,
    "start_time": "2024-05-26T17:47:41.162Z"
   },
   {
    "duration": 1213,
    "start_time": "2024-05-26T17:47:43.777Z"
   },
   {
    "duration": 79,
    "start_time": "2024-05-26T17:47:44.992Z"
   },
   {
    "duration": 2,
    "start_time": "2024-05-26T17:47:45.074Z"
   },
   {
    "duration": 167,
    "start_time": "2024-05-26T17:47:45.078Z"
   },
   {
    "duration": 15,
    "start_time": "2024-05-26T17:47:45.247Z"
   },
   {
    "duration": 33,
    "start_time": "2024-05-26T17:47:45.263Z"
   },
   {
    "duration": 28,
    "start_time": "2024-05-26T17:47:45.298Z"
   },
   {
    "duration": 63,
    "start_time": "2024-05-26T17:47:45.328Z"
   },
   {
    "duration": 26,
    "start_time": "2024-05-26T17:47:45.394Z"
   },
   {
    "duration": 34,
    "start_time": "2024-05-26T17:47:45.421Z"
   },
   {
    "duration": 5,
    "start_time": "2024-05-26T17:47:45.457Z"
   },
   {
    "duration": 9,
    "start_time": "2024-05-26T17:47:45.464Z"
   },
   {
    "duration": 31,
    "start_time": "2024-05-26T17:47:45.474Z"
   },
   {
    "duration": 28,
    "start_time": "2024-05-26T17:47:45.506Z"
   },
   {
    "duration": 41,
    "start_time": "2024-05-26T17:47:45.536Z"
   },
   {
    "duration": 472,
    "start_time": "2024-05-26T17:47:45.579Z"
   },
   {
    "duration": 185,
    "start_time": "2024-05-26T17:47:46.053Z"
   },
   {
    "duration": 5,
    "start_time": "2024-05-26T17:47:46.239Z"
   },
   {
    "duration": 870,
    "start_time": "2024-05-26T17:47:46.245Z"
   },
   {
    "duration": 15,
    "start_time": "2024-05-26T17:47:47.118Z"
   },
   {
    "duration": 1254,
    "start_time": "2024-05-26T17:47:47.135Z"
   },
   {
    "duration": 17,
    "start_time": "2024-05-26T17:47:48.391Z"
   },
   {
    "duration": 4,
    "start_time": "2024-05-26T17:47:48.410Z"
   },
   {
    "duration": 209,
    "start_time": "2024-05-26T17:47:48.416Z"
   },
   {
    "duration": 410,
    "start_time": "2024-05-26T17:47:48.627Z"
   },
   {
    "duration": 439,
    "start_time": "2024-05-26T17:47:49.039Z"
   },
   {
    "duration": 6446,
    "start_time": "2024-05-26T17:47:49.481Z"
   },
   {
    "duration": 8,
    "start_time": "2024-05-26T17:47:55.929Z"
   },
   {
    "duration": 6,
    "start_time": "2024-05-26T17:47:55.939Z"
   },
   {
    "duration": 382,
    "start_time": "2024-05-26T17:47:55.958Z"
   },
   {
    "duration": 780,
    "start_time": "2024-05-26T17:47:56.342Z"
   },
   {
    "duration": 8,
    "start_time": "2024-05-26T17:47:57.124Z"
   },
   {
    "duration": 5,
    "start_time": "2024-05-26T17:47:57.134Z"
   },
   {
    "duration": 414,
    "start_time": "2024-05-26T17:47:57.141Z"
   },
   {
    "duration": 354,
    "start_time": "2024-05-26T17:47:57.557Z"
   },
   {
    "duration": 295,
    "start_time": "2024-05-26T17:47:57.912Z"
   },
   {
    "duration": 317,
    "start_time": "2024-05-26T17:47:58.209Z"
   },
   {
    "duration": 314,
    "start_time": "2024-05-26T17:47:58.528Z"
   },
   {
    "duration": 284,
    "start_time": "2024-05-26T17:47:58.843Z"
   },
   {
    "duration": 270,
    "start_time": "2024-05-26T17:47:59.129Z"
   },
   {
    "duration": 290,
    "start_time": "2024-05-26T17:47:59.400Z"
   },
   {
    "duration": 1071,
    "start_time": "2024-05-26T17:47:59.692Z"
   },
   {
    "duration": 466,
    "start_time": "2024-05-26T17:48:00.765Z"
   },
   {
    "duration": 69,
    "start_time": "2024-05-26T17:48:01.233Z"
   },
   {
    "duration": 124,
    "start_time": "2024-05-26T17:48:01.304Z"
   },
   {
    "duration": 10,
    "start_time": "2024-05-26T17:48:01.430Z"
   },
   {
    "duration": 41,
    "start_time": "2024-05-26T17:48:01.441Z"
   },
   {
    "duration": 549,
    "start_time": "2024-05-26T17:48:01.484Z"
   },
   {
    "duration": 2605,
    "start_time": "2024-05-26T17:52:12.476Z"
   },
   {
    "duration": 1251,
    "start_time": "2024-05-26T17:52:15.084Z"
   },
   {
    "duration": 77,
    "start_time": "2024-05-26T17:52:16.337Z"
   },
   {
    "duration": 3,
    "start_time": "2024-05-26T17:52:16.416Z"
   },
   {
    "duration": 21,
    "start_time": "2024-05-26T17:52:16.421Z"
   },
   {
    "duration": 16,
    "start_time": "2024-05-26T17:52:16.443Z"
   },
   {
    "duration": 3,
    "start_time": "2024-05-26T17:52:16.461Z"
   },
   {
    "duration": 19,
    "start_time": "2024-05-26T17:52:16.466Z"
   },
   {
    "duration": 11,
    "start_time": "2024-05-26T17:52:16.486Z"
   },
   {
    "duration": 9,
    "start_time": "2024-05-26T17:52:16.499Z"
   },
   {
    "duration": 13,
    "start_time": "2024-05-26T17:52:16.510Z"
   },
   {
    "duration": 34,
    "start_time": "2024-05-26T17:52:16.524Z"
   },
   {
    "duration": 6,
    "start_time": "2024-05-26T17:52:16.561Z"
   },
   {
    "duration": 51,
    "start_time": "2024-05-26T17:52:16.568Z"
   },
   {
    "duration": 25,
    "start_time": "2024-05-26T17:52:16.621Z"
   },
   {
    "duration": 32,
    "start_time": "2024-05-26T17:52:16.647Z"
   },
   {
    "duration": 451,
    "start_time": "2024-05-26T17:52:16.681Z"
   },
   {
    "duration": 189,
    "start_time": "2024-05-26T17:52:17.134Z"
   },
   {
    "duration": 5,
    "start_time": "2024-05-26T17:52:17.324Z"
   },
   {
    "duration": 841,
    "start_time": "2024-05-26T17:52:17.331Z"
   },
   {
    "duration": 14,
    "start_time": "2024-05-26T17:52:18.174Z"
   },
   {
    "duration": 517,
    "start_time": "2024-05-26T17:52:18.190Z"
   },
   {
    "duration": 16,
    "start_time": "2024-05-26T17:52:18.708Z"
   },
   {
    "duration": 4,
    "start_time": "2024-05-26T17:52:18.726Z"
   },
   {
    "duration": 192,
    "start_time": "2024-05-26T17:52:18.732Z"
   },
   {
    "duration": 380,
    "start_time": "2024-05-26T17:52:18.926Z"
   },
   {
    "duration": 462,
    "start_time": "2024-05-26T17:52:19.308Z"
   },
   {
    "duration": 6396,
    "start_time": "2024-05-26T17:52:19.774Z"
   },
   {
    "duration": 10,
    "start_time": "2024-05-26T17:52:26.171Z"
   },
   {
    "duration": 12,
    "start_time": "2024-05-26T17:52:26.183Z"
   },
   {
    "duration": 395,
    "start_time": "2024-05-26T17:52:26.198Z"
   },
   {
    "duration": 782,
    "start_time": "2024-05-26T17:52:26.596Z"
   },
   {
    "duration": 9,
    "start_time": "2024-05-26T17:52:27.380Z"
   },
   {
    "duration": 6,
    "start_time": "2024-05-26T17:52:27.391Z"
   },
   {
    "duration": 417,
    "start_time": "2024-05-26T17:52:27.399Z"
   },
   {
    "duration": 323,
    "start_time": "2024-05-26T17:52:27.817Z"
   },
   {
    "duration": 279,
    "start_time": "2024-05-26T17:52:28.142Z"
   },
   {
    "duration": 327,
    "start_time": "2024-05-26T17:52:28.423Z"
   },
   {
    "duration": 287,
    "start_time": "2024-05-26T17:52:28.758Z"
   },
   {
    "duration": 260,
    "start_time": "2024-05-26T17:52:29.046Z"
   },
   {
    "duration": 291,
    "start_time": "2024-05-26T17:52:29.307Z"
   },
   {
    "duration": 297,
    "start_time": "2024-05-26T17:52:29.600Z"
   },
   {
    "duration": 1153,
    "start_time": "2024-05-26T17:52:29.899Z"
   },
   {
    "duration": 495,
    "start_time": "2024-05-26T17:52:31.054Z"
   },
   {
    "duration": 545,
    "start_time": "2024-05-26T17:52:31.560Z"
   },
   {
    "duration": 139,
    "start_time": "2024-05-26T17:52:32.107Z"
   },
   {
    "duration": 18,
    "start_time": "2024-05-26T17:52:32.248Z"
   },
   {
    "duration": 16,
    "start_time": "2024-05-26T17:52:32.268Z"
   },
   {
    "duration": 26,
    "start_time": "2024-05-26T17:52:32.285Z"
   },
   {
    "duration": 2637,
    "start_time": "2024-05-26T18:09:04.356Z"
   },
   {
    "duration": 1264,
    "start_time": "2024-05-26T18:09:06.995Z"
   },
   {
    "duration": 130,
    "start_time": "2024-05-26T18:09:08.260Z"
   },
   {
    "duration": 4,
    "start_time": "2024-05-26T18:09:08.393Z"
   },
   {
    "duration": 21,
    "start_time": "2024-05-26T18:09:08.399Z"
   },
   {
    "duration": 13,
    "start_time": "2024-05-26T18:09:08.421Z"
   },
   {
    "duration": 7,
    "start_time": "2024-05-26T18:09:08.436Z"
   },
   {
    "duration": 15,
    "start_time": "2024-05-26T18:09:08.444Z"
   },
   {
    "duration": 16,
    "start_time": "2024-05-26T18:09:08.461Z"
   },
   {
    "duration": 24,
    "start_time": "2024-05-26T18:09:08.479Z"
   },
   {
    "duration": 20,
    "start_time": "2024-05-26T18:09:08.504Z"
   },
   {
    "duration": 4,
    "start_time": "2024-05-26T18:09:08.526Z"
   },
   {
    "duration": 8,
    "start_time": "2024-05-26T18:09:08.532Z"
   },
   {
    "duration": 36,
    "start_time": "2024-05-26T18:09:08.542Z"
   },
   {
    "duration": 27,
    "start_time": "2024-05-26T18:09:08.580Z"
   },
   {
    "duration": 82,
    "start_time": "2024-05-26T18:09:08.609Z"
   },
   {
    "duration": 467,
    "start_time": "2024-05-26T18:09:08.692Z"
   },
   {
    "duration": 193,
    "start_time": "2024-05-26T18:09:09.161Z"
   },
   {
    "duration": 7,
    "start_time": "2024-05-26T18:09:09.359Z"
   },
   {
    "duration": 923,
    "start_time": "2024-05-26T18:09:09.368Z"
   },
   {
    "duration": 15,
    "start_time": "2024-05-26T18:09:10.294Z"
   },
   {
    "duration": 516,
    "start_time": "2024-05-26T18:09:10.310Z"
   },
   {
    "duration": 4,
    "start_time": "2024-05-26T18:09:10.828Z"
   },
   {
    "duration": 199,
    "start_time": "2024-05-26T18:09:10.834Z"
   },
   {
    "duration": 402,
    "start_time": "2024-05-26T18:09:11.034Z"
   },
   {
    "duration": 450,
    "start_time": "2024-05-26T18:09:11.439Z"
   },
   {
    "duration": 6684,
    "start_time": "2024-05-26T18:09:11.892Z"
   },
   {
    "duration": 9,
    "start_time": "2024-05-26T18:09:18.580Z"
   },
   {
    "duration": 4,
    "start_time": "2024-05-26T18:09:18.591Z"
   },
   {
    "duration": 399,
    "start_time": "2024-05-26T18:09:18.597Z"
   },
   {
    "duration": 1176,
    "start_time": "2024-05-26T18:09:18.998Z"
   },
   {
    "duration": 9,
    "start_time": "2024-05-26T18:09:20.177Z"
   },
   {
    "duration": 19,
    "start_time": "2024-05-26T18:09:20.187Z"
   },
   {
    "duration": 389,
    "start_time": "2024-05-26T18:09:20.207Z"
   },
   {
    "duration": 329,
    "start_time": "2024-05-26T18:09:20.598Z"
   },
   {
    "duration": 290,
    "start_time": "2024-05-26T18:09:20.929Z"
   },
   {
    "duration": 329,
    "start_time": "2024-05-26T18:09:21.221Z"
   },
   {
    "duration": 274,
    "start_time": "2024-05-26T18:09:21.552Z"
   },
   {
    "duration": 297,
    "start_time": "2024-05-26T18:09:21.828Z"
   },
   {
    "duration": 281,
    "start_time": "2024-05-26T18:09:22.127Z"
   },
   {
    "duration": 290,
    "start_time": "2024-05-26T18:09:22.409Z"
   },
   {
    "duration": 931,
    "start_time": "2024-05-26T18:09:22.700Z"
   },
   {
    "duration": 477,
    "start_time": "2024-05-26T18:09:23.633Z"
   },
   {
    "duration": 498,
    "start_time": "2024-05-26T18:09:24.112Z"
   },
   {
    "duration": 120,
    "start_time": "2024-05-26T18:09:24.612Z"
   },
   {
    "duration": 8,
    "start_time": "2024-05-26T18:09:24.734Z"
   },
   {
    "duration": 27,
    "start_time": "2024-05-26T18:09:24.744Z"
   },
   {
    "duration": 23,
    "start_time": "2024-05-26T18:09:24.773Z"
   },
   {
    "duration": 2628,
    "start_time": "2024-05-26T18:16:07.474Z"
   },
   {
    "duration": 1208,
    "start_time": "2024-05-26T18:16:10.104Z"
   },
   {
    "duration": 74,
    "start_time": "2024-05-26T18:16:11.314Z"
   },
   {
    "duration": 2,
    "start_time": "2024-05-26T18:16:11.391Z"
   },
   {
    "duration": 26,
    "start_time": "2024-05-26T18:16:11.395Z"
   },
   {
    "duration": 12,
    "start_time": "2024-05-26T18:16:11.423Z"
   },
   {
    "duration": 5,
    "start_time": "2024-05-26T18:16:11.437Z"
   },
   {
    "duration": 19,
    "start_time": "2024-05-26T18:16:11.443Z"
   },
   {
    "duration": 19,
    "start_time": "2024-05-26T18:16:11.464Z"
   },
   {
    "duration": 10,
    "start_time": "2024-05-26T18:16:11.486Z"
   },
   {
    "duration": 18,
    "start_time": "2024-05-26T18:16:11.498Z"
   },
   {
    "duration": 4,
    "start_time": "2024-05-26T18:16:11.517Z"
   },
   {
    "duration": 40,
    "start_time": "2024-05-26T18:16:11.523Z"
   },
   {
    "duration": 29,
    "start_time": "2024-05-26T18:16:11.564Z"
   },
   {
    "duration": 27,
    "start_time": "2024-05-26T18:16:11.595Z"
   },
   {
    "duration": 61,
    "start_time": "2024-05-26T18:16:11.624Z"
   },
   {
    "duration": 519,
    "start_time": "2024-05-26T18:16:11.687Z"
   },
   {
    "duration": 205,
    "start_time": "2024-05-26T18:16:12.207Z"
   },
   {
    "duration": 5,
    "start_time": "2024-05-26T18:16:12.414Z"
   },
   {
    "duration": 858,
    "start_time": "2024-05-26T18:16:12.421Z"
   },
   {
    "duration": 21,
    "start_time": "2024-05-26T18:16:13.283Z"
   },
   {
    "duration": 565,
    "start_time": "2024-05-26T18:16:13.306Z"
   },
   {
    "duration": 5,
    "start_time": "2024-05-26T18:16:13.872Z"
   },
   {
    "duration": 209,
    "start_time": "2024-05-26T18:16:13.879Z"
   },
   {
    "duration": 397,
    "start_time": "2024-05-26T18:16:14.089Z"
   },
   {
    "duration": 474,
    "start_time": "2024-05-26T18:16:14.487Z"
   },
   {
    "duration": 6734,
    "start_time": "2024-05-26T18:16:14.963Z"
   },
   {
    "duration": 9,
    "start_time": "2024-05-26T18:16:21.701Z"
   },
   {
    "duration": 12,
    "start_time": "2024-05-26T18:16:21.712Z"
   },
   {
    "duration": 423,
    "start_time": "2024-05-26T18:16:21.725Z"
   },
   {
    "duration": 825,
    "start_time": "2024-05-26T18:16:22.150Z"
   },
   {
    "duration": 9,
    "start_time": "2024-05-26T18:16:22.976Z"
   },
   {
    "duration": 5,
    "start_time": "2024-05-26T18:16:22.987Z"
   },
   {
    "duration": 413,
    "start_time": "2024-05-26T18:16:22.993Z"
   },
   {
    "duration": 337,
    "start_time": "2024-05-26T18:16:23.407Z"
   },
   {
    "duration": 313,
    "start_time": "2024-05-26T18:16:23.746Z"
   },
   {
    "duration": 315,
    "start_time": "2024-05-26T18:16:24.061Z"
   },
   {
    "duration": 256,
    "start_time": "2024-05-26T18:16:24.378Z"
   },
   {
    "duration": 277,
    "start_time": "2024-05-26T18:16:24.635Z"
   },
   {
    "duration": 304,
    "start_time": "2024-05-26T18:16:24.913Z"
   },
   {
    "duration": 282,
    "start_time": "2024-05-26T18:16:25.219Z"
   },
   {
    "duration": 993,
    "start_time": "2024-05-26T18:16:25.503Z"
   },
   {
    "duration": 456,
    "start_time": "2024-05-26T18:16:26.497Z"
   },
   {
    "duration": 541,
    "start_time": "2024-05-26T18:16:26.955Z"
   },
   {
    "duration": 125,
    "start_time": "2024-05-26T18:16:27.498Z"
   },
   {
    "duration": 9,
    "start_time": "2024-05-26T18:16:27.625Z"
   },
   {
    "duration": 45,
    "start_time": "2024-05-26T18:16:27.636Z"
   },
   {
    "duration": 25,
    "start_time": "2024-05-26T18:16:27.683Z"
   },
   {
    "duration": 2685,
    "start_time": "2024-05-26T18:21:13.637Z"
   },
   {
    "duration": 1274,
    "start_time": "2024-05-26T18:21:16.325Z"
   },
   {
    "duration": 79,
    "start_time": "2024-05-26T18:21:17.601Z"
   },
   {
    "duration": 4,
    "start_time": "2024-05-26T18:21:17.682Z"
   },
   {
    "duration": 23,
    "start_time": "2024-05-26T18:21:17.688Z"
   },
   {
    "duration": 13,
    "start_time": "2024-05-26T18:21:17.713Z"
   },
   {
    "duration": 5,
    "start_time": "2024-05-26T18:21:17.728Z"
   },
   {
    "duration": 37,
    "start_time": "2024-05-26T18:21:17.735Z"
   },
   {
    "duration": 22,
    "start_time": "2024-05-26T18:21:17.774Z"
   },
   {
    "duration": 11,
    "start_time": "2024-05-26T18:21:17.798Z"
   },
   {
    "duration": 13,
    "start_time": "2024-05-26T18:21:17.811Z"
   },
   {
    "duration": 4,
    "start_time": "2024-05-26T18:21:17.826Z"
   },
   {
    "duration": 32,
    "start_time": "2024-05-26T18:21:17.832Z"
   },
   {
    "duration": 84,
    "start_time": "2024-05-26T18:21:17.866Z"
   },
   {
    "duration": 27,
    "start_time": "2024-05-26T18:21:17.951Z"
   },
   {
    "duration": 23,
    "start_time": "2024-05-26T18:21:17.980Z"
   },
   {
    "duration": 511,
    "start_time": "2024-05-26T18:21:18.005Z"
   },
   {
    "duration": 201,
    "start_time": "2024-05-26T18:21:18.518Z"
   },
   {
    "duration": 5,
    "start_time": "2024-05-26T18:21:18.720Z"
   },
   {
    "duration": 1017,
    "start_time": "2024-05-26T18:21:18.727Z"
   },
   {
    "duration": 15,
    "start_time": "2024-05-26T18:21:19.746Z"
   },
   {
    "duration": 486,
    "start_time": "2024-05-26T18:21:19.763Z"
   },
   {
    "duration": 8,
    "start_time": "2024-05-26T18:21:20.251Z"
   },
   {
    "duration": 183,
    "start_time": "2024-05-26T18:21:20.261Z"
   },
   {
    "duration": 392,
    "start_time": "2024-05-26T18:21:20.446Z"
   },
   {
    "duration": 467,
    "start_time": "2024-05-26T18:21:20.839Z"
   },
   {
    "duration": 6522,
    "start_time": "2024-05-26T18:21:21.308Z"
   },
   {
    "duration": 10,
    "start_time": "2024-05-26T18:21:27.833Z"
   },
   {
    "duration": 15,
    "start_time": "2024-05-26T18:21:27.844Z"
   },
   {
    "duration": 480,
    "start_time": "2024-05-26T18:21:27.860Z"
   },
   {
    "duration": 794,
    "start_time": "2024-05-26T18:21:28.342Z"
   },
   {
    "duration": 9,
    "start_time": "2024-05-26T18:21:29.138Z"
   },
   {
    "duration": 5,
    "start_time": "2024-05-26T18:21:29.158Z"
   },
   {
    "duration": 399,
    "start_time": "2024-05-26T18:21:29.165Z"
   },
   {
    "duration": 360,
    "start_time": "2024-05-26T18:21:29.566Z"
   },
   {
    "duration": 296,
    "start_time": "2024-05-26T18:21:29.927Z"
   },
   {
    "duration": 427,
    "start_time": "2024-05-26T18:21:30.225Z"
   },
   {
    "duration": 289,
    "start_time": "2024-05-26T18:21:30.659Z"
   },
   {
    "duration": 286,
    "start_time": "2024-05-26T18:21:30.950Z"
   },
   {
    "duration": 283,
    "start_time": "2024-05-26T18:21:31.238Z"
   },
   {
    "duration": 300,
    "start_time": "2024-05-26T18:21:31.523Z"
   },
   {
    "duration": 990,
    "start_time": "2024-05-26T18:21:31.825Z"
   },
   {
    "duration": 515,
    "start_time": "2024-05-26T18:21:32.816Z"
   },
   {
    "duration": 531,
    "start_time": "2024-05-26T18:21:33.333Z"
   },
   {
    "duration": 120,
    "start_time": "2024-05-26T18:21:33.865Z"
   },
   {
    "duration": 10,
    "start_time": "2024-05-26T18:21:33.987Z"
   },
   {
    "duration": 21,
    "start_time": "2024-05-26T18:21:33.999Z"
   },
   {
    "duration": 51,
    "start_time": "2024-05-26T18:21:34.022Z"
   },
   {
    "duration": 2620,
    "start_time": "2024-05-26T18:23:08.573Z"
   },
   {
    "duration": 1218,
    "start_time": "2024-05-26T18:23:11.196Z"
   },
   {
    "duration": 74,
    "start_time": "2024-05-26T18:23:12.416Z"
   },
   {
    "duration": 3,
    "start_time": "2024-05-26T18:23:12.493Z"
   },
   {
    "duration": 19,
    "start_time": "2024-05-26T18:23:12.498Z"
   },
   {
    "duration": 14,
    "start_time": "2024-05-26T18:23:12.519Z"
   },
   {
    "duration": 3,
    "start_time": "2024-05-26T18:23:12.535Z"
   },
   {
    "duration": 37,
    "start_time": "2024-05-26T18:23:12.540Z"
   },
   {
    "duration": 19,
    "start_time": "2024-05-26T18:23:12.580Z"
   },
   {
    "duration": 10,
    "start_time": "2024-05-26T18:23:12.603Z"
   },
   {
    "duration": 13,
    "start_time": "2024-05-26T18:23:12.615Z"
   },
   {
    "duration": 31,
    "start_time": "2024-05-26T18:23:12.630Z"
   },
   {
    "duration": 53,
    "start_time": "2024-05-26T18:23:12.663Z"
   },
   {
    "duration": 19,
    "start_time": "2024-05-26T18:23:12.717Z"
   },
   {
    "duration": 33,
    "start_time": "2024-05-26T18:23:12.738Z"
   },
   {
    "duration": 34,
    "start_time": "2024-05-26T18:23:12.773Z"
   },
   {
    "duration": 468,
    "start_time": "2024-05-26T18:23:12.809Z"
   },
   {
    "duration": 188,
    "start_time": "2024-05-26T18:23:13.279Z"
   },
   {
    "duration": 5,
    "start_time": "2024-05-26T18:23:13.468Z"
   },
   {
    "duration": 900,
    "start_time": "2024-05-26T18:23:13.475Z"
   },
   {
    "duration": 18,
    "start_time": "2024-05-26T18:23:14.378Z"
   },
   {
    "duration": 503,
    "start_time": "2024-05-26T18:23:14.398Z"
   },
   {
    "duration": 5,
    "start_time": "2024-05-26T18:23:14.902Z"
   },
   {
    "duration": 214,
    "start_time": "2024-05-26T18:23:14.909Z"
   },
   {
    "duration": 438,
    "start_time": "2024-05-26T18:23:15.124Z"
   },
   {
    "duration": 464,
    "start_time": "2024-05-26T18:23:15.564Z"
   },
   {
    "duration": 7035,
    "start_time": "2024-05-26T18:23:16.029Z"
   },
   {
    "duration": 8,
    "start_time": "2024-05-26T18:23:23.068Z"
   },
   {
    "duration": 11,
    "start_time": "2024-05-26T18:23:23.077Z"
   },
   {
    "duration": 404,
    "start_time": "2024-05-26T18:23:23.090Z"
   },
   {
    "duration": 820,
    "start_time": "2024-05-26T18:23:23.495Z"
   },
   {
    "duration": 9,
    "start_time": "2024-05-26T18:23:24.317Z"
   },
   {
    "duration": 140,
    "start_time": "2024-05-26T18:23:24.327Z"
   },
   {
    "duration": 389,
    "start_time": "2024-05-26T18:23:24.468Z"
   },
   {
    "duration": 356,
    "start_time": "2024-05-26T18:23:24.858Z"
   },
   {
    "duration": 315,
    "start_time": "2024-05-26T18:23:25.216Z"
   },
   {
    "duration": 327,
    "start_time": "2024-05-26T18:23:25.532Z"
   },
   {
    "duration": 284,
    "start_time": "2024-05-26T18:23:25.860Z"
   },
   {
    "duration": 283,
    "start_time": "2024-05-26T18:23:26.147Z"
   },
   {
    "duration": 293,
    "start_time": "2024-05-26T18:23:26.432Z"
   },
   {
    "duration": 272,
    "start_time": "2024-05-26T18:23:26.727Z"
   },
   {
    "duration": 972,
    "start_time": "2024-05-26T18:23:27.001Z"
   },
   {
    "duration": 434,
    "start_time": "2024-05-26T18:23:27.975Z"
   },
   {
    "duration": 493,
    "start_time": "2024-05-26T18:23:28.411Z"
   },
   {
    "duration": 118,
    "start_time": "2024-05-26T18:23:28.906Z"
   },
   {
    "duration": 10,
    "start_time": "2024-05-26T18:23:29.025Z"
   },
   {
    "duration": 32,
    "start_time": "2024-05-26T18:23:29.036Z"
   },
   {
    "duration": 27,
    "start_time": "2024-05-26T18:23:29.070Z"
   },
   {
    "duration": 2646,
    "start_time": "2024-05-26T18:24:14.143Z"
   },
   {
    "duration": 1220,
    "start_time": "2024-05-26T18:24:16.791Z"
   },
   {
    "duration": 68,
    "start_time": "2024-05-26T18:24:18.013Z"
   },
   {
    "duration": 3,
    "start_time": "2024-05-26T18:24:18.083Z"
   },
   {
    "duration": 27,
    "start_time": "2024-05-26T18:24:18.088Z"
   },
   {
    "duration": 14,
    "start_time": "2024-05-26T18:24:18.116Z"
   },
   {
    "duration": 4,
    "start_time": "2024-05-26T18:24:18.131Z"
   },
   {
    "duration": 32,
    "start_time": "2024-05-26T18:24:18.137Z"
   },
   {
    "duration": 11,
    "start_time": "2024-05-26T18:24:18.170Z"
   },
   {
    "duration": 11,
    "start_time": "2024-05-26T18:24:18.184Z"
   },
   {
    "duration": 17,
    "start_time": "2024-05-26T18:24:18.197Z"
   },
   {
    "duration": 43,
    "start_time": "2024-05-26T18:24:18.216Z"
   },
   {
    "duration": 6,
    "start_time": "2024-05-26T18:24:18.261Z"
   },
   {
    "duration": 20,
    "start_time": "2024-05-26T18:24:18.269Z"
   },
   {
    "duration": 29,
    "start_time": "2024-05-26T18:24:18.290Z"
   },
   {
    "duration": 53,
    "start_time": "2024-05-26T18:24:18.322Z"
   },
   {
    "duration": 435,
    "start_time": "2024-05-26T18:24:18.378Z"
   },
   {
    "duration": 184,
    "start_time": "2024-05-26T18:24:18.815Z"
   },
   {
    "duration": 6,
    "start_time": "2024-05-26T18:24:19.000Z"
   },
   {
    "duration": 884,
    "start_time": "2024-05-26T18:24:19.007Z"
   },
   {
    "duration": 20,
    "start_time": "2024-05-26T18:24:19.894Z"
   },
   {
    "duration": 499,
    "start_time": "2024-05-26T18:24:19.916Z"
   },
   {
    "duration": 5,
    "start_time": "2024-05-26T18:24:20.417Z"
   },
   {
    "duration": 231,
    "start_time": "2024-05-26T18:24:20.424Z"
   },
   {
    "duration": 380,
    "start_time": "2024-05-26T18:24:20.657Z"
   },
   {
    "duration": 487,
    "start_time": "2024-05-26T18:24:21.039Z"
   },
   {
    "duration": 6430,
    "start_time": "2024-05-26T18:24:21.529Z"
   },
   {
    "duration": 10,
    "start_time": "2024-05-26T18:24:27.964Z"
   },
   {
    "duration": 4,
    "start_time": "2024-05-26T18:24:27.976Z"
   },
   {
    "duration": 400,
    "start_time": "2024-05-26T18:24:27.982Z"
   },
   {
    "duration": 791,
    "start_time": "2024-05-26T18:24:28.385Z"
   },
   {
    "duration": 8,
    "start_time": "2024-05-26T18:24:29.178Z"
   },
   {
    "duration": 17,
    "start_time": "2024-05-26T18:24:29.187Z"
   },
   {
    "duration": 387,
    "start_time": "2024-05-26T18:24:29.206Z"
   },
   {
    "duration": 363,
    "start_time": "2024-05-26T18:24:29.595Z"
   },
   {
    "duration": 335,
    "start_time": "2024-05-26T18:24:29.961Z"
   },
   {
    "duration": 327,
    "start_time": "2024-05-26T18:24:30.298Z"
   },
   {
    "duration": 294,
    "start_time": "2024-05-26T18:24:30.626Z"
   },
   {
    "duration": 285,
    "start_time": "2024-05-26T18:24:30.922Z"
   },
   {
    "duration": 300,
    "start_time": "2024-05-26T18:24:31.209Z"
   },
   {
    "duration": 312,
    "start_time": "2024-05-26T18:24:31.511Z"
   },
   {
    "duration": 957,
    "start_time": "2024-05-26T18:24:31.825Z"
   },
   {
    "duration": 448,
    "start_time": "2024-05-26T18:24:32.783Z"
   },
   {
    "duration": 510,
    "start_time": "2024-05-26T18:24:33.233Z"
   },
   {
    "duration": 123,
    "start_time": "2024-05-26T18:24:33.758Z"
   },
   {
    "duration": 9,
    "start_time": "2024-05-26T18:24:33.883Z"
   },
   {
    "duration": 69,
    "start_time": "2024-05-26T18:24:33.894Z"
   },
   {
    "duration": 24,
    "start_time": "2024-05-26T18:24:33.965Z"
   },
   {
    "duration": 140,
    "start_time": "2024-05-26T18:35:32.468Z"
   },
   {
    "duration": 144,
    "start_time": "2024-05-26T18:35:46.758Z"
   },
   {
    "duration": 138,
    "start_time": "2024-05-26T18:35:51.114Z"
   },
   {
    "duration": 123,
    "start_time": "2024-05-26T18:35:54.478Z"
   },
   {
    "duration": 136,
    "start_time": "2024-05-26T18:35:59.395Z"
   },
   {
    "duration": 139,
    "start_time": "2024-05-26T18:36:57.293Z"
   },
   {
    "duration": 129,
    "start_time": "2024-05-26T18:37:58.001Z"
   },
   {
    "duration": 129,
    "start_time": "2024-05-26T18:38:08.016Z"
   },
   {
    "duration": 262,
    "start_time": "2024-05-26T18:38:27.473Z"
   },
   {
    "duration": 134,
    "start_time": "2024-05-26T18:38:30.506Z"
   },
   {
    "duration": 142,
    "start_time": "2024-05-26T18:38:34.956Z"
   },
   {
    "duration": 214,
    "start_time": "2024-05-26T18:39:05.805Z"
   },
   {
    "duration": 130,
    "start_time": "2024-05-26T18:39:32.960Z"
   },
   {
    "duration": 128,
    "start_time": "2024-05-26T18:39:44.019Z"
   },
   {
    "duration": 145,
    "start_time": "2024-05-26T18:40:23.014Z"
   },
   {
    "duration": 2631,
    "start_time": "2024-05-26T18:52:42.931Z"
   },
   {
    "duration": 1270,
    "start_time": "2024-05-26T18:52:45.565Z"
   },
   {
    "duration": 80,
    "start_time": "2024-05-26T18:52:46.837Z"
   },
   {
    "duration": 3,
    "start_time": "2024-05-26T18:52:46.919Z"
   },
   {
    "duration": 48,
    "start_time": "2024-05-26T18:52:46.925Z"
   },
   {
    "duration": 13,
    "start_time": "2024-05-26T18:52:46.975Z"
   },
   {
    "duration": 2,
    "start_time": "2024-05-26T18:52:46.991Z"
   },
   {
    "duration": 14,
    "start_time": "2024-05-26T18:52:46.995Z"
   },
   {
    "duration": 17,
    "start_time": "2024-05-26T18:52:47.011Z"
   },
   {
    "duration": 32,
    "start_time": "2024-05-26T18:52:47.030Z"
   },
   {
    "duration": 14,
    "start_time": "2024-05-26T18:52:47.063Z"
   },
   {
    "duration": 4,
    "start_time": "2024-05-26T18:52:47.079Z"
   },
   {
    "duration": 11,
    "start_time": "2024-05-26T18:52:47.085Z"
   },
   {
    "duration": 21,
    "start_time": "2024-05-26T18:52:47.099Z"
   },
   {
    "duration": 55,
    "start_time": "2024-05-26T18:52:47.122Z"
   },
   {
    "duration": 25,
    "start_time": "2024-05-26T18:52:47.179Z"
   },
   {
    "duration": 498,
    "start_time": "2024-05-26T18:52:47.206Z"
   },
   {
    "duration": 192,
    "start_time": "2024-05-26T18:52:47.707Z"
   },
   {
    "duration": 6,
    "start_time": "2024-05-26T18:52:47.901Z"
   },
   {
    "duration": 923,
    "start_time": "2024-05-26T18:52:47.908Z"
   },
   {
    "duration": 32,
    "start_time": "2024-05-26T18:52:48.834Z"
   },
   {
    "duration": 523,
    "start_time": "2024-05-26T18:52:48.868Z"
   },
   {
    "duration": 4,
    "start_time": "2024-05-26T18:52:49.393Z"
   },
   {
    "duration": 195,
    "start_time": "2024-05-26T18:52:49.399Z"
   },
   {
    "duration": 400,
    "start_time": "2024-05-26T18:52:49.595Z"
   },
   {
    "duration": 473,
    "start_time": "2024-05-26T18:52:49.996Z"
   },
   {
    "duration": 6559,
    "start_time": "2024-05-26T18:52:50.471Z"
   },
   {
    "duration": 9,
    "start_time": "2024-05-26T18:52:57.031Z"
   },
   {
    "duration": 17,
    "start_time": "2024-05-26T18:52:57.042Z"
   },
   {
    "duration": 413,
    "start_time": "2024-05-26T18:52:57.060Z"
   },
   {
    "duration": 807,
    "start_time": "2024-05-26T18:52:57.475Z"
   },
   {
    "duration": 8,
    "start_time": "2024-05-26T18:52:58.284Z"
   },
   {
    "duration": 6,
    "start_time": "2024-05-26T18:52:58.294Z"
   },
   {
    "duration": 402,
    "start_time": "2024-05-26T18:52:58.302Z"
   },
   {
    "duration": 362,
    "start_time": "2024-05-26T18:52:58.706Z"
   },
   {
    "duration": 352,
    "start_time": "2024-05-26T18:52:59.071Z"
   },
   {
    "duration": 326,
    "start_time": "2024-05-26T18:52:59.425Z"
   },
   {
    "duration": 279,
    "start_time": "2024-05-26T18:52:59.753Z"
   },
   {
    "duration": 289,
    "start_time": "2024-05-26T18:53:00.034Z"
   },
   {
    "duration": 296,
    "start_time": "2024-05-26T18:53:00.324Z"
   },
   {
    "duration": 470,
    "start_time": "2024-05-26T18:53:00.624Z"
   },
   {
    "duration": 1076,
    "start_time": "2024-05-26T18:53:01.096Z"
   },
   {
    "duration": 443,
    "start_time": "2024-05-26T18:53:02.174Z"
   },
   {
    "duration": 517,
    "start_time": "2024-05-26T18:53:02.619Z"
   },
   {
    "duration": 146,
    "start_time": "2024-05-26T18:53:03.138Z"
   },
   {
    "duration": 19,
    "start_time": "2024-05-26T18:53:03.285Z"
   },
   {
    "duration": 133,
    "start_time": "2024-05-26T18:53:03.306Z"
   },
   {
    "duration": 19,
    "start_time": "2024-05-26T18:53:03.441Z"
   },
   {
    "duration": 65,
    "start_time": "2024-05-26T18:53:03.463Z"
   },
   {
    "duration": 22,
    "start_time": "2024-05-26T18:53:03.531Z"
   },
   {
    "duration": 34,
    "start_time": "2024-05-26T18:53:03.555Z"
   },
   {
    "duration": 128,
    "start_time": "2024-05-26T19:35:07.795Z"
   },
   {
    "duration": 120,
    "start_time": "2024-05-26T19:38:12.988Z"
   },
   {
    "duration": 11,
    "start_time": "2024-05-26T19:38:22.261Z"
   },
   {
    "duration": 125,
    "start_time": "2024-05-26T19:38:32.096Z"
   },
   {
    "duration": 111,
    "start_time": "2024-05-26T19:39:07.365Z"
   },
   {
    "duration": 118,
    "start_time": "2024-05-26T19:39:31.778Z"
   },
   {
    "duration": 9,
    "start_time": "2024-05-26T19:41:26.316Z"
   },
   {
    "duration": 2743,
    "start_time": "2024-05-26T19:47:40.980Z"
   },
   {
    "duration": 1356,
    "start_time": "2024-05-26T19:47:43.726Z"
   },
   {
    "duration": 167,
    "start_time": "2024-05-26T19:47:45.084Z"
   },
   {
    "duration": 3,
    "start_time": "2024-05-26T19:47:45.253Z"
   },
   {
    "duration": 19,
    "start_time": "2024-05-26T19:47:45.258Z"
   },
   {
    "duration": 34,
    "start_time": "2024-05-26T19:47:45.279Z"
   },
   {
    "duration": 30,
    "start_time": "2024-05-26T19:47:45.314Z"
   },
   {
    "duration": 19,
    "start_time": "2024-05-26T19:47:45.346Z"
   },
   {
    "duration": 14,
    "start_time": "2024-05-26T19:47:45.367Z"
   },
   {
    "duration": 9,
    "start_time": "2024-05-26T19:47:45.384Z"
   },
   {
    "duration": 14,
    "start_time": "2024-05-26T19:47:45.395Z"
   },
   {
    "duration": 4,
    "start_time": "2024-05-26T19:47:45.411Z"
   },
   {
    "duration": 8,
    "start_time": "2024-05-26T19:47:45.416Z"
   },
   {
    "duration": 21,
    "start_time": "2024-05-26T19:47:45.459Z"
   },
   {
    "duration": 28,
    "start_time": "2024-05-26T19:47:45.482Z"
   },
   {
    "duration": 51,
    "start_time": "2024-05-26T19:47:45.512Z"
   },
   {
    "duration": 428,
    "start_time": "2024-05-26T19:47:45.565Z"
   },
   {
    "duration": 190,
    "start_time": "2024-05-26T19:47:45.995Z"
   },
   {
    "duration": 5,
    "start_time": "2024-05-26T19:47:46.186Z"
   },
   {
    "duration": 922,
    "start_time": "2024-05-26T19:47:46.193Z"
   },
   {
    "duration": 15,
    "start_time": "2024-05-26T19:47:47.118Z"
   },
   {
    "duration": 495,
    "start_time": "2024-05-26T19:47:47.134Z"
   },
   {
    "duration": 5,
    "start_time": "2024-05-26T19:47:47.631Z"
   },
   {
    "duration": 208,
    "start_time": "2024-05-26T19:47:47.638Z"
   },
   {
    "duration": 428,
    "start_time": "2024-05-26T19:47:47.848Z"
   },
   {
    "duration": 458,
    "start_time": "2024-05-26T19:47:48.278Z"
   },
   {
    "duration": 6603,
    "start_time": "2024-05-26T19:47:48.738Z"
   },
   {
    "duration": 14,
    "start_time": "2024-05-26T19:47:55.347Z"
   },
   {
    "duration": 5,
    "start_time": "2024-05-26T19:47:55.363Z"
   },
   {
    "duration": 447,
    "start_time": "2024-05-26T19:47:55.370Z"
   },
   {
    "duration": 776,
    "start_time": "2024-05-26T19:47:55.819Z"
   },
   {
    "duration": 9,
    "start_time": "2024-05-26T19:47:56.597Z"
   },
   {
    "duration": 80,
    "start_time": "2024-05-26T19:47:56.608Z"
   },
   {
    "duration": 413,
    "start_time": "2024-05-26T19:47:56.690Z"
   },
   {
    "duration": 339,
    "start_time": "2024-05-26T19:47:57.105Z"
   },
   {
    "duration": 348,
    "start_time": "2024-05-26T19:47:57.446Z"
   },
   {
    "duration": 330,
    "start_time": "2024-05-26T19:47:57.796Z"
   },
   {
    "duration": 306,
    "start_time": "2024-05-26T19:47:58.128Z"
   },
   {
    "duration": 282,
    "start_time": "2024-05-26T19:47:58.436Z"
   },
   {
    "duration": 282,
    "start_time": "2024-05-26T19:47:58.720Z"
   },
   {
    "duration": 310,
    "start_time": "2024-05-26T19:47:59.004Z"
   },
   {
    "duration": 420,
    "start_time": "2024-05-26T19:47:59.315Z"
   },
   {
    "duration": 1084,
    "start_time": "2024-05-26T19:47:59.737Z"
   },
   {
    "duration": 978,
    "start_time": "2024-05-26T19:48:00.823Z"
   },
   {
    "duration": 62,
    "start_time": "2024-05-26T19:48:01.803Z"
   },
   {
    "duration": 157,
    "start_time": "2024-05-26T19:48:01.867Z"
   },
   {
    "duration": 35,
    "start_time": "2024-05-26T19:48:02.026Z"
   },
   {
    "duration": 128,
    "start_time": "2024-05-26T19:48:02.064Z"
   },
   {
    "duration": 138,
    "start_time": "2024-05-26T19:48:02.194Z"
   },
   {
    "duration": 124,
    "start_time": "2024-05-26T19:48:02.333Z"
   },
   {
    "duration": 12,
    "start_time": "2024-05-26T19:48:02.459Z"
   },
   {
    "duration": 32,
    "start_time": "2024-05-26T19:48:02.473Z"
   },
   {
    "duration": 2662,
    "start_time": "2024-05-26T20:13:01.877Z"
   },
   {
    "duration": 1304,
    "start_time": "2024-05-26T20:13:04.542Z"
   },
   {
    "duration": 81,
    "start_time": "2024-05-26T20:13:05.848Z"
   },
   {
    "duration": 3,
    "start_time": "2024-05-26T20:13:05.931Z"
   },
   {
    "duration": 23,
    "start_time": "2024-05-26T20:13:05.935Z"
   },
   {
    "duration": 13,
    "start_time": "2024-05-26T20:13:05.960Z"
   },
   {
    "duration": 3,
    "start_time": "2024-05-26T20:13:05.975Z"
   },
   {
    "duration": 15,
    "start_time": "2024-05-26T20:13:05.979Z"
   },
   {
    "duration": 12,
    "start_time": "2024-05-26T20:13:05.995Z"
   },
   {
    "duration": 9,
    "start_time": "2024-05-26T20:13:06.009Z"
   },
   {
    "duration": 47,
    "start_time": "2024-05-26T20:13:06.019Z"
   },
   {
    "duration": 4,
    "start_time": "2024-05-26T20:13:06.068Z"
   },
   {
    "duration": 10,
    "start_time": "2024-05-26T20:13:06.073Z"
   },
   {
    "duration": 18,
    "start_time": "2024-05-26T20:13:06.084Z"
   },
   {
    "duration": 24,
    "start_time": "2024-05-26T20:13:06.104Z"
   },
   {
    "duration": 50,
    "start_time": "2024-05-26T20:13:06.130Z"
   },
   {
    "duration": 443,
    "start_time": "2024-05-26T20:13:06.182Z"
   },
   {
    "duration": 184,
    "start_time": "2024-05-26T20:13:06.626Z"
   },
   {
    "duration": 5,
    "start_time": "2024-05-26T20:13:06.811Z"
   },
   {
    "duration": 843,
    "start_time": "2024-05-26T20:13:06.817Z"
   },
   {
    "duration": 15,
    "start_time": "2024-05-26T20:13:07.662Z"
   },
   {
    "duration": 517,
    "start_time": "2024-05-26T20:13:07.679Z"
   },
   {
    "duration": 5,
    "start_time": "2024-05-26T20:13:08.197Z"
   },
   {
    "duration": 205,
    "start_time": "2024-05-26T20:13:08.203Z"
   },
   {
    "duration": 414,
    "start_time": "2024-05-26T20:13:08.410Z"
   },
   {
    "duration": 445,
    "start_time": "2024-05-26T20:13:08.825Z"
   },
   {
    "duration": 6425,
    "start_time": "2024-05-26T20:13:09.271Z"
   },
   {
    "duration": 9,
    "start_time": "2024-05-26T20:13:15.701Z"
   },
   {
    "duration": 5,
    "start_time": "2024-05-26T20:13:15.712Z"
   },
   {
    "duration": 408,
    "start_time": "2024-05-26T20:13:15.719Z"
   },
   {
    "duration": 846,
    "start_time": "2024-05-26T20:13:16.129Z"
   },
   {
    "duration": 12,
    "start_time": "2024-05-26T20:13:16.977Z"
   },
   {
    "duration": 43,
    "start_time": "2024-05-26T20:13:16.991Z"
   },
   {
    "duration": 466,
    "start_time": "2024-05-26T20:13:17.036Z"
   },
   {
    "duration": 378,
    "start_time": "2024-05-26T20:13:17.503Z"
   },
   {
    "duration": 314,
    "start_time": "2024-05-26T20:13:17.883Z"
   },
   {
    "duration": 331,
    "start_time": "2024-05-26T20:13:18.199Z"
   },
   {
    "duration": 296,
    "start_time": "2024-05-26T20:13:18.532Z"
   },
   {
    "duration": 333,
    "start_time": "2024-05-26T20:13:18.829Z"
   },
   {
    "duration": 335,
    "start_time": "2024-05-26T20:13:19.165Z"
   },
   {
    "duration": 373,
    "start_time": "2024-05-26T20:13:19.501Z"
   },
   {
    "duration": 578,
    "start_time": "2024-05-26T20:13:19.876Z"
   },
   {
    "duration": 23,
    "start_time": "2024-05-26T20:13:20.456Z"
   },
   {
    "duration": 974,
    "start_time": "2024-05-26T20:13:20.480Z"
   },
   {
    "duration": 899,
    "start_time": "2024-05-26T20:13:21.456Z"
   },
   {
    "duration": 54,
    "start_time": "2024-05-26T20:13:22.356Z"
   },
   {
    "duration": 152,
    "start_time": "2024-05-26T20:13:22.412Z"
   },
   {
    "duration": 16,
    "start_time": "2024-05-26T20:13:22.565Z"
   },
   {
    "duration": 139,
    "start_time": "2024-05-26T20:13:22.583Z"
   },
   {
    "duration": 137,
    "start_time": "2024-05-26T20:13:22.724Z"
   },
   {
    "duration": 121,
    "start_time": "2024-05-26T20:13:22.863Z"
   },
   {
    "duration": 9,
    "start_time": "2024-05-26T20:13:22.986Z"
   },
   {
    "duration": 35,
    "start_time": "2024-05-26T20:13:22.996Z"
   },
   {
    "duration": 2624,
    "start_time": "2024-05-26T20:16:58.028Z"
   },
   {
    "duration": 1364,
    "start_time": "2024-05-26T20:17:00.655Z"
   },
   {
    "duration": 96,
    "start_time": "2024-05-26T20:17:02.021Z"
   },
   {
    "duration": 3,
    "start_time": "2024-05-26T20:17:02.120Z"
   },
   {
    "duration": 29,
    "start_time": "2024-05-26T20:17:02.125Z"
   },
   {
    "duration": 14,
    "start_time": "2024-05-26T20:17:02.156Z"
   },
   {
    "duration": 4,
    "start_time": "2024-05-26T20:17:02.172Z"
   },
   {
    "duration": 31,
    "start_time": "2024-05-26T20:17:02.177Z"
   },
   {
    "duration": 14,
    "start_time": "2024-05-26T20:17:02.210Z"
   },
   {
    "duration": 10,
    "start_time": "2024-05-26T20:17:02.228Z"
   },
   {
    "duration": 29,
    "start_time": "2024-05-26T20:17:02.240Z"
   },
   {
    "duration": 5,
    "start_time": "2024-05-26T20:17:02.271Z"
   },
   {
    "duration": 12,
    "start_time": "2024-05-26T20:17:02.278Z"
   },
   {
    "duration": 23,
    "start_time": "2024-05-26T20:17:02.292Z"
   },
   {
    "duration": 49,
    "start_time": "2024-05-26T20:17:02.317Z"
   },
   {
    "duration": 24,
    "start_time": "2024-05-26T20:17:02.369Z"
   },
   {
    "duration": 486,
    "start_time": "2024-05-26T20:17:02.395Z"
   },
   {
    "duration": 191,
    "start_time": "2024-05-26T20:17:02.884Z"
   },
   {
    "duration": 5,
    "start_time": "2024-05-26T20:17:03.077Z"
   },
   {
    "duration": 885,
    "start_time": "2024-05-26T20:17:03.083Z"
   },
   {
    "duration": 14,
    "start_time": "2024-05-26T20:17:03.970Z"
   },
   {
    "duration": 553,
    "start_time": "2024-05-26T20:17:03.986Z"
   },
   {
    "duration": 5,
    "start_time": "2024-05-26T20:17:04.541Z"
   },
   {
    "duration": 213,
    "start_time": "2024-05-26T20:17:04.548Z"
   },
   {
    "duration": 385,
    "start_time": "2024-05-26T20:17:04.763Z"
   },
   {
    "duration": 467,
    "start_time": "2024-05-26T20:17:05.149Z"
   },
   {
    "duration": 6438,
    "start_time": "2024-05-26T20:17:05.617Z"
   },
   {
    "duration": 10,
    "start_time": "2024-05-26T20:17:12.060Z"
   },
   {
    "duration": 5,
    "start_time": "2024-05-26T20:17:12.071Z"
   },
   {
    "duration": 405,
    "start_time": "2024-05-26T20:17:12.077Z"
   },
   {
    "duration": 811,
    "start_time": "2024-05-26T20:17:12.483Z"
   },
   {
    "duration": 8,
    "start_time": "2024-05-26T20:17:13.296Z"
   },
   {
    "duration": 14,
    "start_time": "2024-05-26T20:17:13.306Z"
   },
   {
    "duration": 403,
    "start_time": "2024-05-26T20:17:13.322Z"
   },
   {
    "duration": 340,
    "start_time": "2024-05-26T20:17:13.727Z"
   },
   {
    "duration": 327,
    "start_time": "2024-05-26T20:17:14.069Z"
   },
   {
    "duration": 326,
    "start_time": "2024-05-26T20:17:14.398Z"
   },
   {
    "duration": 294,
    "start_time": "2024-05-26T20:17:14.726Z"
   },
   {
    "duration": 283,
    "start_time": "2024-05-26T20:17:15.022Z"
   },
   {
    "duration": 301,
    "start_time": "2024-05-26T20:17:15.307Z"
   },
   {
    "duration": 281,
    "start_time": "2024-05-26T20:17:15.610Z"
   },
   {
    "duration": 386,
    "start_time": "2024-05-26T20:17:15.893Z"
   },
   {
    "duration": 21,
    "start_time": "2024-05-26T20:17:16.281Z"
   },
   {
    "duration": 934,
    "start_time": "2024-05-26T20:17:16.304Z"
   },
   {
    "duration": 915,
    "start_time": "2024-05-26T20:17:17.239Z"
   },
   {
    "duration": 56,
    "start_time": "2024-05-26T20:17:18.160Z"
   },
   {
    "duration": 150,
    "start_time": "2024-05-26T20:17:18.218Z"
   },
   {
    "duration": 17,
    "start_time": "2024-05-26T20:17:18.370Z"
   },
   {
    "duration": 131,
    "start_time": "2024-05-26T20:17:18.389Z"
   },
   {
    "duration": 132,
    "start_time": "2024-05-26T20:17:18.522Z"
   },
   {
    "duration": 132,
    "start_time": "2024-05-26T20:17:18.659Z"
   },
   {
    "duration": 10,
    "start_time": "2024-05-26T20:17:18.793Z"
   },
   {
    "duration": 26,
    "start_time": "2024-05-26T20:17:18.804Z"
   },
   {
    "duration": 1052,
    "start_time": "2024-05-26T20:21:36.361Z"
   },
   {
    "duration": 2754,
    "start_time": "2024-05-26T20:25:00.162Z"
   },
   {
    "duration": 1185,
    "start_time": "2024-05-26T20:25:02.918Z"
   },
   {
    "duration": 99,
    "start_time": "2024-05-26T20:25:04.105Z"
   },
   {
    "duration": 4,
    "start_time": "2024-05-26T20:25:04.206Z"
   },
   {
    "duration": 26,
    "start_time": "2024-05-26T20:25:04.212Z"
   },
   {
    "duration": 31,
    "start_time": "2024-05-26T20:25:04.240Z"
   },
   {
    "duration": 26,
    "start_time": "2024-05-26T20:25:04.273Z"
   },
   {
    "duration": 18,
    "start_time": "2024-05-26T20:25:04.300Z"
   },
   {
    "duration": 35,
    "start_time": "2024-05-26T20:25:04.320Z"
   },
   {
    "duration": 9,
    "start_time": "2024-05-26T20:25:04.358Z"
   },
   {
    "duration": 13,
    "start_time": "2024-05-26T20:25:04.369Z"
   },
   {
    "duration": 7,
    "start_time": "2024-05-26T20:25:04.383Z"
   },
   {
    "duration": 65,
    "start_time": "2024-05-26T20:25:04.391Z"
   },
   {
    "duration": 20,
    "start_time": "2024-05-26T20:25:04.459Z"
   },
   {
    "duration": 26,
    "start_time": "2024-05-26T20:25:04.480Z"
   },
   {
    "duration": 34,
    "start_time": "2024-05-26T20:25:04.507Z"
   },
   {
    "duration": 436,
    "start_time": "2024-05-26T20:25:04.542Z"
   },
   {
    "duration": 186,
    "start_time": "2024-05-26T20:25:04.979Z"
   },
   {
    "duration": 5,
    "start_time": "2024-05-26T20:25:05.166Z"
   },
   {
    "duration": 883,
    "start_time": "2024-05-26T20:25:05.173Z"
   },
   {
    "duration": 20,
    "start_time": "2024-05-26T20:25:06.058Z"
   },
   {
    "duration": 510,
    "start_time": "2024-05-26T20:25:06.080Z"
   },
   {
    "duration": 4,
    "start_time": "2024-05-26T20:25:06.592Z"
   },
   {
    "duration": 194,
    "start_time": "2024-05-26T20:25:06.598Z"
   },
   {
    "duration": 387,
    "start_time": "2024-05-26T20:25:06.794Z"
   },
   {
    "duration": 463,
    "start_time": "2024-05-26T20:25:07.183Z"
   },
   {
    "duration": 6361,
    "start_time": "2024-05-26T20:25:07.648Z"
   },
   {
    "duration": 8,
    "start_time": "2024-05-26T20:25:14.011Z"
   },
   {
    "duration": 5,
    "start_time": "2024-05-26T20:25:14.021Z"
   },
   {
    "duration": 401,
    "start_time": "2024-05-26T20:25:14.028Z"
   },
   {
    "duration": 764,
    "start_time": "2024-05-26T20:25:14.430Z"
   },
   {
    "duration": 9,
    "start_time": "2024-05-26T20:25:15.195Z"
   },
   {
    "duration": 14,
    "start_time": "2024-05-26T20:25:15.206Z"
   },
   {
    "duration": 409,
    "start_time": "2024-05-26T20:25:15.222Z"
   },
   {
    "duration": 338,
    "start_time": "2024-05-26T20:25:15.633Z"
   },
   {
    "duration": 322,
    "start_time": "2024-05-26T20:25:15.973Z"
   },
   {
    "duration": 329,
    "start_time": "2024-05-26T20:25:16.297Z"
   },
   {
    "duration": 291,
    "start_time": "2024-05-26T20:25:16.628Z"
   },
   {
    "duration": 285,
    "start_time": "2024-05-26T20:25:16.920Z"
   },
   {
    "duration": 295,
    "start_time": "2024-05-26T20:25:17.207Z"
   },
   {
    "duration": 285,
    "start_time": "2024-05-26T20:25:17.506Z"
   },
   {
    "duration": 483,
    "start_time": "2024-05-26T20:25:17.793Z"
   },
   {
    "duration": 20,
    "start_time": "2024-05-26T20:25:18.278Z"
   },
   {
    "duration": 1613,
    "start_time": "2024-05-26T20:25:18.300Z"
   },
   {
    "duration": 1280,
    "start_time": "2024-05-26T20:25:19.914Z"
   },
   {
    "duration": 512,
    "start_time": "2024-05-26T20:25:21.196Z"
   },
   {
    "duration": 64,
    "start_time": "2024-05-26T20:25:21.710Z"
   },
   {
    "duration": 140,
    "start_time": "2024-05-26T20:25:21.776Z"
   },
   {
    "duration": 16,
    "start_time": "2024-05-26T20:25:21.918Z"
   },
   {
    "duration": 138,
    "start_time": "2024-05-26T20:25:21.936Z"
   },
   {
    "duration": 129,
    "start_time": "2024-05-26T20:25:22.076Z"
   },
   {
    "duration": 120,
    "start_time": "2024-05-26T20:25:22.207Z"
   },
   {
    "duration": 8,
    "start_time": "2024-05-26T20:25:22.329Z"
   },
   {
    "duration": 38,
    "start_time": "2024-05-26T20:25:22.338Z"
   },
   {
    "duration": 3043,
    "start_time": "2024-05-27T08:13:00.016Z"
   },
   {
    "duration": 1364,
    "start_time": "2024-05-27T08:13:03.061Z"
   },
   {
    "duration": 157,
    "start_time": "2024-05-27T08:13:04.427Z"
   },
   {
    "duration": 3,
    "start_time": "2024-05-27T08:13:04.586Z"
   },
   {
    "duration": 16,
    "start_time": "2024-05-27T08:13:04.590Z"
   },
   {
    "duration": 11,
    "start_time": "2024-05-27T08:13:04.607Z"
   },
   {
    "duration": 3,
    "start_time": "2024-05-27T08:13:04.619Z"
   },
   {
    "duration": 12,
    "start_time": "2024-05-27T08:13:04.623Z"
   },
   {
    "duration": 9,
    "start_time": "2024-05-27T08:13:04.637Z"
   },
   {
    "duration": 8,
    "start_time": "2024-05-27T08:13:04.648Z"
   },
   {
    "duration": 11,
    "start_time": "2024-05-27T08:13:04.658Z"
   },
   {
    "duration": 31,
    "start_time": "2024-05-27T08:13:04.670Z"
   },
   {
    "duration": 11,
    "start_time": "2024-05-27T08:13:04.703Z"
   },
   {
    "duration": 20,
    "start_time": "2024-05-27T08:13:04.715Z"
   },
   {
    "duration": 22,
    "start_time": "2024-05-27T08:13:04.737Z"
   },
   {
    "duration": 20,
    "start_time": "2024-05-27T08:13:04.761Z"
   },
   {
    "duration": 451,
    "start_time": "2024-05-27T08:13:04.783Z"
   },
   {
    "duration": 150,
    "start_time": "2024-05-27T08:13:05.236Z"
   },
   {
    "duration": 12,
    "start_time": "2024-05-27T08:13:05.387Z"
   },
   {
    "duration": 770,
    "start_time": "2024-05-27T08:13:05.401Z"
   },
   {
    "duration": 13,
    "start_time": "2024-05-27T08:13:06.173Z"
   },
   {
    "duration": 427,
    "start_time": "2024-05-27T08:13:06.187Z"
   },
   {
    "duration": 4,
    "start_time": "2024-05-27T08:13:06.615Z"
   },
   {
    "duration": 162,
    "start_time": "2024-05-27T08:13:06.621Z"
   },
   {
    "duration": 333,
    "start_time": "2024-05-27T08:13:06.785Z"
   },
   {
    "duration": 371,
    "start_time": "2024-05-27T08:13:07.119Z"
   },
   {
    "duration": 5494,
    "start_time": "2024-05-27T08:13:07.492Z"
   },
   {
    "duration": 12,
    "start_time": "2024-05-27T08:13:12.989Z"
   },
   {
    "duration": 4,
    "start_time": "2024-05-27T08:13:13.002Z"
   },
   {
    "duration": 331,
    "start_time": "2024-05-27T08:13:13.007Z"
   },
   {
    "duration": 675,
    "start_time": "2024-05-27T08:13:13.339Z"
   },
   {
    "duration": 7,
    "start_time": "2024-05-27T08:13:14.016Z"
   },
   {
    "duration": 12,
    "start_time": "2024-05-27T08:13:14.025Z"
   },
   {
    "duration": 329,
    "start_time": "2024-05-27T08:13:14.039Z"
   },
   {
    "duration": 287,
    "start_time": "2024-05-27T08:13:14.370Z"
   },
   {
    "duration": 270,
    "start_time": "2024-05-27T08:13:14.658Z"
   },
   {
    "duration": 286,
    "start_time": "2024-05-27T08:13:14.930Z"
   },
   {
    "duration": 238,
    "start_time": "2024-05-27T08:13:15.217Z"
   },
   {
    "duration": 267,
    "start_time": "2024-05-27T08:13:15.456Z"
   },
   {
    "duration": 228,
    "start_time": "2024-05-27T08:13:15.725Z"
   },
   {
    "duration": 267,
    "start_time": "2024-05-27T08:13:15.955Z"
   },
   {
    "duration": 384,
    "start_time": "2024-05-27T08:13:16.223Z"
   },
   {
    "duration": 834,
    "start_time": "2024-05-27T08:13:16.608Z"
   },
   {
    "duration": 726,
    "start_time": "2024-05-27T08:13:17.444Z"
   },
   {
    "duration": 59,
    "start_time": "2024-05-27T08:13:18.172Z"
   },
   {
    "duration": 121,
    "start_time": "2024-05-27T08:13:18.233Z"
   },
   {
    "duration": 14,
    "start_time": "2024-05-27T08:13:18.356Z"
   },
   {
    "duration": 108,
    "start_time": "2024-05-27T08:13:18.371Z"
   },
   {
    "duration": 118,
    "start_time": "2024-05-27T08:13:18.481Z"
   },
   {
    "duration": 100,
    "start_time": "2024-05-27T08:13:18.601Z"
   },
   {
    "duration": 8,
    "start_time": "2024-05-27T08:13:18.702Z"
   },
   {
    "duration": 21,
    "start_time": "2024-05-27T08:13:18.712Z"
   },
   {
    "duration": 77,
    "start_time": "2024-05-27T08:13:18.735Z"
   }
  ],
  "kernelspec": {
   "display_name": "Python 3 (ipykernel)",
   "language": "python",
   "name": "python3"
  },
  "language_info": {
   "codemirror_mode": {
    "name": "ipython",
    "version": 3
   },
   "file_extension": ".py",
   "mimetype": "text/x-python",
   "name": "python",
   "nbconvert_exporter": "python",
   "pygments_lexer": "ipython3",
   "version": "3.12.0"
  },
  "toc": {
   "base_numbering": 1,
   "nav_menu": {},
   "number_sections": true,
   "sideBar": true,
   "skip_h1_title": true,
   "title_cell": "Table of Contents",
   "title_sidebar": "Contents",
   "toc_cell": false,
   "toc_position": {
    "height": "calc(100% - 180px)",
    "left": "10px",
    "top": "150px",
    "width": "372px"
   },
   "toc_section_display": true,
   "toc_window_display": false
  }
 },
 "nbformat": 4,
 "nbformat_minor": 4
}
